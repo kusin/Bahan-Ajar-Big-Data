{
 "cells": [
  {
   "cell_type": "markdown",
   "source": [
    "### Multivariate LSTM-RNN Sumatera Selatan"
   ],
   "metadata": {}
  },
  {
   "cell_type": "code",
   "execution_count": 1,
   "source": [
    "# pustaka untuk manipulasi data\r\n",
    "import pandas as pd\r\n",
    "from pandas import concat\r\n",
    "from pandas import DataFrame\r\n",
    "from pandas import read_csv\r\n",
    "from pandas import read_excel\r\n",
    "import numpy as np\r\n",
    "from numpy import concatenate\r\n",
    "\r\n",
    "# pustaka untuk waktu komputasi\r\n",
    "import time\r\n",
    "from datetime import datetime\r\n",
    "\r\n",
    "# Pustaka untuk visualisasi data\r\n",
    "import seaborn as sns # Visualization\r\n",
    "from matplotlib import pyplot\r\n",
    "from matplotlib import pyplot as plt\r\n",
    "\r\n",
    "# Pustaka untuk membuat data latih dan data uji.\r\n",
    "from sklearn.preprocessing import MinMaxScaler\r\n",
    "from sklearn.preprocessing import LabelEncoder\r\n",
    "\r\n",
    "# Pustaka untuk membuat model prediksi LSTM-RNN\r\n",
    "import itertools\r\n",
    "import tensorflow as tf\r\n",
    "from keras.models import Sequential\r\n",
    "from keras.layers import Dense\r\n",
    "from keras.layers import Dropout\r\n",
    "from keras.layers import LSTM\r\n",
    "from keras.optimizers import Adam, Adamax, RMSprop, SGD, Adagrad, Nadam\r\n",
    "\r\n",
    "# Early stoping\r\n",
    "from keras.callbacks import EarlyStopping\r\n",
    "from keras.callbacks import ModelCheckpoint\r\n",
    "\r\n",
    "# Pustaka untuk  evaluasi model prediksi\r\n",
    "from math import sqrt\r\n",
    "from sklearn.metrics import mean_squared_error"
   ],
   "outputs": [],
   "metadata": {}
  },
  {
   "cell_type": "code",
   "execution_count": 2,
   "source": [
    "# Set waktu komputasi\r\n",
    "start = time.time()"
   ],
   "outputs": [],
   "metadata": {}
  },
  {
   "cell_type": "code",
   "execution_count": 3,
   "source": [
    "# fix random seed for reproducibility\r\n",
    "np.random.seed(7)"
   ],
   "outputs": [],
   "metadata": {}
  },
  {
   "cell_type": "code",
   "execution_count": 4,
   "source": [
    "# membaca dataset\r\n",
    "dataset = read_excel(\"D:/Bahan Ajar Big Data/dataset/dataset_lstm_rnn.xlsx\")"
   ],
   "outputs": [],
   "metadata": {}
  },
  {
   "cell_type": "code",
   "execution_count": 5,
   "source": [
    "# set index tanggal\r\n",
    "dataset = dataset.set_index(\"tanggal\")"
   ],
   "outputs": [],
   "metadata": {}
  },
  {
   "cell_type": "code",
   "execution_count": 6,
   "source": [
    "dataset.info()"
   ],
   "outputs": [
    {
     "output_type": "stream",
     "name": "stdout",
     "text": [
      "<class 'pandas.core.frame.DataFrame'>\n",
      "DatetimeIndex: 240 entries, 2001-01-31 to 2020-12-31\n",
      "Data columns (total 5 columns):\n",
      " #   Column          Non-Null Count  Dtype  \n",
      "---  ------          --------------  -----  \n",
      " 0   sst             240 non-null    float64\n",
      " 1   soi             240 non-null    float64\n",
      " 2   oni             240 non-null    float64\n",
      " 3   hotspot_riau    240 non-null    int64  \n",
      " 4   hotspot_sumsel  240 non-null    int64  \n",
      "dtypes: float64(3), int64(2)\n",
      "memory usage: 11.2 KB\n"
     ]
    }
   ],
   "metadata": {}
  },
  {
   "cell_type": "code",
   "execution_count": 7,
   "source": [
    "print(dataset.head())"
   ],
   "outputs": [
    {
     "output_type": "stream",
     "name": "stdout",
     "text": [
      "             sst  soi   oni  hotspot_riau  hotspot_sumsel\n",
      "tanggal                                                  \n",
      "2001-01-31 -0.83  1.6 -0.68            17               3\n",
      "2001-02-28 -0.61  2.8 -0.52           159               5\n",
      "2001-03-31 -0.38  1.5 -0.44           479              10\n",
      "2001-04-30 -0.26  0.3 -0.34            45              20\n",
      "2001-05-31 -0.25 -0.8 -0.25            81              39\n"
     ]
    }
   ],
   "metadata": {}
  },
  {
   "cell_type": "markdown",
   "source": [
    "### Studi Kasus Sumatera Selatan"
   ],
   "metadata": {}
  },
  {
   "cell_type": "code",
   "execution_count": 8,
   "source": [
    "# memilih area studi\r\n",
    "df_sumsel = dataset[[\"hotspot_sumsel\", \"sst\", \"soi\", \"oni\"]]\r\n",
    "df_sumsel.info()"
   ],
   "outputs": [
    {
     "output_type": "stream",
     "name": "stdout",
     "text": [
      "<class 'pandas.core.frame.DataFrame'>\n",
      "DatetimeIndex: 240 entries, 2001-01-31 to 2020-12-31\n",
      "Data columns (total 4 columns):\n",
      " #   Column          Non-Null Count  Dtype  \n",
      "---  ------          --------------  -----  \n",
      " 0   hotspot_sumsel  240 non-null    int64  \n",
      " 1   sst             240 non-null    float64\n",
      " 2   soi             240 non-null    float64\n",
      " 3   oni             240 non-null    float64\n",
      "dtypes: float64(3), int64(1)\n",
      "memory usage: 9.4 KB\n"
     ]
    }
   ],
   "metadata": {}
  },
  {
   "cell_type": "code",
   "execution_count": 9,
   "source": [
    "print(df_sumsel.head())"
   ],
   "outputs": [
    {
     "output_type": "stream",
     "name": "stdout",
     "text": [
      "            hotspot_sumsel   sst  soi   oni\n",
      "tanggal                                    \n",
      "2001-01-31               3 -0.83  1.6 -0.68\n",
      "2001-02-28               5 -0.61  2.8 -0.52\n",
      "2001-03-31              10 -0.38  1.5 -0.44\n",
      "2001-04-30              20 -0.26  0.3 -0.34\n",
      "2001-05-31              39 -0.25 -0.8 -0.25\n"
     ]
    }
   ],
   "metadata": {}
  },
  {
   "cell_type": "code",
   "execution_count": 10,
   "source": [
    "# ensure all data is float\r\n",
    "values = df_sumsel.values\r\n",
    "values = values.astype('float32')"
   ],
   "outputs": [],
   "metadata": {}
  },
  {
   "cell_type": "markdown",
   "source": [
    "### Normalisasi Data"
   ],
   "metadata": {}
  },
  {
   "cell_type": "code",
   "execution_count": 11,
   "source": [
    "# normalize features\r\n",
    "scaler = MinMaxScaler(feature_range=(-1, 1))\r\n",
    "scaled = scaler.fit_transform(values)"
   ],
   "outputs": [],
   "metadata": {}
  },
  {
   "cell_type": "code",
   "execution_count": 12,
   "source": [
    "np.round(scaled[:5],6)"
   ],
   "outputs": [
    {
     "output_type": "execute_result",
     "data": {
      "text/plain": [
       "array([[-0.999723, -0.561983,  0.36    , -0.551402],\n",
       "       [-0.999445, -0.471074,  0.6     , -0.476636],\n",
       "       [-0.998751, -0.376033,  0.34    , -0.439252],\n",
       "       [-0.997364, -0.326446,  0.1     , -0.392523],\n",
       "       [-0.994728, -0.322314, -0.12    , -0.350467]], dtype=float32)"
      ]
     },
     "metadata": {},
     "execution_count": 12
    }
   ],
   "metadata": {}
  },
  {
   "cell_type": "markdown",
   "source": [
    "### Supervised Learning"
   ],
   "metadata": {}
  },
  {
   "cell_type": "code",
   "execution_count": 13,
   "source": [
    "# convert series to supervised learning\r\n",
    "def series_to_supervised(data, n_in=1, n_out=1, dropnan=True):\r\n",
    "    n_vars = 1 if type(data) is list else data.shape[1]\r\n",
    "    df = DataFrame(data)\r\n",
    "    cols, names = list(), list()\r\n",
    "    \r\n",
    "    # input sequence (t-n, ... t-1)\r\n",
    "    for i in range(n_in, 0, -1):\r\n",
    "        cols.append(df.shift(i))\r\n",
    "        names += [('var%d(t-%d)' % (j+1, i)) for j in range(n_vars)]\r\n",
    "    \r\n",
    "    # forecast sequence (t, t+1, ... t+n)\r\n",
    "    for i in range(0, n_out):\r\n",
    "        cols.append(df.shift(-i))\r\n",
    "        if i == 0:\r\n",
    "            names += [('var%d(t)' % (j+1)) for j in range(n_vars)]\r\n",
    "        else:\r\n",
    "            names += [('var%d(t+%d)' % (j+1, i)) for j in range(n_vars)]\r\n",
    "    \r\n",
    "    # put it all together\r\n",
    "    agg = concat(cols, axis=1)\r\n",
    "    agg.columns = names\r\n",
    "    \r\n",
    "    # drop rows with NaN values\r\n",
    "    if dropnan:\r\n",
    "        agg.dropna(inplace=True)\r\n",
    "    \r\n",
    "    # return value\r\n",
    "    return agg"
   ],
   "outputs": [],
   "metadata": {}
  },
  {
   "cell_type": "code",
   "execution_count": 14,
   "source": [
    "# supervised learning\r\n",
    "reframed = series_to_supervised(scaled, 1, 1)"
   ],
   "outputs": [],
   "metadata": {}
  },
  {
   "cell_type": "code",
   "execution_count": 15,
   "source": [
    "# drop columns we don't want to predict\r\n",
    "reframed.drop(reframed.columns[[5,6,7]], axis=1, inplace=True)"
   ],
   "outputs": [],
   "metadata": {}
  },
  {
   "cell_type": "code",
   "execution_count": 16,
   "source": [
    "values = reframed.values"
   ],
   "outputs": [],
   "metadata": {}
  },
  {
   "cell_type": "code",
   "execution_count": 17,
   "source": [
    "print(reframed.head())"
   ],
   "outputs": [
    {
     "output_type": "stream",
     "name": "stdout",
     "text": [
      "   var1(t-1)  var2(t-1)  var3(t-1)  var4(t-1)   var1(t)\n",
      "1  -0.999723  -0.561983       0.36  -0.551402 -0.999445\n",
      "2  -0.999445  -0.471074       0.60  -0.476636 -0.998751\n",
      "3  -0.998751  -0.376033       0.34  -0.439252 -0.997364\n",
      "4  -0.997364  -0.326446       0.10  -0.392523 -0.994728\n",
      "5  -0.994728  -0.322314      -0.12  -0.350467 -0.999029\n"
     ]
    }
   ],
   "metadata": {}
  },
  {
   "cell_type": "markdown",
   "source": [
    "### Data latih dan Data Uji"
   ],
   "metadata": {}
  },
  {
   "cell_type": "code",
   "execution_count": 18,
   "source": [
    "# split into train and test sets\r\n",
    "train_size = int(len(values) * 0.8)\r\n",
    "test_size = len(values) - train_size\r\n",
    "train, test = values[0:train_size,:], values[train_size:len(values),:]"
   ],
   "outputs": [],
   "metadata": {}
  },
  {
   "cell_type": "code",
   "execution_count": 19,
   "source": [
    "# split into input and outputs\r\n",
    "train_X, train_y = train[:, :-1], train[:, -1]\r\n",
    "test_X, test_y = test[:, :-1], test[:, -1]"
   ],
   "outputs": [],
   "metadata": {}
  },
  {
   "cell_type": "code",
   "execution_count": 20,
   "source": [
    "# reshape input to be 3D [samples, timesteps, features]\r\n",
    "train_X = train_X.reshape((train_X.shape[0], 1, train_X.shape[1]))\r\n",
    "test_X = test_X.reshape((test_X.shape[0], 1, test_X.shape[1]))"
   ],
   "outputs": [],
   "metadata": {}
  },
  {
   "cell_type": "code",
   "execution_count": 21,
   "source": [
    "print(train_X.shape, train_y.shape, test_X.shape, test_y.shape)"
   ],
   "outputs": [
    {
     "output_type": "stream",
     "name": "stdout",
     "text": [
      "(191, 1, 4) (191,) (48, 1, 4) (48,)\n"
     ]
    }
   ],
   "metadata": {}
  },
  {
   "cell_type": "markdown",
   "source": [
    "### Model Prediksi LSTM-RNN"
   ],
   "metadata": {}
  },
  {
   "cell_type": "markdown",
   "source": [
    "- Kondisi Default"
   ],
   "metadata": {}
  },
  {
   "cell_type": "code",
   "execution_count": 22,
   "source": [
    "# # design network grid serach\r\n",
    "# model = Sequential()\r\n",
    "# model.add(LSTM(1, input_shape=(train_X.shape[1], train_X.shape[2])))\r\n",
    "# model.add(Dense(1))\r\n",
    "\r\n",
    "# # model compile\r\n",
    "# model.compile(loss='mae', metrics=[tf.keras.metrics.RootMeanSquaredError()])\r\n",
    "\r\n",
    "# # fit network\r\n",
    "# history = model.fit(train_X, train_y, epochs=2000,\r\n",
    "#                     validation_data=(test_X, test_y),\r\n",
    "#                     verbose=0, shuffle=False)"
   ],
   "outputs": [],
   "metadata": {}
  },
  {
   "cell_type": "markdown",
   "source": [
    "- Kondisi Hyperparameter"
   ],
   "metadata": {}
  },
  {
   "cell_type": "code",
   "execution_count": 23,
   "source": [
    "# design network grid serach\r\n",
    "model = Sequential()\r\n",
    "model.add(LSTM(10, activation='tanh', input_shape=(train_X.shape[1], train_X.shape[2])))\r\n",
    "model.add(Dropout(0.1))\r\n",
    "model.add(Dense(1))\r\n",
    "\r\n",
    "# model compile\r\n",
    "model.compile(optimizer=Adam(), loss='mae', metrics=[tf.keras.metrics.RootMeanSquaredError()])\r\n",
    "\r\n",
    "# fit network\r\n",
    "history = model.fit(train_X, train_y, epochs=2000, batch_size=16,\r\n",
    "                    validation_data=(test_X, test_y),\r\n",
    "                    verbose=0, shuffle=False)"
   ],
   "outputs": [],
   "metadata": {}
  },
  {
   "cell_type": "code",
   "execution_count": 24,
   "source": [
    "model.summary()"
   ],
   "outputs": [
    {
     "output_type": "stream",
     "name": "stdout",
     "text": [
      "Model: \"sequential\"\n",
      "_________________________________________________________________\n",
      "Layer (type)                 Output Shape              Param #   \n",
      "=================================================================\n",
      "lstm (LSTM)                  (None, 10)                600       \n",
      "_________________________________________________________________\n",
      "dropout (Dropout)            (None, 10)                0         \n",
      "_________________________________________________________________\n",
      "dense (Dense)                (None, 1)                 11        \n",
      "=================================================================\n",
      "Total params: 611\n",
      "Trainable params: 611\n",
      "Non-trainable params: 0\n",
      "_________________________________________________________________\n"
     ]
    }
   ],
   "metadata": {}
  },
  {
   "cell_type": "code",
   "execution_count": 25,
   "source": [
    "# membuat frame\r\n",
    "fig, ax = plt.subplots(figsize = (10,5))\r\n",
    "\r\n",
    "# membuat time series plot\r\n",
    "ax.plot(history.history['loss'], color=\"tab:blue\", label=\"train\", linewidth=1.5)\r\n",
    "ax.plot(history.history['val_loss'], color=\"tab:orange\", label=\"test\", linewidth=1.5)\r\n",
    "\r\n",
    "# membuat label-label\r\n",
    "ax.set_title(\"Grafik Loss Function\", fontsize=14)\r\n",
    "ax.legend(loc='upper right')\r\n",
    "ax.grid(True)\r\n",
    "\r\n",
    "# menampilkan plot\r\n",
    "plt.show()"
   ],
   "outputs": [
    {
     "output_type": "display_data",
     "data": {
      "text/plain": [
       "<Figure size 720x360 with 1 Axes>"
      ],
      "image/png": "[encoded data removed]"
     },
     "metadata": {
      "needs_background": "light"
     }
    }
   ],
   "metadata": {}
  },
  {
   "cell_type": "code",
   "execution_count": 26,
   "source": [
    "# 5. make predictions\n",
    "predictions = model.predict(test_X, verbose=0)\n",
    "print(predictions[:, 0])"
   ],
   "outputs": [
    {
     "output_type": "stream",
     "name": "stdout",
     "text": [
      "[-0.9925608  -0.9948676  -0.9905801  -0.9939866  -0.9922852  -0.98958683\n",
      " -0.98344857 -0.98492956 -0.9829391  -0.9756441  -0.98718005 -0.99429935\n",
      " -0.99369764 -0.9902651  -1.0037913  -0.99445677 -0.98999006 -0.99052006\n",
      " -0.9889715  -0.975207   -0.96654654 -0.91243076 -0.96575487 -0.9928085\n",
      " -1.000698   -0.9985495  -0.9963038  -0.99272543 -0.99367976 -0.9828122\n",
      " -0.9883813  -0.97592354 -0.89700186 -0.35013026 -0.59951794 -0.68123806\n",
      " -0.990013   -0.99394155 -0.9947996  -0.9855689  -0.98281074 -0.9965744\n",
      " -0.9961964  -0.9913008  -0.99253863 -0.9948091  -1.0014603  -0.997964  ]\n"
     ]
    }
   ],
   "metadata": {}
  },
  {
   "cell_type": "markdown",
   "source": [
    "### Evaluasi Model LSTM-RNN"
   ],
   "metadata": {}
  },
  {
   "cell_type": "markdown",
   "source": [
    "- RMSE"
   ],
   "metadata": {}
  },
  {
   "cell_type": "code",
   "execution_count": 27,
   "source": [
    "scores = model.evaluate(train_X, train_y)\n",
    "scores"
   ],
   "outputs": [
    {
     "output_type": "stream",
     "name": "stdout",
     "text": [
      "6/6 [==============================] - 1s 3ms/step - loss: 0.0745 - root_mean_squared_error: 0.2126\n"
     ]
    },
    {
     "output_type": "execute_result",
     "data": {
      "text/plain": [
       "[0.0745440274477005, 0.2125878781080246]"
      ]
     },
     "metadata": {},
     "execution_count": 27
    }
   ],
   "metadata": {}
  },
  {
   "cell_type": "code",
   "execution_count": 28,
   "source": [
    "scores = model.evaluate(test_X, test_y)\n",
    "scores"
   ],
   "outputs": [
    {
     "output_type": "stream",
     "name": "stdout",
     "text": [
      "2/2 [==============================] - 0s 11ms/step - loss: 0.0289 - root_mean_squared_error: 0.0848\n"
     ]
    },
    {
     "output_type": "execute_result",
     "data": {
      "text/plain": [
       "[0.02893526293337345, 0.08476414531469345]"
      ]
     },
     "metadata": {},
     "execution_count": 28
    }
   ],
   "metadata": {}
  },
  {
   "cell_type": "code",
   "execution_count": 29,
   "source": [
    "# calculate RMSE\n",
    "rmse = sqrt(mean_squared_error(test_y , predictions))\n",
    "print('Test RMSE: %.4f' % rmse)"
   ],
   "outputs": [
    {
     "output_type": "stream",
     "name": "stdout",
     "text": [
      "Test RMSE: 0.0848\n"
     ]
    }
   ],
   "metadata": {}
  },
  {
   "cell_type": "markdown",
   "source": [
    "- korelasi dan signifikansi"
   ],
   "metadata": {}
  },
  {
   "cell_type": "code",
   "execution_count": 30,
   "source": [
    "hasil = np.stack((test_y.reshape(-1),predictions.reshape(-1)),axis=1)\n",
    "hasil = pd.DataFrame(hasil, columns = ['data_aktual','prediksi'])\n",
    "hasil.head()"
   ],
   "outputs": [
    {
     "output_type": "execute_result",
     "data": {
      "text/plain": [
       "   data_aktual  prediksi\n",
       "0    -0.998474 -0.992561\n",
       "1    -0.999723 -0.994868\n",
       "2    -0.997503 -0.990580\n",
       "3    -0.997364 -0.993987\n",
       "4    -0.994450 -0.992285"
      ],
      "text/html": [
       "<div>\n",
       "<style scoped>\n",
       "    .dataframe tbody tr th:only-of-type {\n",
       "        vertical-align: middle;\n",
       "    }\n",
       "\n",
       "    .dataframe tbody tr th {\n",
       "        vertical-align: top;\n",
       "    }\n",
       "\n",
       "    .dataframe thead th {\n",
       "        text-align: right;\n",
       "    }\n",
       "</style>\n",
       "<table border=\"1\" class=\"dataframe\">\n",
       "  <thead>\n",
       "    <tr style=\"text-align: right;\">\n",
       "      <th></th>\n",
       "      <th>data_aktual</th>\n",
       "      <th>prediksi</th>\n",
       "    </tr>\n",
       "  </thead>\n",
       "  <tbody>\n",
       "    <tr>\n",
       "      <th>0</th>\n",
       "      <td>-0.998474</td>\n",
       "      <td>-0.992561</td>\n",
       "    </tr>\n",
       "    <tr>\n",
       "      <th>1</th>\n",
       "      <td>-0.999723</td>\n",
       "      <td>-0.994868</td>\n",
       "    </tr>\n",
       "    <tr>\n",
       "      <th>2</th>\n",
       "      <td>-0.997503</td>\n",
       "      <td>-0.990580</td>\n",
       "    </tr>\n",
       "    <tr>\n",
       "      <th>3</th>\n",
       "      <td>-0.997364</td>\n",
       "      <td>-0.993987</td>\n",
       "    </tr>\n",
       "    <tr>\n",
       "      <th>4</th>\n",
       "      <td>-0.994450</td>\n",
       "      <td>-0.992285</td>\n",
       "    </tr>\n",
       "  </tbody>\n",
       "</table>\n",
       "</div>"
      ]
     },
     "metadata": {},
     "execution_count": 30
    }
   ],
   "metadata": {}
  },
  {
   "cell_type": "code",
   "execution_count": 31,
   "source": [
    "import scipy.stats as sc\n",
    "r, p = sc.pearsonr(hasil[\"data_aktual\"], hasil[\"prediksi\"])\n",
    "print(\"korelasi data akual dengan hasil prediksi\" +\" {:.4f} \".format(r)+ \"dengan signifikansi\" +\" {:.4f} \".format(p))"
   ],
   "outputs": [
    {
     "output_type": "stream",
     "name": "stdout",
     "text": [
      "korelasi data akual dengan hasil prediksi 0.7207 dengan signifikansi 0.0000 \n"
     ]
    }
   ],
   "metadata": {}
  },
  {
   "cell_type": "markdown",
   "source": [
    "- Waktu komputasi"
   ],
   "metadata": {}
  },
  {
   "cell_type": "code",
   "execution_count": 32,
   "source": [
    "# Set akhir waktu komputasi \n",
    "end = time.time()"
   ],
   "outputs": [],
   "metadata": {}
  },
  {
   "cell_type": "code",
   "execution_count": 33,
   "source": [
    "# Proses menghitung waktu komputasi\n",
    "hours, rem = divmod(end-start, 3600)\n",
    "minutes, seconds = divmod(rem, 60)"
   ],
   "outputs": [],
   "metadata": {}
  },
  {
   "cell_type": "code",
   "execution_count": 34,
   "source": [
    "# Hasil waktu komputasi\n",
    "print(\"{:0>2}:{:0>2}:{:05.2f}\".format(int(hours),int(minutes),seconds))"
   ],
   "outputs": [
    {
     "output_type": "stream",
     "name": "stdout",
     "text": [
      "00:02:59.63\n"
     ]
    }
   ],
   "metadata": {}
  },
  {
   "cell_type": "markdown",
   "source": [
    "### Visualisasi hasil prediksi"
   ],
   "metadata": {}
  },
  {
   "cell_type": "code",
   "execution_count": 35,
   "source": [
    "# generate urutan data sesuai panjang datanya\n",
    "x = pd.date_range(start=\"2017-01-01\", periods=len(test_y), freq='MS')\n",
    "\n",
    "# membuat frame\n",
    "fig, ax = plt.subplots(figsize = (10,5))\n",
    "\n",
    "# membuat time series plot\n",
    "ax.plot(x, test_y, color=\"tab:blue\", label=\"data aktual\", linewidth=2.5)\n",
    "ax.plot(x, predictions, color=\"tab:red\", label=\"hasil prediksi\", linewidth=2.5)\n",
    "\n",
    "# membuat label-label\n",
    "ax.set_title(\"Hotspot Sumsel Sensor MODIS 2018-2020\", fontsize=14)\n",
    "ax.set_xlabel(\"Tanggal\", fontsize=12)\n",
    "ax.set_ylabel(\"Jumlah Hostpot\", fontsize=12)\n",
    "ax.legend(loc='upper right')\n",
    "ax.grid(True)\n",
    "\n",
    "# menampilkan plot\n",
    "plt.show()"
   ],
   "outputs": [
    {
     "output_type": "display_data",
     "data": {
      "text/plain": [
       "<Figure size 720x360 with 1 Axes>"
      ],
      "image/png": "[encoded data removed]"
     },
     "metadata": {
      "needs_background": "light"
     }
    }
   ],
   "metadata": {}
  },
  {
   "cell_type": "code",
   "execution_count": null,
   "source": [],
   "outputs": [],
   "metadata": {}
  }
 ],
 "metadata": {
  "kernelspec": {
   "display_name": "Python 3",
   "language": "python",
   "name": "python3"
  },
  "language_info": {
   "codemirror_mode": {
    "name": "ipython",
    "version": 3
   },
   "file_extension": ".py",
   "mimetype": "text/x-python",
   "name": "python",
   "nbconvert_exporter": "python",
   "pygments_lexer": "ipython3",
   "version": "3.8.5"
  }
 },
 "nbformat": 4,
 "nbformat_minor": 4
}