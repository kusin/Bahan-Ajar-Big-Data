{
 "cells": [
  {
   "cell_type": "markdown",
   "metadata": {},
   "source": [
    "## Pengenalan Dasar-Dasar Pemrograman Dengan Bahasa Python\n",
    "1. Menampilkan hello world\n",
    "2. Input dan Output\n",
    "3. Runtunan, Percabangan, Perulangan\n",
    "4. Array\n",
    "5. Membuat Fungsi \n",
    "6. Menggunakan Fungsi Build-in"
   ]
  },
  {
   "cell_type": "code",
   "execution_count": 1,
   "metadata": {},
   "outputs": [
    {
     "name": "stdout",
     "output_type": "stream",
     "text": [
      "Hello World\n"
     ]
    }
   ],
   "source": [
    "# Menampilkan hello world\r\n",
    "print(\"Hello World\") # menggunakan tanda (\"\") karena bertipe strin"
   ]
  },
  {
   "cell_type": "code",
   "execution_count": 2,
   "metadata": {},
   "outputs": [
    {
     "name": "stdout",
     "output_type": "stream",
     "text": [
      "100\n"
     ]
    }
   ],
   "source": [
    "print(100) # tanpa tanda (\"\") karena bertipe numerikik"
   ]
  },
  {
   "cell_type": "code",
   "execution_count": 3,
   "metadata": {},
   "outputs": [],
   "source": [
    "# Input dan output secara default\r\n",
    "nama = \"Aryajaya Alamsyah, S.Kom\""
   ]
  },
  {
   "cell_type": "code",
   "execution_count": 4,
   "metadata": {},
   "outputs": [
    {
     "name": "stdout",
     "output_type": "stream",
     "text": [
      "Aryajaya Alamsyah, S.Kom\n"
     ]
    }
   ],
   "source": [
    "print(nama)"
   ]
  },
  {
   "cell_type": "code",
   "execution_count": 5,
   "metadata": {},
   "outputs": [
    {
     "name": "stdout",
     "output_type": "stream",
     "text": [
      "Selamat Pagi, Aryajaya Alamsyah\n"
     ]
    }
   ],
   "source": [
    "# input dari keyboard\r\n",
    "nama = input(\"Masukan Nama : \")\r\n",
    "print(\"Selamat Pagi, \"+nama)"
   ]
  },
  {
   "cell_type": "code",
   "execution_count": 6,
   "metadata": {},
   "outputs": [
    {
     "name": "stdout",
     "output_type": "stream",
     "text": [
      "Volume balok : 250\n"
     ]
    }
   ],
   "source": [
    "# Runtunan 1. secara default\r\n",
    "\r\n",
    "# input\r\n",
    "panjang = 5\r\n",
    "lebar = 5\r\n",
    "tinggi = 10\r\n",
    "\r\n",
    "# proses\r\n",
    "volume = panjang * lebar * tinggi\r\n",
    "\r\n",
    "# output\r\n",
    "print(\"Volume balok : \"+str(volume))"
   ]
  },
  {
   "cell_type": "code",
   "execution_count": 7,
   "metadata": {},
   "outputs": [
    {
     "name": "stdout",
     "output_type": "stream",
     "text": [
      "500.0\n"
     ]
    }
   ],
   "source": [
    "# Runtunan 1. input dari keyboard\r\n",
    "\r\n",
    "# input\r\n",
    "panjang = input(\"Masukan panjang : \")\r\n",
    "lebar = input(\"Masukan lebar : \")\r\n",
    "tinggi = input(\"Masukan tinggi : \")\r\n",
    "\r\n",
    "# proses. (input diconvert menjadi float)\r\n",
    "volume = float(panjang) * float(lebar) * float(tinggi)\r\n",
    "\r\n",
    "# output\r\n",
    "print(volume)"
   ]
  },
  {
   "cell_type": "code",
   "execution_count": 8,
   "metadata": {},
   "outputs": [
    {
     "name": "stdout",
     "output_type": "stream",
     "text": [
      "Bilangan Ganjil\n"
     ]
    }
   ],
   "source": [
    "# percabangan. menentukan bilangan ganjil atau genap\r\n",
    "# if di python-3.6x tidak menggunakan tanda kurung \"()\" dan kurawal \"{}\"\r\n",
    "# Bahasa pemrograman lain\r\n",
    "# if(kondisi){\r\n",
    "#   // statment\r\n",
    "# } \r\n",
    "\r\n",
    "# input\r\n",
    "bilangan = 11\r\n",
    "\r\n",
    "# proses\r\n",
    "if bilangan % 2 == 0:\r\n",
    "    print(\"Bilangan Genap\") # output\r\n",
    "else:\r\n",
    "    print(\"Bilangan Ganjil\") # output"
   ]
  },
  {
   "cell_type": "code",
   "execution_count": 9,
   "metadata": {},
   "outputs": [
    {
     "name": "stdout",
     "output_type": "stream",
     "text": [
      "B\n"
     ]
    }
   ],
   "source": [
    "# percabangan. menentukan huruf mutu\r\n",
    "\r\n",
    "# input\r\n",
    "nilai = 70\r\n",
    "\r\n",
    "# proses \r\n",
    "if nilai >= 80:\r\n",
    "    print(\"A\") # input\r\n",
    "elif nilai >= 70:\r\n",
    "    print(\"B\")\r\n",
    "elif nilai >= 60:\r\n",
    "    print(\"C\")\r\n",
    "elif nilai >= 70:\r\n",
    "    print(\"D\")\r\n",
    "else:\r\n",
    "    print(\"E\")"
   ]
  },
  {
   "cell_type": "code",
   "execution_count": 10,
   "metadata": {},
   "outputs": [
    {
     "name": "stdout",
     "output_type": "stream",
     "text": [
      "Faktorial dari 5 adalah 120\n"
     ]
    }
   ],
   "source": [
    "# perulangan. Menghitung faktorial\r\n",
    "\r\n",
    "# input\r\n",
    "bilangan = 5\r\n",
    "faktorial = 1\r\n",
    "\r\n",
    "# proses\r\n",
    "for i in range(1, bilangan + 1):\r\n",
    "    faktorial = faktorial * i\r\n",
    "    \r\n",
    "# output\r\n",
    "print(\"Faktorial dari\", bilangan, \"adalah\", faktorial)"
   ]
  },
  {
   "cell_type": "code",
   "execution_count": 11,
   "metadata": {},
   "outputs": [
    {
     "name": "stdout",
     "output_type": "stream",
     "text": [
      "Mata kuliah sebanyak 5 \n",
      "\n",
      "Data Mining\n",
      "Data Spatial\n",
      "Machine Learning\n",
      "Deep Learning\n",
      "Statistik Komputasi\n"
     ]
    }
   ],
   "source": [
    "# Array. Menampilkan element yang ada didalam list\r\n",
    "\r\n",
    "# input array\r\n",
    "mk = [\"Data Mining\", \"Data Spatial\", \"Machine Learning\", \"Deep Learning\", \"Statistik Komputasi\"]\r\n",
    "\r\n",
    "# proses\r\n",
    "print(\"Mata kuliah sebanyak\",format(len(mk)),\"\\n\")\r\n",
    "for i in mk:\r\n",
    "    print(i)"
   ]
  },
  {
   "cell_type": "code",
   "execution_count": 12,
   "metadata": {},
   "outputs": [
    {
     "name": "stdout",
     "output_type": "stream",
     "text": [
      "6 0  \n",
      "6 8  \n"
     ]
    }
   ],
   "source": [
    "# Array. Menjumlahkan 2 buah matrik\r\n",
    "\r\n",
    "# input\r\n",
    "mat1 = [\r\n",
    "    [5, 0],\r\n",
    "    [2, 6],\r\n",
    "]\r\n",
    "\r\n",
    "mat2 = [\r\n",
    "    [1, 0],\r\n",
    "    [4, 2],\r\n",
    "]\r\n",
    "\r\n",
    "# proses kaidah ddp\r\n",
    "# menggunakan nested loop\r\n",
    "for x in range(0, len(mat1)):\r\n",
    "    for y in range(0, len(mat1[0])):\r\n",
    "        print (mat1[x][y] + mat2[x][y], end=\" \") # output\r\n",
    "    print(\" \")"
   ]
  },
  {
   "cell_type": "code",
   "execution_count": 13,
   "metadata": {},
   "outputs": [
    {
     "name": "stdout",
     "output_type": "stream",
     "text": [
      "[[6 0]\n",
      " [6 8]]\n"
     ]
    }
   ],
   "source": [
    "# Array. Menjumlahkan 2 buah matrik\r\n",
    "# Deklarasi pustaka numpy\r\n",
    "import numpy as np;\r\n",
    "\r\n",
    "# input\r\n",
    "mat1 = [\r\n",
    "    [5, 0],\r\n",
    "    [2, 6],\r\n",
    "]\r\n",
    "mat1 = np.array(mat1)\r\n",
    "\r\n",
    "mat2 = [\r\n",
    "    [1, 0],\r\n",
    "    [4, 2],\r\n",
    "]\r\n",
    "mat2 = np.array(mat2)\r\n",
    "\r\n",
    "# proses kaidah python\r\n",
    "# menggunakan runtunan\r\n",
    "mat3 = mat1 + mat2 # proses\r\n",
    "\r\n",
    "print(mat3) # output"
   ]
  },
  {
   "cell_type": "code",
   "execution_count": 14,
   "metadata": {},
   "outputs": [],
   "source": [
    "# Membuat Fungsi. menjumlahkan array dengan fungsi (def)\r\n",
    "\r\n",
    "# fungsi lbr_matriks dan pjg_matriks untuk menentukan ukuran dimensi array\r\n",
    "def lbr_matriks(matriks):\r\n",
    "    return len(matriks)\r\n",
    "\r\n",
    "def pjg_matriks(matriks):\r\n",
    "    return len(matriks[0])\r\n",
    "\r\n",
    "# fungsi untuk menjumlahkan arrray\r\n",
    "def jumlahkan_matriks(mat_a, mat_b):\r\n",
    "    temp_row = []\r\n",
    "    temp_mat = [] \r\n",
    "    for i in range(0, lbr_matriks(mat_a)):\r\n",
    "        for j in range(0, pjg_matriks(mat_a)):\r\n",
    "            temp_row.append(mat_a[i][j] + mat_b[i][j])\r\n",
    "        temp_mat.append(temp_row)\r\n",
    "        temp_row = []\r\n",
    "    return temp_mat\r\n",
    "\r\n",
    "# fungsi untuk menampilkan isi array\r\n",
    "def cetak_matriks(matriks):\r\n",
    "    for row in matriks:\r\n",
    "        print (row)"
   ]
  },
  {
   "cell_type": "code",
   "execution_count": 15,
   "metadata": {},
   "outputs": [
    {
     "name": "stdout",
     "output_type": "stream",
     "text": [
      "matriks_a : \n",
      "[1, 2, 3, 4]\n",
      "[5, 6, 7, 8]\n",
      "\n",
      "matriks_b : \n",
      "[1, 1, 1, 1]\n",
      "[1, 1, 1, 1]\n",
      "\n",
      "hasil penjumlahan :\n",
      "[2, 3, 4, 5]\n",
      "[6, 7, 8, 9]\n"
     ]
    }
   ],
   "source": [
    "# input array\r\n",
    "matriks_a = [[1, 2, 3, 4], [5, 6, 7, 8]]\r\n",
    "matriks_b = [[1, 1, 1, 1], [1, 1, 1, 1]]\r\n",
    "\r\n",
    "# proses\r\n",
    "hasil = jumlahkan_matriks(matriks_a, matriks_b)\r\n",
    "\r\n",
    "# output\r\n",
    "print (\"matriks_a : \")\r\n",
    "cetak_matriks(matriks_a)\r\n",
    "\r\n",
    "print (\"\\nmatriks_b : \")\r\n",
    "cetak_matriks(matriks_b)\r\n",
    "\r\n",
    "print (\"\\nhasil penjumlahan :\")\r\n",
    "cetak_matriks(hasil)"
   ]
  },
  {
   "cell_type": "code",
   "execution_count": 16,
   "metadata": {},
   "outputs": [
    {
     "name": "stdout",
     "output_type": "stream",
     "text": [
      "[[2 3 4 5]\n",
      " [6 7 8 9]]\n"
     ]
    }
   ],
   "source": [
    "# load lib numpy\r\n",
    "import numpy as np\r\n",
    "\r\n",
    "# input menggunakan numpy\r\n",
    "# np.array()\r\n",
    "matriks_a = np.array([[1, 2, 3, 4], [5, 6, 7, 8]])\r\n",
    "matriks_b = np.array([[1, 1, 1, 1], [1, 1, 1, 1]])\r\n",
    "\r\n",
    "# proses\r\n",
    "matriks_c = matriks_a + matriks_b\r\n",
    "\r\n",
    "#output\r\n",
    "print(matriks_c)"
   ]
  },
  {
   "cell_type": "code",
   "execution_count": 17,
   "metadata": {},
   "outputs": [
    {
     "name": "stdout",
     "output_type": "stream",
     "text": [
      "Hasil jumlah semua elemen array adalah 21\n"
     ]
    }
   ],
   "source": [
    "# load lib numpy\r\n",
    "import numpy as np\r\n",
    "\r\n",
    "# definisi nilai array dengan numpy\r\n",
    "array = np.array([ [1, 2], [3, 4], [5, 6] ])\r\n",
    "\r\n",
    "# menjumlahkan element array\r\n",
    "total = np.sum(array)\r\n",
    "\r\n",
    "# menampilkan hasil\r\n",
    "print(\"Hasil jumlah semua elemen array adalah\",total)"
   ]
  },
  {
   "cell_type": "code",
   "execution_count": null,
   "metadata": {},
   "outputs": [],
   "source": []
  }
 ],
 "metadata": {
  "interpreter": {
   "hash": "af8c20166cad848477e998d1598fb9b9ed106df038381b17b4e27391b8c3c5c3"
  },
  "kernelspec": {
   "display_name": "Python 3",
   "language": "python",
   "name": "python3"
  },
  "language_info": {
   "codemirror_mode": {
    "name": "ipython",
    "version": 3
   },
   "file_extension": ".py",
   "mimetype": "text/x-python",
   "name": "python",
   "nbconvert_exporter": "python",
   "pygments_lexer": "ipython3",
   "version": "3.8.5"
  }
 },
 "nbformat": 4,
 "nbformat_minor": 4
}
