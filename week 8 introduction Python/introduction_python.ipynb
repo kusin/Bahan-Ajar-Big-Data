{
 "cells": [
  {
   "cell_type": "markdown",
   "source": [
    "## Pengenalan Dasar-Dasar Pemrograman Dengan Bahasa Python\n",
    "1. Menampilkan hello world\n",
    "2. Input dan Output\n",
    "3. Runtunan, Percabangan, Perulangan\n",
    "4. Array\n",
    "5. Membuat Fungsi \n",
    "6. Menggunakan Fungsi Build-in"
   ],
   "metadata": {}
  },
  {
   "cell_type": "code",
   "execution_count": 1,
   "source": [
    "# Menampilkan hello world\r\n",
    "print(\"Hello World\") # menggunakan tanda (\"\") karena bertipe string\r\n",
    "print(100) # tanpa tanda (\"\") karena bertipe numerik"
   ],
   "outputs": [
    {
     "output_type": "stream",
     "name": "stdout",
     "text": [
      "Hello World\n",
      "100\n"
     ]
    }
   ],
   "metadata": {}
  },
  {
   "cell_type": "code",
   "execution_count": 2,
   "source": [
    "# Input dan output secara default\r\n",
    "nama = \"Aryajaya Alamsyah, S.Kom\"\r\n",
    "print(nama)"
   ],
   "outputs": [
    {
     "output_type": "stream",
     "name": "stdout",
     "text": [
      "Aryajaya Alamsyah, S.Kom\n"
     ]
    }
   ],
   "metadata": {}
  },
  {
   "cell_type": "code",
   "execution_count": 3,
   "source": [
    "# input dari keyboard\r\n",
    "nama = input(\"Masukan Nama : \")\r\n",
    "print(\"Selamat Pagi, \"+nama)"
   ],
   "outputs": [
    {
     "output_type": "stream",
     "name": "stdout",
     "text": [
      "Masukan Nama :  Aryajaya Alamsyah, S.Kom\n"
     ]
    },
    {
     "output_type": "stream",
     "name": "stdout",
     "text": [
      "Selamat Pagi, Aryajaya Alamsyah, S.Kom\n"
     ]
    }
   ],
   "metadata": {}
  },
  {
   "cell_type": "code",
   "execution_count": 4,
   "source": [
    "# Runtunan 1. secara default\r\n",
    "\r\n",
    "# input\r\n",
    "panjang = 5\r\n",
    "lebar = 5\r\n",
    "tinggi = 10\r\n",
    "\r\n",
    "# proses\r\n",
    "volume = panjang * lebar * tinggi\r\n",
    "\r\n",
    "# output\r\n",
    "print(volume)"
   ],
   "outputs": [
    {
     "output_type": "stream",
     "name": "stdout",
     "text": [
      "250\n"
     ]
    }
   ],
   "metadata": {}
  },
  {
   "cell_type": "code",
   "execution_count": 5,
   "source": [
    "# Runtunan 1. input dari keyboard\n",
    "\n",
    "# input\n",
    "panjang = input(\"Masukan panjang : \")\n",
    "lebar = input(\"Masukan lebar : \")\n",
    "tinggi = input(\"Masukan tinggi : \")\n",
    "\n",
    "# proses. (input diconvert menjadi float)\n",
    "volume = float(panjang) * float(lebar) * float(tinggi)\n",
    "\n",
    "# output\n",
    "print(volume)"
   ],
   "outputs": [
    {
     "output_type": "stream",
     "name": "stdout",
     "text": [
      "Masukan panjang :  5\n",
      "Masukan lebar :  5\n",
      "Masukan tinggi :  10\n"
     ]
    },
    {
     "output_type": "stream",
     "name": "stdout",
     "text": [
      "250.0\n"
     ]
    }
   ],
   "metadata": {}
  },
  {
   "cell_type": "code",
   "execution_count": 6,
   "source": [
    "# percabangan. menentukan bilangan ganjil atau genap\n",
    "\n",
    "# input\n",
    "bilangan = 11\n",
    "\n",
    "# proses\n",
    "if bilangan % 2 == 0:\n",
    "    print(\"Bilangan Genap\") # output\n",
    "else:\n",
    "    print(\"Bilangan Ganjil\") # output"
   ],
   "outputs": [
    {
     "output_type": "stream",
     "name": "stdout",
     "text": [
      "Bilangan Ganjil\n"
     ]
    }
   ],
   "metadata": {}
  },
  {
   "cell_type": "code",
   "execution_count": 7,
   "source": [
    "bilangan = 5\n",
    "if bilangan % 2 == 0:\n",
    "    print(\"Statmen if ke-1\")\n",
    "    print(\"Statmen if ke-2\")"
   ],
   "outputs": [],
   "metadata": {}
  },
  {
   "cell_type": "code",
   "execution_count": 8,
   "source": [
    "# percabangan. menentukan huruf mutu\n",
    "\n",
    "# input\n",
    "nilai = 82\n",
    "\n",
    "# proses \n",
    "if nilai > 80:\n",
    "    print(\"A\") # input\n",
    "elif nilai > 70:\n",
    "    print(\"B\")\n",
    "elif nilai > 60:\n",
    "    print(\"C\")\n",
    "elif nilai > 70:\n",
    "    print(\"D\")\n",
    "else:\n",
    "    print(\"E\")"
   ],
   "outputs": [
    {
     "output_type": "stream",
     "name": "stdout",
     "text": [
      "A\n"
     ]
    }
   ],
   "metadata": {}
  },
  {
   "cell_type": "code",
   "execution_count": 9,
   "source": [
    "# perulangan. Menghitung faktorial\n",
    "\n",
    "# input\n",
    "bilangan = 5\n",
    "faktorial = 1\n",
    "\n",
    "# proses\n",
    "for i in range(1, bilangan + 1):\n",
    "    faktorial = faktorial * i\n",
    "    \n",
    "# output\n",
    "print(\"Faktorial dari\", bilangan, \"adalah\", faktorial)"
   ],
   "outputs": [
    {
     "output_type": "stream",
     "name": "stdout",
     "text": [
      "Faktorial dari 5 adalah 120\n"
     ]
    }
   ],
   "metadata": {}
  },
  {
   "cell_type": "code",
   "execution_count": 10,
   "source": [
    "# Array. Menampilkan element yang ada didalam list\n",
    "\n",
    "# input array\n",
    "mk = [\"Data Mining\", \"Data Spatial\", \"Machine Learning\", \"Deep Learning\", \"Statistik Komputasi\"]\n",
    "\n",
    "# proses\n",
    "print(\"Mata kuliah sebanyak\",format(len(mk)),\"\\n\")\n",
    "for i in mk:\n",
    "    print(i)"
   ],
   "outputs": [
    {
     "output_type": "stream",
     "name": "stdout",
     "text": [
      "Mata kuliah sebanyak 5 \n",
      "\n",
      "Data Mining\n",
      "Data Spatial\n",
      "Machine Learning\n",
      "Deep Learning\n",
      "Statistik Komputasi\n"
     ]
    }
   ],
   "metadata": {}
  },
  {
   "cell_type": "code",
   "execution_count": 11,
   "source": [
    "# Array. Menjumlahkan 2 buah matrik\n",
    "\n",
    "# input\n",
    "mat1 = [\n",
    "    [5, 0],\n",
    "    [2, 6],\n",
    "]\n",
    "\n",
    "mat2 = [\n",
    "    [1, 0],\n",
    "    [4, 2],\n",
    "]\n",
    "\n",
    "# proses\n",
    "for x in range(0, len(mat1)):\n",
    "    for y in range(0, len(mat1[0])):\n",
    "        print (mat1[x][y] + mat2[x][y], end=\" \") # output\n",
    "    print(\" \")"
   ],
   "outputs": [
    {
     "output_type": "stream",
     "name": "stdout",
     "text": [
      "6 0  \n",
      "6 8  \n"
     ]
    }
   ],
   "metadata": {}
  },
  {
   "cell_type": "code",
   "execution_count": 12,
   "source": [
    "# Membuat Fungsi. menjumlahkan array dengan fungsi (def)\n",
    "\n",
    "# fungsi lbr_matriks dan pjg_matriks untuk menentukan ukuran dimensi array\n",
    "def lbr_matriks(matriks):\n",
    "    return len(matriks)\n",
    "\n",
    "def pjg_matriks(matriks):\n",
    "    return len(matriks[0])\n",
    "\n",
    "# fungsi untuk menjumlahkan arrray\n",
    "def jumlahkan_matriks(mat_a, mat_b):\n",
    "    temp_row = []\n",
    "    temp_mat = [] \n",
    "    for i in range(0, lbr_matriks(mat_a)):\n",
    "        for j in range(0, pjg_matriks(mat_a)):\n",
    "            temp_row.append(mat_a[i][j] + mat_b[i][j])\n",
    "        temp_mat.append(temp_row)\n",
    "        temp_row = []\n",
    "    return temp_mat\n",
    "\n",
    "# fungsi untuk menampilkan isi array\n",
    "def cetak_matriks(matriks):\n",
    "    for row in matriks:\n",
    "        print (row)"
   ],
   "outputs": [],
   "metadata": {}
  },
  {
   "cell_type": "code",
   "execution_count": 13,
   "source": [
    "# input array\n",
    "matriks_a = [[1, 2, 3, 4], [5, 6, 7, 8]]\n",
    "matriks_b = [[1, 1, 1, 1], [1, 1, 1, 1]]\n",
    "\n",
    "# proses\n",
    "hasil = jumlahkan_matriks(matriks_a, matriks_b)\n",
    "\n",
    "# output\n",
    "print (\"matriks_a : \")\n",
    "cetak_matriks(matriks_a)\n",
    "\n",
    "print (\"\\nmatriks_b : \")\n",
    "cetak_matriks(matriks_b)\n",
    "\n",
    "print (\"\\nhasil penjumlahan :\")\n",
    "cetak_matriks(hasil)"
   ],
   "outputs": [
    {
     "output_type": "stream",
     "name": "stdout",
     "text": [
      "matriks_a : \n",
      "[1, 2, 3, 4]\n",
      "[5, 6, 7, 8]\n",
      "\n",
      "matriks_b : \n",
      "[1, 1, 1, 1]\n",
      "[1, 1, 1, 1]\n",
      "\n",
      "hasil penjumlahan :\n",
      "[2, 3, 4, 5]\n",
      "[6, 7, 8, 9]\n"
     ]
    }
   ],
   "metadata": {}
  },
  {
   "cell_type": "code",
   "execution_count": 14,
   "source": [
    "# load lib numpy\n",
    "import numpy as np\n",
    "\n",
    "# input menggunakan numpy\n",
    "# np.array()\n",
    "matriks_a = np.array([[1, 2, 3, 4], [5, 6, 7, 8]])\n",
    "matriks_b = np.array([[1, 1, 1, 1], [1, 1, 1, 1]])\n",
    "\n",
    "# proses\n",
    "matriks_c = matriks_a + matriks_b\n",
    "\n",
    "#output\n",
    "print(matriks_c)"
   ],
   "outputs": [
    {
     "output_type": "stream",
     "name": "stdout",
     "text": [
      "[[2 3 4 5]\n",
      " [6 7 8 9]]\n"
     ]
    }
   ],
   "metadata": {}
  },
  {
   "cell_type": "code",
   "execution_count": 15,
   "source": [
    "# load lib numpy\n",
    "import numpy as np\n",
    "\n",
    "# definisi nilai array dengan numpy\n",
    "array = np.array([ [1, 2], [3, 4], [5, 6] ])\n",
    "\n",
    "# menjumlahkan element array\n",
    "total = np.sum(array)\n",
    "\n",
    "# menampilkan hasil\n",
    "print(\"Hasil jumlah semua elemen array adalah\",total)"
   ],
   "outputs": [
    {
     "output_type": "stream",
     "name": "stdout",
     "text": [
      "Hasil jumlah semua elemen array adalah 21\n"
     ]
    }
   ],
   "metadata": {}
  },
  {
   "cell_type": "code",
   "execution_count": null,
   "source": [],
   "outputs": [],
   "metadata": {}
  }
 ],
 "metadata": {
  "kernelspec": {
   "display_name": "Python 3",
   "language": "python",
   "name": "python3"
  },
  "language_info": {
   "codemirror_mode": {
    "name": "ipython",
    "version": 3
   },
   "file_extension": ".py",
   "mimetype": "text/x-python",
   "name": "python",
   "nbconvert_exporter": "python",
   "pygments_lexer": "ipython3",
   "version": "3.8.5"
  }
 },
 "nbformat": 4,
 "nbformat_minor": 4
}