{
 "cells": [
  {
   "cell_type": "markdown",
   "source": [
    "# Review Studi Kasus Dasar-Dasar Pemrograman\n",
    "- Implementasi Numpy, Pandas, Matplotlib"
   ],
   "metadata": {}
  },
  {
   "cell_type": "code",
   "execution_count": 2,
   "source": [
    "# PROGRAN hitung huruf mutu\r\n",
    "# masukan berupa nim, formatif, uts, uas\r\n",
    "# proses uts = 30%, UAS = 30%, Formatif = 40%.\r\n",
    "# proses 80 = A, 70 = B, ...., 50 = E\r\n",
    "# keluaran huruf mutu dan visualisasi histogram\r\n",
    "\r\n",
    "# Load Library\r\n",
    "import numpy as np # => menghitung numerik\r\n",
    "import pandas as pd # => membuat dataset menjadi data frame\r\n",
    "import matplotlib.pyplot as plt # => viisualisasi datanya"
   ],
   "outputs": [],
   "metadata": {}
  },
  {
   "cell_type": "code",
   "execution_count": 4,
   "source": [
    "# ALGORITMA\r\n",
    "\r\n",
    "# Load dataset sebagai inputan sistem\r\n",
    "dataset = pd.read_csv(\"D:/Bahan Ajar Big Data/dataset/dataset_hitung_nilai.csv\")\r\n",
    "\r\n",
    "# Karakteristik dataset\r\n",
    "# dataset.head()\r\n",
    "# dataset.describe()\r\n",
    "# type(dataset)\r\n",
    "\r\n",
    "# Menampilkan dataset\r\n",
    "print(dataset)"
   ],
   "outputs": [
    {
     "output_type": "stream",
     "name": "stdout",
     "text": [
      "            nim  formatif  uts  uas\n",
      "0    1114091001        76   60   82\n",
      "1    1114091002       100   85   52\n",
      "2    1114091003        74   93   98\n",
      "3    1114091004        70   82   93\n",
      "4    1114091005        99   71   94\n",
      "..          ...       ...  ...  ...\n",
      "495  1114091496       100  100   85\n",
      "496  1114091497        72   89   69\n",
      "497  1114091498        84   83   89\n",
      "498  1114091499        72   58   70\n",
      "499  1114091500        75  100   92\n",
      "\n",
      "[500 rows x 4 columns]\n"
     ]
    }
   ],
   "metadata": {}
  },
  {
   "cell_type": "code",
   "execution_count": 8,
   "source": [
    "# proses menghitung nilai akhir dan menambahkan kolom nilai akhir ke dataset\r\n",
    "dataset[\"nilai_akhir\"] = (dataset[\"formatif\"] * 0.4) + (dataset[\"uts\"] * 0.3) + (dataset[\"uas\"] * 0.3)\r\n",
    "\r\n",
    "# Menampilkan dataset\r\n",
    "print(dataset)"
   ],
   "outputs": [
    {
     "output_type": "stream",
     "name": "stdout",
     "text": [
      "            nim  formatif  uts  uas  nilai_akhir\n",
      "0    1114091001        76   60   82         73.0\n",
      "1    1114091002       100   85   52         81.1\n",
      "2    1114091003        74   93   98         86.9\n",
      "3    1114091004        70   82   93         80.5\n",
      "4    1114091005        99   71   94         89.1\n",
      "..          ...       ...  ...  ...          ...\n",
      "495  1114091496       100  100   85         95.5\n",
      "496  1114091497        72   89   69         76.2\n",
      "497  1114091498        84   83   89         85.2\n",
      "498  1114091499        72   58   70         67.2\n",
      "499  1114091500        75  100   92         87.6\n",
      "\n",
      "[500 rows x 5 columns]\n"
     ]
    }
   ],
   "metadata": {}
  },
  {
   "cell_type": "code",
   "execution_count": 9,
   "source": [
    "# Membuat fungsi untuk menentukan nilai huruf\r\n",
    "def nilai_huruf(nilai_akhir):\r\n",
    "    huruf = []\r\n",
    "    for x in nilai_akhir:\r\n",
    "        if x >= 80:\r\n",
    "            huruf.append(\"A\")\r\n",
    "        elif x >= 70:\r\n",
    "            huruf.append(\"B\")\r\n",
    "        elif x >= 60:\r\n",
    "            huruf.append(\"C\")\r\n",
    "        elif x >= 50:\r\n",
    "            huruf.append(\"D\")\r\n",
    "        else:\r\n",
    "            huruf.append(\"E\")\r\n",
    "    return huruf"
   ],
   "outputs": [],
   "metadata": {}
  },
  {
   "cell_type": "code",
   "execution_count": 10,
   "source": [
    "# proses menentukan nilai akhir dan hasilnya dimasukan kedalam dataframe\r\n",
    "dataset[\"nilai_huruf\"] = nilai_huruf(np.array(dataset[\"nilai_akhir\"]))"
   ],
   "outputs": [],
   "metadata": {}
  },
  {
   "cell_type": "code",
   "execution_count": 11,
   "source": [
    "# OUTPUT pertama (Menampilkan dataset dengan tambahan variabel nilai akhir dan nilai huruf)\r\n",
    "print(dataset)"
   ],
   "outputs": [
    {
     "output_type": "stream",
     "name": "stdout",
     "text": [
      "            nim  formatif  uts  uas  nilai_akhir nilai_huruf\n",
      "0    1114091001        76   60   82         73.0           B\n",
      "1    1114091002       100   85   52         81.1           A\n",
      "2    1114091003        74   93   98         86.9           A\n",
      "3    1114091004        70   82   93         80.5           A\n",
      "4    1114091005        99   71   94         89.1           A\n",
      "..          ...       ...  ...  ...          ...         ...\n",
      "495  1114091496       100  100   85         95.5           A\n",
      "496  1114091497        72   89   69         76.2           B\n",
      "497  1114091498        84   83   89         85.2           A\n",
      "498  1114091499        72   58   70         67.2           C\n",
      "499  1114091500        75  100   92         87.6           A\n",
      "\n",
      "[500 rows x 6 columns]\n"
     ]
    }
   ],
   "metadata": {}
  },
  {
   "cell_type": "code",
   "execution_count": 12,
   "source": [
    "# OUTPUT Kedua (membuat histogram)\r\n",
    "nilai_akhir = dataset[\"nilai_akhir\"]\r\n",
    "\r\n",
    "# Membuat frame\r\n",
    "fig, ax = plt.subplots(figsize=(10,8))\r\n",
    "\r\n",
    "ax.set_xlabel('Nilai Akhir')\r\n",
    "ax.set_ylabel('Jumlah Data')\r\n",
    "ax.set_title('Histogram Nilai Akhir')\r\n",
    "\r\n",
    "plt.hist(x = nilai_akhir, bins=10, density=True)\r\n",
    "plt.show()"
   ],
   "outputs": [
    {
     "output_type": "display_data",
     "data": {
      "image/png": "[encoded data removed]",
      "text/plain": [
       "<Figure size 720x576 with 1 Axes>"
      ]
     },
     "metadata": {
      "needs_background": "light"
     }
    }
   ],
   "metadata": {}
  },
  {
   "cell_type": "code",
   "execution_count": null,
   "source": [],
   "outputs": [],
   "metadata": {}
  },
  {
   "cell_type": "code",
   "execution_count": null,
   "source": [],
   "outputs": [],
   "metadata": {}
  }
 ],
 "metadata": {
  "kernelspec": {
   "name": "python3",
   "display_name": "Python 3.8.5 64-bit ('base': conda)"
  },
  "language_info": {
   "codemirror_mode": {
    "name": "ipython",
    "version": 3
   },
   "file_extension": ".py",
   "mimetype": "text/x-python",
   "name": "python",
   "nbconvert_exporter": "python",
   "pygments_lexer": "ipython3",
   "version": "3.8.5"
  },
  "interpreter": {
   "hash": "af8c20166cad848477e998d1598fb9b9ed106df038381b17b4e27391b8c3c5c3"
  }
 },
 "nbformat": 4,
 "nbformat_minor": 4
}