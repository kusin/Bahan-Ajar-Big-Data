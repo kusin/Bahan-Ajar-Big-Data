{
 "cells": [
  {
   "cell_type": "markdown",
   "metadata": {
    "id": "qmEp_gntlAX_"
   },
   "source": [
    "### Multivariate Hyperparameter GridSearchCV LSTM-RNN Sumatera Selatan"
   ]
  },
  {
   "cell_type": "code",
   "execution_count": 1,
   "metadata": {
    "id": "aFdF9w2TlAYC"
   },
   "outputs": [],
   "source": [
    "# pustaka untuk manipulasi data\n",
    "import pandas as pd\n",
    "from pandas import concat\n",
    "from pandas import DataFrame\n",
    "from pandas import read_csv\n",
    "from pandas import read_excel\n",
    "import numpy as np\n",
    "from numpy import concatenate\n",
    "\n",
    "# pustaka untuk waktu komputasi\n",
    "import time\n",
    "from datetime import datetime\n",
    "\n",
    "# Pustaka untuk visualisasi data\n",
    "import seaborn as sns # Visualization\n",
    "from matplotlib import pyplot\n",
    "from matplotlib import pyplot as plt\n",
    "\n",
    "# Pustaka untuk membuat data latih dan data uji.\n",
    "from sklearn.preprocessing import MinMaxScaler\n",
    "from sklearn.preprocessing import LabelEncoder\n",
    "\n",
    "# Pustaka untuk membuat model prediksi LSTM-RNN\n",
    "import itertools\n",
    "import tensorflow as tf\n",
    "from keras.models import Sequential\n",
    "from keras.layers import Dense\n",
    "from keras.layers import Dropout\n",
    "from keras.layers import LSTM\n",
    "from keras.optimizers import Adam, Adamax, RMSprop, SGD\n",
    "\n",
    "# Early stoping\n",
    "from keras.callbacks import EarlyStopping\n",
    "from keras.callbacks import ModelCheckpoint\n",
    "\n",
    "# Pustaka untuk  evaluasi model prediksi\n",
    "from math import sqrt\n",
    "from sklearn.metrics import mean_squared_error"
   ]
  },
  {
   "cell_type": "code",
   "execution_count": 2,
   "metadata": {},
   "outputs": [],
   "source": [
    "# Set waktu komputasi\n",
    "start = time.time()"
   ]
  },
  {
   "cell_type": "code",
   "execution_count": 3,
   "metadata": {},
   "outputs": [],
   "source": [
    "# fix random seed for reproducibility\n",
    "np.random.seed(1)"
   ]
  },
  {
   "cell_type": "code",
   "execution_count": 4,
   "metadata": {
    "id": "QO6BLIJxlAYC"
   },
   "outputs": [],
   "source": [
    "# membaca dataset\n",
    "dataset = pd.read_excel(\"D:/Belajar Python/dataset/dataset tesis/dataset.xlsx\")"
   ]
  },
  {
   "cell_type": "code",
   "execution_count": 5,
   "metadata": {
    "id": "_X0C84vZlAYD"
   },
   "outputs": [],
   "source": [
    "# set index tanggal\n",
    "dataset = dataset.set_index(\"tanggal\")"
   ]
  },
  {
   "cell_type": "code",
   "execution_count": 6,
   "metadata": {
    "colab": {
     "base_uri": "https://localhost:8080/"
    },
    "executionInfo": {
     "elapsed": 3,
     "status": "ok",
     "timestamp": 1626258920272,
     "user": {
      "displayName": "colab aji",
      "photoUrl": "",
      "userId": "15648518280582116117"
     },
     "user_tz": -420
    },
    "id": "ex6mK9NwlAYD",
    "outputId": "f3a673bb-ad4a-4809-96d5-3bb8c8829b94"
   },
   "outputs": [
    {
     "name": "stdout",
     "output_type": "stream",
     "text": [
      "<class 'pandas.core.frame.DataFrame'>\n",
      "DatetimeIndex: 240 entries, 2001-01-31 to 2020-12-31\n",
      "Data columns (total 5 columns):\n",
      " #   Column          Non-Null Count  Dtype  \n",
      "---  ------          --------------  -----  \n",
      " 0   sst             240 non-null    float64\n",
      " 1   soi             240 non-null    float64\n",
      " 2   oni             240 non-null    float64\n",
      " 3   hotspot_riau    240 non-null    int64  \n",
      " 4   hotspot_sumsel  240 non-null    int64  \n",
      "dtypes: float64(3), int64(2)\n",
      "memory usage: 11.2 KB\n"
     ]
    }
   ],
   "source": [
    "# set informasi dataset\n",
    "dataset.info()"
   ]
  },
  {
   "cell_type": "code",
   "execution_count": 7,
   "metadata": {
    "colab": {
     "base_uri": "https://localhost:8080/",
     "height": 450
    },
    "executionInfo": {
     "elapsed": 10,
     "status": "ok",
     "timestamp": 1626258922893,
     "user": {
      "displayName": "colab aji",
      "photoUrl": "",
      "userId": "15648518280582116117"
     },
     "user_tz": -420
    },
    "id": "-tCG5W3UlAYE",
    "outputId": "6ddd11f7-e325-4134-e0bf-fbf164eeef54"
   },
   "outputs": [
    {
     "name": "stdout",
     "output_type": "stream",
     "text": [
      "             sst  soi   oni  hotspot_riau  hotspot_sumsel\n",
      "tanggal                                                  \n",
      "2001-01-31 -0.83  1.6 -0.68            17               3\n",
      "2001-02-28 -0.61  2.8 -0.52           159               5\n",
      "2001-03-31 -0.38  1.5 -0.44           479              10\n",
      "2001-04-30 -0.26  0.3 -0.34            45              20\n",
      "2001-05-31 -0.25 -0.8 -0.25            81              39\n"
     ]
    }
   ],
   "source": [
    "# menampilkan dataset\n",
    "print(dataset.head())"
   ]
  },
  {
   "cell_type": "markdown",
   "metadata": {
    "id": "vHygYC21lAYF"
   },
   "source": [
    "### Studi kasus wilayah Sumatra Selatan"
   ]
  },
  {
   "cell_type": "code",
   "execution_count": 8,
   "metadata": {
    "id": "NLHR0cBblAYG"
   },
   "outputs": [
    {
     "name": "stdout",
     "output_type": "stream",
     "text": [
      "<class 'pandas.core.frame.DataFrame'>\n",
      "DatetimeIndex: 240 entries, 2001-01-31 to 2020-12-31\n",
      "Data columns (total 4 columns):\n",
      " #   Column          Non-Null Count  Dtype  \n",
      "---  ------          --------------  -----  \n",
      " 0   hotspot_sumsel  240 non-null    int64  \n",
      " 1   sst             240 non-null    float64\n",
      " 2   soi             240 non-null    float64\n",
      " 3   oni             240 non-null    float64\n",
      "dtypes: float64(3), int64(1)\n",
      "memory usage: 9.4 KB\n"
     ]
    }
   ],
   "source": [
    "# memilih area studi\n",
    "df_sumsel = dataset[[\"hotspot_sumsel\", \"sst\", \"soi\", \"oni\"]]\n",
    "df_sumsel.info()"
   ]
  },
  {
   "cell_type": "code",
   "execution_count": 9,
   "metadata": {
    "colab": {
     "base_uri": "https://localhost:8080/",
     "height": 450
    },
    "executionInfo": {
     "elapsed": 4,
     "status": "ok",
     "timestamp": 1626258927759,
     "user": {
      "displayName": "colab aji",
      "photoUrl": "",
      "userId": "15648518280582116117"
     },
     "user_tz": -420
    },
    "id": "NDmtn18olAYG",
    "outputId": "81155b7f-8f28-4380-c9d5-305d2769609c"
   },
   "outputs": [
    {
     "name": "stdout",
     "output_type": "stream",
     "text": [
      "            hotspot_sumsel   sst  soi   oni\n",
      "tanggal                                    \n",
      "2001-01-31               3 -0.83  1.6 -0.68\n",
      "2001-02-28               5 -0.61  2.8 -0.52\n",
      "2001-03-31              10 -0.38  1.5 -0.44\n",
      "2001-04-30              20 -0.26  0.3 -0.34\n",
      "2001-05-31              39 -0.25 -0.8 -0.25\n"
     ]
    }
   ],
   "source": [
    "print(df_sumsel.head())"
   ]
  },
  {
   "cell_type": "code",
   "execution_count": 10,
   "metadata": {
    "id": "lkvpA74UlAYH"
   },
   "outputs": [],
   "source": [
    "# ensure all data is float\n",
    "values = df_sumsel.values\n",
    "values = values.astype('float32')"
   ]
  },
  {
   "cell_type": "markdown",
   "metadata": {
    "id": "ChnwwI0tlAYH"
   },
   "source": [
    "### Normalisasi Data"
   ]
  },
  {
   "cell_type": "code",
   "execution_count": 11,
   "metadata": {
    "id": "Fbrm4QrllAYH"
   },
   "outputs": [],
   "source": [
    "# membuat fungsi max-min scaler\n",
    "# menggunakan pustaka scikit-learn\n",
    "def normalisasi_max_min(df):\n",
    "    # memanggil fungsi max min scaler\n",
    "    hasil = preprocessing.MinMaxScaler(feature_range=(-1, 1))\n",
    "    \n",
    "    # proses max min scaler\n",
    "    hasil = hasil.fit_transform(df)\n",
    "    \n",
    "    # pengembalian nilai\n",
    "    return hasil"
   ]
  },
  {
   "cell_type": "code",
   "execution_count": 12,
   "metadata": {},
   "outputs": [],
   "source": [
    "# normalize features\n",
    "scaler = MinMaxScaler(feature_range=(-1, 1))\n",
    "scaled = scaler.fit_transform(values)"
   ]
  },
  {
   "cell_type": "code",
   "execution_count": 13,
   "metadata": {},
   "outputs": [
    {
     "data": {
      "text/plain": [
       "array([[-0.999723, -0.561983,  0.36    , -0.551402],\n",
       "       [-0.999445, -0.471074,  0.6     , -0.476636],\n",
       "       [-0.998751, -0.376033,  0.34    , -0.439252],\n",
       "       [-0.997364, -0.326446,  0.1     , -0.392523],\n",
       "       [-0.994728, -0.322314, -0.12    , -0.350467]], dtype=float32)"
      ]
     },
     "execution_count": 13,
     "metadata": {},
     "output_type": "execute_result"
    }
   ],
   "source": [
    "np.round(scaled[:5],6)"
   ]
  },
  {
   "cell_type": "markdown",
   "metadata": {
    "id": "QGGUCbtxlAYI"
   },
   "source": [
    "### Normalisasi dan Supervised learning"
   ]
  },
  {
   "cell_type": "code",
   "execution_count": 14,
   "metadata": {
    "id": "MS2tmB8llAYJ"
   },
   "outputs": [],
   "source": [
    "def series_to_supervised(data, n_in=1, n_out=1, dropnan=True):\n",
    "    n_vars = 1 if type(data) is list else data.shape[1]\n",
    "    df = pd.DataFrame(data)\n",
    "    cols, names = list(), list()\n",
    "    \n",
    "    # input sequence (t-n, ... t-1)\n",
    "    for i in range(n_in, 0, -1):\n",
    "        cols.append(df.shift(i))\n",
    "        names += [('var%d(t-%d)' % (j+1, i)) for j in range(n_vars)]\n",
    "    \n",
    "    # forecast sequence (t, t+1, ... t+n)\n",
    "    for i in range(0, n_out):\n",
    "        cols.append(df.shift(-i))\n",
    "        if i == 0:\n",
    "            names += [('var%d(t)' % (j+1)) for j in range(n_vars)]\n",
    "        else:\n",
    "            names += [('var%d(t+%d)' % (j+1, i)) for j in range(n_vars)]\n",
    "    \n",
    "    # put it all together\n",
    "    agg = pd.concat(cols, axis=1)\n",
    "    agg.columns = names\n",
    "    \n",
    "    # drop rows with NaN values\n",
    "    if dropnan:\n",
    "        agg.dropna(inplace=True)\n",
    "    \n",
    "    # return value\n",
    "    return agg"
   ]
  },
  {
   "cell_type": "code",
   "execution_count": 15,
   "metadata": {
    "id": "sO4ef4_dlAYJ"
   },
   "outputs": [],
   "source": [
    "# supervised learning\n",
    "reframed = series_to_supervised(scaled, 1, 1)"
   ]
  },
  {
   "cell_type": "code",
   "execution_count": 16,
   "metadata": {
    "id": "rwM0hrEJlAYJ"
   },
   "outputs": [],
   "source": [
    "# drop columns we don't want to predict\n",
    "reframed.drop(reframed.columns[[5,6,7]], axis=1, inplace=True)"
   ]
  },
  {
   "cell_type": "code",
   "execution_count": 17,
   "metadata": {
    "colab": {
     "base_uri": "https://localhost:8080/",
     "height": 419
    },
    "executionInfo": {
     "elapsed": 3,
     "status": "ok",
     "timestamp": 1626258939582,
     "user": {
      "displayName": "colab aji",
      "photoUrl": "",
      "userId": "15648518280582116117"
     },
     "user_tz": -420
    },
    "id": "e7cBI6cjlAYJ",
    "outputId": "d26c9baa-7d8f-40b8-a70f-3077ff3eae72"
   },
   "outputs": [],
   "source": [
    "values = reframed.values"
   ]
  },
  {
   "cell_type": "code",
   "execution_count": 18,
   "metadata": {},
   "outputs": [
    {
     "name": "stdout",
     "output_type": "stream",
     "text": [
      "   var1(t-1)  var2(t-1)  var3(t-1)  var4(t-1)   var1(t)\n",
      "1  -0.999723  -0.561983       0.36  -0.551402 -0.999445\n",
      "2  -0.999445  -0.471074       0.60  -0.476636 -0.998751\n",
      "3  -0.998751  -0.376033       0.34  -0.439252 -0.997364\n",
      "4  -0.997364  -0.326446       0.10  -0.392523 -0.994728\n",
      "5  -0.994728  -0.322314      -0.12  -0.350467 -0.999029\n"
     ]
    }
   ],
   "source": [
    "print(reframed.head())"
   ]
  },
  {
   "cell_type": "markdown",
   "metadata": {
    "id": "uzdHWPJBlAYK"
   },
   "source": [
    "### Data latih dan Data uji"
   ]
  },
  {
   "cell_type": "code",
   "execution_count": 19,
   "metadata": {
    "id": "112zwkjllAYK"
   },
   "outputs": [],
   "source": [
    "# split into train and test sets\n",
    "train_size = int(len(values) * 0.8)\n",
    "test_size = len(values) - train_size\n",
    "train, test = values[0:train_size,:], values[train_size:len(values),:]"
   ]
  },
  {
   "cell_type": "code",
   "execution_count": 20,
   "metadata": {
    "id": "ZgWternzlAYK"
   },
   "outputs": [],
   "source": [
    "# split into input and outputs\n",
    "train_X, train_y = train[:, :-1], train[:, -1]\n",
    "test_X, test_y = test[:, :-1], test[:, -1]"
   ]
  },
  {
   "cell_type": "code",
   "execution_count": 21,
   "metadata": {
    "id": "CrpRb-ZGlAYK"
   },
   "outputs": [],
   "source": [
    "# reshape input to be 3D [samples, timesteps, features]\n",
    "train_X = train_X.reshape((train_X.shape[0], 1, train_X.shape[1]))\n",
    "test_X = test_X.reshape((test_X.shape[0], 1, test_X.shape[1]))"
   ]
  },
  {
   "cell_type": "code",
   "execution_count": 22,
   "metadata": {
    "colab": {
     "base_uri": "https://localhost:8080/"
    },
    "executionInfo": {
     "elapsed": 2,
     "status": "ok",
     "timestamp": 1626258949398,
     "user": {
      "displayName": "colab aji",
      "photoUrl": "",
      "userId": "15648518280582116117"
     },
     "user_tz": -420
    },
    "id": "cGk1fqY1lAYK",
    "outputId": "2e69741d-7616-4375-8f91-c4cdb2c34487"
   },
   "outputs": [
    {
     "name": "stdout",
     "output_type": "stream",
     "text": [
      "(191, 1, 4) (191,) (48, 1, 4) (48,)\n"
     ]
    }
   ],
   "source": [
    "print(train_X.shape, train_y.shape, test_X.shape, test_y.shape)"
   ]
  },
  {
   "cell_type": "markdown",
   "metadata": {},
   "source": [
    "### Hyperparameter GridSearchCV LTSM-RNN"
   ]
  },
  {
   "cell_type": "code",
   "execution_count": 23,
   "metadata": {},
   "outputs": [],
   "source": [
    "from keras.wrappers.scikit_learn import KerasClassifier\n",
    "from keras.wrappers.scikit_learn import KerasRegressor\n",
    "from sklearn.model_selection import GridSearchCV"
   ]
  },
  {
   "cell_type": "code",
   "execution_count": 24,
   "metadata": {},
   "outputs": [],
   "source": [
    "parameters = {'neurons' : [10],\n",
    "              'activation' : ['sigmoid', 'tanh', 'relu', 'selu', 'elu', 'softplus'],\n",
    "              'optimizer' : ['adam', 'adamax', 'rmsprop', 'sgd'],\n",
    "              'dropout_rate' : [0.1, 0.2, 0.3, 0.4, 0.5],\n",
    "              'epochs' : [2000],\n",
    "              'batch_size' : [8, 16, 32, 64],\n",
    "              'verbose' : [0]}"
   ]
  },
  {
   "cell_type": "code",
   "execution_count": 25,
   "metadata": {},
   "outputs": [
    {
     "name": "stdout",
     "output_type": "stream",
     "text": [
      "480 kombinasi hyperparameter\n"
     ]
    }
   ],
   "source": [
    "keys = parameters.keys()\n",
    "values = (parameters[key] for key in keys)\n",
    "combinations = [dict(zip(keys, combination)) for combination in itertools.product(*values)]\n",
    "print(len(combinations), str('kombinasi hyperparameter'))"
   ]
  },
  {
   "cell_type": "code",
   "execution_count": 26,
   "metadata": {},
   "outputs": [],
   "source": [
    "def build_classifier(neurons='', activation='', optimizer='', dropout_rate=''):\n",
    "    tf.keras.backend.clear_session()\n",
    "    \n",
    "    # design network\n",
    "    grid_model = Sequential()\n",
    "    grid_model.add(LSTM(units=neurons, activation=activation, input_shape=(train_X.shape[1], train_X.shape[2])))\n",
    "    grid_model.add(Dropout(dropout_rate))\n",
    "    grid_model.add(Dense(1))\n",
    "\n",
    "    # model compile\n",
    "    grid_model.compile(loss='mae', optimizer=optimizer)\n",
    "    \n",
    "    # return value\n",
    "    return grid_model"
   ]
  },
  {
   "cell_type": "code",
   "execution_count": 27,
   "metadata": {},
   "outputs": [],
   "source": [
    "grid_model = KerasRegressor(build_fn=build_classifier)"
   ]
  },
  {
   "cell_type": "code",
   "execution_count": 28,
   "metadata": {},
   "outputs": [],
   "source": [
    "grid_search = GridSearchCV(estimator=grid_model, param_grid=parameters, n_jobs=-1, cv=2, scoring= 'neg_root_mean_squared_error')"
   ]
  },
  {
   "cell_type": "code",
   "execution_count": 29,
   "metadata": {},
   "outputs": [],
   "source": [
    "grid_result = grid_search.fit(train_X, train_y)"
   ]
  },
  {
   "cell_type": "code",
   "execution_count": 30,
   "metadata": {},
   "outputs": [
    {
     "name": "stdout",
     "output_type": "stream",
     "text": [
      "Best parameters: -0.203195 using {'activation': 'tanh', 'batch_size': 16, 'dropout_rate': 0.1, 'epochs': 2000, 'neurons': 10, 'optimizer': 'adam', 'verbose': 0}\n",
      "\n",
      "-0.226979 (0.058035) with: {'activation': 'sigmoid', 'batch_size': 8, 'dropout_rate': 0.1, 'epochs': 2000, 'neurons': 10, 'optimizer': 'adam', 'verbose': 0}\n",
      "-0.249181 (0.058202) with: {'activation': 'sigmoid', 'batch_size': 8, 'dropout_rate': 0.1, 'epochs': 2000, 'neurons': 10, 'optimizer': 'adamax', 'verbose': 0}\n",
      "-0.220630 (0.051664) with: {'activation': 'sigmoid', 'batch_size': 8, 'dropout_rate': 0.1, 'epochs': 2000, 'neurons': 10, 'optimizer': 'rmsprop', 'verbose': 0}\n",
      "-0.268517 (0.061958) with: {'activation': 'sigmoid', 'batch_size': 8, 'dropout_rate': 0.1, 'epochs': 2000, 'neurons': 10, 'optimizer': 'sgd', 'verbose': 0}\n",
      "-0.225168 (0.054898) with: {'activation': 'sigmoid', 'batch_size': 8, 'dropout_rate': 0.2, 'epochs': 2000, 'neurons': 10, 'optimizer': 'adam', 'verbose': 0}\n",
      "-0.257483 (0.062022) with: {'activation': 'sigmoid', 'batch_size': 8, 'dropout_rate': 0.2, 'epochs': 2000, 'neurons': 10, 'optimizer': 'adamax', 'verbose': 0}\n",
      "-0.220499 (0.050916) with: {'activation': 'sigmoid', 'batch_size': 8, 'dropout_rate': 0.2, 'epochs': 2000, 'neurons': 10, 'optimizer': 'rmsprop', 'verbose': 0}\n",
      "-0.271219 (0.065638) with: {'activation': 'sigmoid', 'batch_size': 8, 'dropout_rate': 0.2, 'epochs': 2000, 'neurons': 10, 'optimizer': 'sgd', 'verbose': 0}\n",
      "-0.229671 (0.055986) with: {'activation': 'sigmoid', 'batch_size': 8, 'dropout_rate': 0.3, 'epochs': 2000, 'neurons': 10, 'optimizer': 'adam', 'verbose': 0}\n",
      "-0.252643 (0.058885) with: {'activation': 'sigmoid', 'batch_size': 8, 'dropout_rate': 0.3, 'epochs': 2000, 'neurons': 10, 'optimizer': 'adamax', 'verbose': 0}\n",
      "-0.224552 (0.048764) with: {'activation': 'sigmoid', 'batch_size': 8, 'dropout_rate': 0.3, 'epochs': 2000, 'neurons': 10, 'optimizer': 'rmsprop', 'verbose': 0}\n",
      "-0.268356 (0.063207) with: {'activation': 'sigmoid', 'batch_size': 8, 'dropout_rate': 0.3, 'epochs': 2000, 'neurons': 10, 'optimizer': 'sgd', 'verbose': 0}\n",
      "-0.228632 (0.055006) with: {'activation': 'sigmoid', 'batch_size': 8, 'dropout_rate': 0.4, 'epochs': 2000, 'neurons': 10, 'optimizer': 'adam', 'verbose': 0}\n",
      "-0.260811 (0.059944) with: {'activation': 'sigmoid', 'batch_size': 8, 'dropout_rate': 0.4, 'epochs': 2000, 'neurons': 10, 'optimizer': 'adamax', 'verbose': 0}\n",
      "-0.226613 (0.050979) with: {'activation': 'sigmoid', 'batch_size': 8, 'dropout_rate': 0.4, 'epochs': 2000, 'neurons': 10, 'optimizer': 'rmsprop', 'verbose': 0}\n",
      "-0.271979 (0.063004) with: {'activation': 'sigmoid', 'batch_size': 8, 'dropout_rate': 0.4, 'epochs': 2000, 'neurons': 10, 'optimizer': 'sgd', 'verbose': 0}\n",
      "-0.233007 (0.056958) with: {'activation': 'sigmoid', 'batch_size': 8, 'dropout_rate': 0.5, 'epochs': 2000, 'neurons': 10, 'optimizer': 'adam', 'verbose': 0}\n",
      "-0.252583 (0.056403) with: {'activation': 'sigmoid', 'batch_size': 8, 'dropout_rate': 0.5, 'epochs': 2000, 'neurons': 10, 'optimizer': 'adamax', 'verbose': 0}\n",
      "-0.228431 (0.051424) with: {'activation': 'sigmoid', 'batch_size': 8, 'dropout_rate': 0.5, 'epochs': 2000, 'neurons': 10, 'optimizer': 'rmsprop', 'verbose': 0}\n",
      "-0.271728 (0.062526) with: {'activation': 'sigmoid', 'batch_size': 8, 'dropout_rate': 0.5, 'epochs': 2000, 'neurons': 10, 'optimizer': 'sgd', 'verbose': 0}\n",
      "-0.250208 (0.056432) with: {'activation': 'sigmoid', 'batch_size': 16, 'dropout_rate': 0.1, 'epochs': 2000, 'neurons': 10, 'optimizer': 'adam', 'verbose': 0}\n",
      "-0.250272 (0.059702) with: {'activation': 'sigmoid', 'batch_size': 16, 'dropout_rate': 0.1, 'epochs': 2000, 'neurons': 10, 'optimizer': 'adamax', 'verbose': 0}\n",
      "-0.230984 (0.061153) with: {'activation': 'sigmoid', 'batch_size': 16, 'dropout_rate': 0.1, 'epochs': 2000, 'neurons': 10, 'optimizer': 'rmsprop', 'verbose': 0}\n",
      "-0.270409 (0.062123) with: {'activation': 'sigmoid', 'batch_size': 16, 'dropout_rate': 0.1, 'epochs': 2000, 'neurons': 10, 'optimizer': 'sgd', 'verbose': 0}\n",
      "-0.259178 (0.060239) with: {'activation': 'sigmoid', 'batch_size': 16, 'dropout_rate': 0.2, 'epochs': 2000, 'neurons': 10, 'optimizer': 'adam', 'verbose': 0}\n",
      "-0.260522 (0.057418) with: {'activation': 'sigmoid', 'batch_size': 16, 'dropout_rate': 0.2, 'epochs': 2000, 'neurons': 10, 'optimizer': 'adamax', 'verbose': 0}\n",
      "-0.238828 (0.066634) with: {'activation': 'sigmoid', 'batch_size': 16, 'dropout_rate': 0.2, 'epochs': 2000, 'neurons': 10, 'optimizer': 'rmsprop', 'verbose': 0}\n",
      "-0.272951 (0.063646) with: {'activation': 'sigmoid', 'batch_size': 16, 'dropout_rate': 0.2, 'epochs': 2000, 'neurons': 10, 'optimizer': 'sgd', 'verbose': 0}\n",
      "-0.251956 (0.069084) with: {'activation': 'sigmoid', 'batch_size': 16, 'dropout_rate': 0.3, 'epochs': 2000, 'neurons': 10, 'optimizer': 'adam', 'verbose': 0}\n",
      "-0.267558 (0.067745) with: {'activation': 'sigmoid', 'batch_size': 16, 'dropout_rate': 0.3, 'epochs': 2000, 'neurons': 10, 'optimizer': 'adamax', 'verbose': 0}\n",
      "-0.229438 (0.055719) with: {'activation': 'sigmoid', 'batch_size': 16, 'dropout_rate': 0.3, 'epochs': 2000, 'neurons': 10, 'optimizer': 'rmsprop', 'verbose': 0}\n",
      "-0.272400 (0.064515) with: {'activation': 'sigmoid', 'batch_size': 16, 'dropout_rate': 0.3, 'epochs': 2000, 'neurons': 10, 'optimizer': 'sgd', 'verbose': 0}\n",
      "-0.250234 (0.062068) with: {'activation': 'sigmoid', 'batch_size': 16, 'dropout_rate': 0.4, 'epochs': 2000, 'neurons': 10, 'optimizer': 'adam', 'verbose': 0}\n",
      "-0.261652 (0.063208) with: {'activation': 'sigmoid', 'batch_size': 16, 'dropout_rate': 0.4, 'epochs': 2000, 'neurons': 10, 'optimizer': 'adamax', 'verbose': 0}\n",
      "-0.246635 (0.047479) with: {'activation': 'sigmoid', 'batch_size': 16, 'dropout_rate': 0.4, 'epochs': 2000, 'neurons': 10, 'optimizer': 'rmsprop', 'verbose': 0}\n",
      "-0.270206 (0.061695) with: {'activation': 'sigmoid', 'batch_size': 16, 'dropout_rate': 0.4, 'epochs': 2000, 'neurons': 10, 'optimizer': 'sgd', 'verbose': 0}\n",
      "-0.255918 (0.063813) with: {'activation': 'sigmoid', 'batch_size': 16, 'dropout_rate': 0.5, 'epochs': 2000, 'neurons': 10, 'optimizer': 'adam', 'verbose': 0}\n",
      "-0.264165 (0.063076) with: {'activation': 'sigmoid', 'batch_size': 16, 'dropout_rate': 0.5, 'epochs': 2000, 'neurons': 10, 'optimizer': 'adamax', 'verbose': 0}\n",
      "-0.238267 (0.056893) with: {'activation': 'sigmoid', 'batch_size': 16, 'dropout_rate': 0.5, 'epochs': 2000, 'neurons': 10, 'optimizer': 'rmsprop', 'verbose': 0}\n",
      "-0.272283 (0.063019) with: {'activation': 'sigmoid', 'batch_size': 16, 'dropout_rate': 0.5, 'epochs': 2000, 'neurons': 10, 'optimizer': 'sgd', 'verbose': 0}\n",
      "-0.259361 (0.064187) with: {'activation': 'sigmoid', 'batch_size': 32, 'dropout_rate': 0.1, 'epochs': 2000, 'neurons': 10, 'optimizer': 'adam', 'verbose': 0}\n",
      "-0.248774 (0.059147) with: {'activation': 'sigmoid', 'batch_size': 32, 'dropout_rate': 0.1, 'epochs': 2000, 'neurons': 10, 'optimizer': 'adamax', 'verbose': 0}\n",
      "-0.244357 (0.059027) with: {'activation': 'sigmoid', 'batch_size': 32, 'dropout_rate': 0.1, 'epochs': 2000, 'neurons': 10, 'optimizer': 'rmsprop', 'verbose': 0}\n",
      "-0.271089 (0.065077) with: {'activation': 'sigmoid', 'batch_size': 32, 'dropout_rate': 0.1, 'epochs': 2000, 'neurons': 10, 'optimizer': 'sgd', 'verbose': 0}\n",
      "-0.260386 (0.064144) with: {'activation': 'sigmoid', 'batch_size': 32, 'dropout_rate': 0.2, 'epochs': 2000, 'neurons': 10, 'optimizer': 'adam', 'verbose': 0}\n",
      "-0.256156 (0.059326) with: {'activation': 'sigmoid', 'batch_size': 32, 'dropout_rate': 0.2, 'epochs': 2000, 'neurons': 10, 'optimizer': 'adamax', 'verbose': 0}\n",
      "-0.241675 (0.058702) with: {'activation': 'sigmoid', 'batch_size': 32, 'dropout_rate': 0.2, 'epochs': 2000, 'neurons': 10, 'optimizer': 'rmsprop', 'verbose': 0}\n",
      "-0.271841 (0.064413) with: {'activation': 'sigmoid', 'batch_size': 32, 'dropout_rate': 0.2, 'epochs': 2000, 'neurons': 10, 'optimizer': 'sgd', 'verbose': 0}\n",
      "-0.267329 (0.067055) with: {'activation': 'sigmoid', 'batch_size': 32, 'dropout_rate': 0.3, 'epochs': 2000, 'neurons': 10, 'optimizer': 'adam', 'verbose': 0}\n",
      "-0.268679 (0.067105) with: {'activation': 'sigmoid', 'batch_size': 32, 'dropout_rate': 0.3, 'epochs': 2000, 'neurons': 10, 'optimizer': 'adamax', 'verbose': 0}\n",
      "-0.251301 (0.062134) with: {'activation': 'sigmoid', 'batch_size': 32, 'dropout_rate': 0.3, 'epochs': 2000, 'neurons': 10, 'optimizer': 'rmsprop', 'verbose': 0}\n",
      "-0.272242 (0.064030) with: {'activation': 'sigmoid', 'batch_size': 32, 'dropout_rate': 0.3, 'epochs': 2000, 'neurons': 10, 'optimizer': 'sgd', 'verbose': 0}\n",
      "-0.266189 (0.064161) with: {'activation': 'sigmoid', 'batch_size': 32, 'dropout_rate': 0.4, 'epochs': 2000, 'neurons': 10, 'optimizer': 'adam', 'verbose': 0}\n",
      "-0.270874 (0.064185) with: {'activation': 'sigmoid', 'batch_size': 32, 'dropout_rate': 0.4, 'epochs': 2000, 'neurons': 10, 'optimizer': 'adamax', 'verbose': 0}\n",
      "-0.255851 (0.060589) with: {'activation': 'sigmoid', 'batch_size': 32, 'dropout_rate': 0.4, 'epochs': 2000, 'neurons': 10, 'optimizer': 'rmsprop', 'verbose': 0}\n",
      "-0.271242 (0.063691) with: {'activation': 'sigmoid', 'batch_size': 32, 'dropout_rate': 0.4, 'epochs': 2000, 'neurons': 10, 'optimizer': 'sgd', 'verbose': 0}\n",
      "-0.271716 (0.064924) with: {'activation': 'sigmoid', 'batch_size': 32, 'dropout_rate': 0.5, 'epochs': 2000, 'neurons': 10, 'optimizer': 'adam', 'verbose': 0}\n",
      "-0.267499 (0.064170) with: {'activation': 'sigmoid', 'batch_size': 32, 'dropout_rate': 0.5, 'epochs': 2000, 'neurons': 10, 'optimizer': 'adamax', 'verbose': 0}\n",
      "-0.250241 (0.059945) with: {'activation': 'sigmoid', 'batch_size': 32, 'dropout_rate': 0.5, 'epochs': 2000, 'neurons': 10, 'optimizer': 'rmsprop', 'verbose': 0}\n",
      "-0.272953 (0.064869) with: {'activation': 'sigmoid', 'batch_size': 32, 'dropout_rate': 0.5, 'epochs': 2000, 'neurons': 10, 'optimizer': 'sgd', 'verbose': 0}\n",
      "-0.253776 (0.061829) with: {'activation': 'sigmoid', 'batch_size': 64, 'dropout_rate': 0.1, 'epochs': 2000, 'neurons': 10, 'optimizer': 'adam', 'verbose': 0}\n",
      "-0.247710 (0.061681) with: {'activation': 'sigmoid', 'batch_size': 64, 'dropout_rate': 0.1, 'epochs': 2000, 'neurons': 10, 'optimizer': 'adamax', 'verbose': 0}\n",
      "-0.250089 (0.059213) with: {'activation': 'sigmoid', 'batch_size': 64, 'dropout_rate': 0.1, 'epochs': 2000, 'neurons': 10, 'optimizer': 'rmsprop', 'verbose': 0}\n",
      "-0.268565 (0.061867) with: {'activation': 'sigmoid', 'batch_size': 64, 'dropout_rate': 0.1, 'epochs': 2000, 'neurons': 10, 'optimizer': 'sgd', 'verbose': 0}\n",
      "-0.270108 (0.064587) with: {'activation': 'sigmoid', 'batch_size': 64, 'dropout_rate': 0.2, 'epochs': 2000, 'neurons': 10, 'optimizer': 'adam', 'verbose': 0}\n",
      "-0.259908 (0.069947) with: {'activation': 'sigmoid', 'batch_size': 64, 'dropout_rate': 0.2, 'epochs': 2000, 'neurons': 10, 'optimizer': 'adamax', 'verbose': 0}\n",
      "-0.253472 (0.066837) with: {'activation': 'sigmoid', 'batch_size': 64, 'dropout_rate': 0.2, 'epochs': 2000, 'neurons': 10, 'optimizer': 'rmsprop', 'verbose': 0}\n",
      "-0.273536 (0.063562) with: {'activation': 'sigmoid', 'batch_size': 64, 'dropout_rate': 0.2, 'epochs': 2000, 'neurons': 10, 'optimizer': 'sgd', 'verbose': 0}\n",
      "-0.270680 (0.065863) with: {'activation': 'sigmoid', 'batch_size': 64, 'dropout_rate': 0.3, 'epochs': 2000, 'neurons': 10, 'optimizer': 'adam', 'verbose': 0}\n",
      "-0.266110 (0.066142) with: {'activation': 'sigmoid', 'batch_size': 64, 'dropout_rate': 0.3, 'epochs': 2000, 'neurons': 10, 'optimizer': 'adamax', 'verbose': 0}\n",
      "-0.257042 (0.063257) with: {'activation': 'sigmoid', 'batch_size': 64, 'dropout_rate': 0.3, 'epochs': 2000, 'neurons': 10, 'optimizer': 'rmsprop', 'verbose': 0}\n",
      "-0.271462 (0.065105) with: {'activation': 'sigmoid', 'batch_size': 64, 'dropout_rate': 0.3, 'epochs': 2000, 'neurons': 10, 'optimizer': 'sgd', 'verbose': 0}\n",
      "-0.269629 (0.062994) with: {'activation': 'sigmoid', 'batch_size': 64, 'dropout_rate': 0.4, 'epochs': 2000, 'neurons': 10, 'optimizer': 'adam', 'verbose': 0}\n",
      "-0.267746 (0.065125) with: {'activation': 'sigmoid', 'batch_size': 64, 'dropout_rate': 0.4, 'epochs': 2000, 'neurons': 10, 'optimizer': 'adamax', 'verbose': 0}\n",
      "-0.265835 (0.069737) with: {'activation': 'sigmoid', 'batch_size': 64, 'dropout_rate': 0.4, 'epochs': 2000, 'neurons': 10, 'optimizer': 'rmsprop', 'verbose': 0}\n",
      "-0.271592 (0.064696) with: {'activation': 'sigmoid', 'batch_size': 64, 'dropout_rate': 0.4, 'epochs': 2000, 'neurons': 10, 'optimizer': 'sgd', 'verbose': 0}\n",
      "-0.271811 (0.065577) with: {'activation': 'sigmoid', 'batch_size': 64, 'dropout_rate': 0.5, 'epochs': 2000, 'neurons': 10, 'optimizer': 'adam', 'verbose': 0}\n",
      "-0.271948 (0.064482) with: {'activation': 'sigmoid', 'batch_size': 64, 'dropout_rate': 0.5, 'epochs': 2000, 'neurons': 10, 'optimizer': 'adamax', 'verbose': 0}\n",
      "-0.255778 (0.060532) with: {'activation': 'sigmoid', 'batch_size': 64, 'dropout_rate': 0.5, 'epochs': 2000, 'neurons': 10, 'optimizer': 'rmsprop', 'verbose': 0}\n",
      "-0.272726 (0.063569) with: {'activation': 'sigmoid', 'batch_size': 64, 'dropout_rate': 0.5, 'epochs': 2000, 'neurons': 10, 'optimizer': 'sgd', 'verbose': 0}\n",
      "-0.273078 (0.125006) with: {'activation': 'tanh', 'batch_size': 8, 'dropout_rate': 0.1, 'epochs': 2000, 'neurons': 10, 'optimizer': 'adam', 'verbose': 0}\n",
      "-0.216739 (0.056193) with: {'activation': 'tanh', 'batch_size': 8, 'dropout_rate': 0.1, 'epochs': 2000, 'neurons': 10, 'optimizer': 'adamax', 'verbose': 0}\n",
      "-0.213620 (0.065138) with: {'activation': 'tanh', 'batch_size': 8, 'dropout_rate': 0.1, 'epochs': 2000, 'neurons': 10, 'optimizer': 'rmsprop', 'verbose': 0}\n",
      "-0.219152 (0.055180) with: {'activation': 'tanh', 'batch_size': 8, 'dropout_rate': 0.1, 'epochs': 2000, 'neurons': 10, 'optimizer': 'sgd', 'verbose': 0}\n",
      "-0.227002 (0.076698) with: {'activation': 'tanh', 'batch_size': 8, 'dropout_rate': 0.2, 'epochs': 2000, 'neurons': 10, 'optimizer': 'adam', 'verbose': 0}\n",
      "-0.212667 (0.058973) with: {'activation': 'tanh', 'batch_size': 8, 'dropout_rate': 0.2, 'epochs': 2000, 'neurons': 10, 'optimizer': 'adamax', 'verbose': 0}\n",
      "-0.220500 (0.070860) with: {'activation': 'tanh', 'batch_size': 8, 'dropout_rate': 0.2, 'epochs': 2000, 'neurons': 10, 'optimizer': 'rmsprop', 'verbose': 0}\n",
      "-0.213028 (0.050908) with: {'activation': 'tanh', 'batch_size': 8, 'dropout_rate': 0.2, 'epochs': 2000, 'neurons': 10, 'optimizer': 'sgd', 'verbose': 0}\n",
      "-0.238480 (0.087866) with: {'activation': 'tanh', 'batch_size': 8, 'dropout_rate': 0.3, 'epochs': 2000, 'neurons': 10, 'optimizer': 'adam', 'verbose': 0}\n",
      "-0.211638 (0.056487) with: {'activation': 'tanh', 'batch_size': 8, 'dropout_rate': 0.3, 'epochs': 2000, 'neurons': 10, 'optimizer': 'adamax', 'verbose': 0}\n",
      "-0.243053 (0.092861) with: {'activation': 'tanh', 'batch_size': 8, 'dropout_rate': 0.3, 'epochs': 2000, 'neurons': 10, 'optimizer': 'rmsprop', 'verbose': 0}\n",
      "-0.215817 (0.055567) with: {'activation': 'tanh', 'batch_size': 8, 'dropout_rate': 0.3, 'epochs': 2000, 'neurons': 10, 'optimizer': 'sgd', 'verbose': 0}\n",
      "-0.228946 (0.080852) with: {'activation': 'tanh', 'batch_size': 8, 'dropout_rate': 0.4, 'epochs': 2000, 'neurons': 10, 'optimizer': 'adam', 'verbose': 0}\n",
      "-0.213797 (0.059046) with: {'activation': 'tanh', 'batch_size': 8, 'dropout_rate': 0.4, 'epochs': 2000, 'neurons': 10, 'optimizer': 'adamax', 'verbose': 0}\n",
      "-0.244002 (0.094489) with: {'activation': 'tanh', 'batch_size': 8, 'dropout_rate': 0.4, 'epochs': 2000, 'neurons': 10, 'optimizer': 'rmsprop', 'verbose': 0}\n",
      "-0.225313 (0.056523) with: {'activation': 'tanh', 'batch_size': 8, 'dropout_rate': 0.4, 'epochs': 2000, 'neurons': 10, 'optimizer': 'sgd', 'verbose': 0}\n",
      "-0.241227 (0.091341) with: {'activation': 'tanh', 'batch_size': 8, 'dropout_rate': 0.5, 'epochs': 2000, 'neurons': 10, 'optimizer': 'adam', 'verbose': 0}\n",
      "-0.213884 (0.056195) with: {'activation': 'tanh', 'batch_size': 8, 'dropout_rate': 0.5, 'epochs': 2000, 'neurons': 10, 'optimizer': 'adamax', 'verbose': 0}\n",
      "-0.207223 (0.056685) with: {'activation': 'tanh', 'batch_size': 8, 'dropout_rate': 0.5, 'epochs': 2000, 'neurons': 10, 'optimizer': 'rmsprop', 'verbose': 0}\n",
      "-0.222538 (0.049883) with: {'activation': 'tanh', 'batch_size': 8, 'dropout_rate': 0.5, 'epochs': 2000, 'neurons': 10, 'optimizer': 'sgd', 'verbose': 0}\n",
      "-0.203195 (0.054083) with: {'activation': 'tanh', 'batch_size': 16, 'dropout_rate': 0.1, 'epochs': 2000, 'neurons': 10, 'optimizer': 'adam', 'verbose': 0}\n",
      "-0.229954 (0.064907) with: {'activation': 'tanh', 'batch_size': 16, 'dropout_rate': 0.1, 'epochs': 2000, 'neurons': 10, 'optimizer': 'adamax', 'verbose': 0}\n",
      "-0.209599 (0.061108) with: {'activation': 'tanh', 'batch_size': 16, 'dropout_rate': 0.1, 'epochs': 2000, 'neurons': 10, 'optimizer': 'rmsprop', 'verbose': 0}\n",
      "-0.231854 (0.060735) with: {'activation': 'tanh', 'batch_size': 16, 'dropout_rate': 0.1, 'epochs': 2000, 'neurons': 10, 'optimizer': 'sgd', 'verbose': 0}\n",
      "-0.214432 (0.066555) with: {'activation': 'tanh', 'batch_size': 16, 'dropout_rate': 0.2, 'epochs': 2000, 'neurons': 10, 'optimizer': 'adam', 'verbose': 0}\n",
      "-0.232196 (0.062990) with: {'activation': 'tanh', 'batch_size': 16, 'dropout_rate': 0.2, 'epochs': 2000, 'neurons': 10, 'optimizer': 'adamax', 'verbose': 0}\n",
      "-0.226416 (0.077038) with: {'activation': 'tanh', 'batch_size': 16, 'dropout_rate': 0.2, 'epochs': 2000, 'neurons': 10, 'optimizer': 'rmsprop', 'verbose': 0}\n",
      "-0.234808 (0.053617) with: {'activation': 'tanh', 'batch_size': 16, 'dropout_rate': 0.2, 'epochs': 2000, 'neurons': 10, 'optimizer': 'sgd', 'verbose': 0}\n",
      "-0.210619 (0.062143) with: {'activation': 'tanh', 'batch_size': 16, 'dropout_rate': 0.3, 'epochs': 2000, 'neurons': 10, 'optimizer': 'adam', 'verbose': 0}\n",
      "-0.221681 (0.059501) with: {'activation': 'tanh', 'batch_size': 16, 'dropout_rate': 0.3, 'epochs': 2000, 'neurons': 10, 'optimizer': 'adamax', 'verbose': 0}\n",
      "-0.216373 (0.066647) with: {'activation': 'tanh', 'batch_size': 16, 'dropout_rate': 0.3, 'epochs': 2000, 'neurons': 10, 'optimizer': 'rmsprop', 'verbose': 0}\n",
      "-0.232422 (0.058885) with: {'activation': 'tanh', 'batch_size': 16, 'dropout_rate': 0.3, 'epochs': 2000, 'neurons': 10, 'optimizer': 'sgd', 'verbose': 0}\n",
      "-0.209794 (0.060898) with: {'activation': 'tanh', 'batch_size': 16, 'dropout_rate': 0.4, 'epochs': 2000, 'neurons': 10, 'optimizer': 'adam', 'verbose': 0}\n",
      "-0.219244 (0.059915) with: {'activation': 'tanh', 'batch_size': 16, 'dropout_rate': 0.4, 'epochs': 2000, 'neurons': 10, 'optimizer': 'adamax', 'verbose': 0}\n",
      "-0.210503 (0.060245) with: {'activation': 'tanh', 'batch_size': 16, 'dropout_rate': 0.4, 'epochs': 2000, 'neurons': 10, 'optimizer': 'rmsprop', 'verbose': 0}\n",
      "-0.234235 (0.062270) with: {'activation': 'tanh', 'batch_size': 16, 'dropout_rate': 0.4, 'epochs': 2000, 'neurons': 10, 'optimizer': 'sgd', 'verbose': 0}\n",
      "-0.211448 (0.059467) with: {'activation': 'tanh', 'batch_size': 16, 'dropout_rate': 0.5, 'epochs': 2000, 'neurons': 10, 'optimizer': 'adam', 'verbose': 0}\n",
      "-0.218706 (0.057003) with: {'activation': 'tanh', 'batch_size': 16, 'dropout_rate': 0.5, 'epochs': 2000, 'neurons': 10, 'optimizer': 'adamax', 'verbose': 0}\n",
      "-0.210421 (0.058205) with: {'activation': 'tanh', 'batch_size': 16, 'dropout_rate': 0.5, 'epochs': 2000, 'neurons': 10, 'optimizer': 'rmsprop', 'verbose': 0}\n",
      "-0.229883 (0.056500) with: {'activation': 'tanh', 'batch_size': 16, 'dropout_rate': 0.5, 'epochs': 2000, 'neurons': 10, 'optimizer': 'sgd', 'verbose': 0}\n",
      "-0.216273 (0.055444) with: {'activation': 'tanh', 'batch_size': 32, 'dropout_rate': 0.1, 'epochs': 2000, 'neurons': 10, 'optimizer': 'adam', 'verbose': 0}\n",
      "-0.227002 (0.059604) with: {'activation': 'tanh', 'batch_size': 32, 'dropout_rate': 0.1, 'epochs': 2000, 'neurons': 10, 'optimizer': 'adamax', 'verbose': 0}\n",
      "-0.210871 (0.055239) with: {'activation': 'tanh', 'batch_size': 32, 'dropout_rate': 0.1, 'epochs': 2000, 'neurons': 10, 'optimizer': 'rmsprop', 'verbose': 0}\n",
      "-0.247577 (0.061441) with: {'activation': 'tanh', 'batch_size': 32, 'dropout_rate': 0.1, 'epochs': 2000, 'neurons': 10, 'optimizer': 'sgd', 'verbose': 0}\n",
      "-0.211766 (0.055430) with: {'activation': 'tanh', 'batch_size': 32, 'dropout_rate': 0.2, 'epochs': 2000, 'neurons': 10, 'optimizer': 'adam', 'verbose': 0}\n",
      "-0.241696 (0.060143) with: {'activation': 'tanh', 'batch_size': 32, 'dropout_rate': 0.2, 'epochs': 2000, 'neurons': 10, 'optimizer': 'adamax', 'verbose': 0}\n",
      "-0.207660 (0.054927) with: {'activation': 'tanh', 'batch_size': 32, 'dropout_rate': 0.2, 'epochs': 2000, 'neurons': 10, 'optimizer': 'rmsprop', 'verbose': 0}\n",
      "-0.246489 (0.058737) with: {'activation': 'tanh', 'batch_size': 32, 'dropout_rate': 0.2, 'epochs': 2000, 'neurons': 10, 'optimizer': 'sgd', 'verbose': 0}\n",
      "-0.210261 (0.054327) with: {'activation': 'tanh', 'batch_size': 32, 'dropout_rate': 0.3, 'epochs': 2000, 'neurons': 10, 'optimizer': 'adam', 'verbose': 0}\n",
      "-0.238855 (0.059638) with: {'activation': 'tanh', 'batch_size': 32, 'dropout_rate': 0.3, 'epochs': 2000, 'neurons': 10, 'optimizer': 'adamax', 'verbose': 0}\n",
      "-0.213058 (0.059264) with: {'activation': 'tanh', 'batch_size': 32, 'dropout_rate': 0.3, 'epochs': 2000, 'neurons': 10, 'optimizer': 'rmsprop', 'verbose': 0}\n",
      "-0.245211 (0.058300) with: {'activation': 'tanh', 'batch_size': 32, 'dropout_rate': 0.3, 'epochs': 2000, 'neurons': 10, 'optimizer': 'sgd', 'verbose': 0}\n",
      "-0.211885 (0.056502) with: {'activation': 'tanh', 'batch_size': 32, 'dropout_rate': 0.4, 'epochs': 2000, 'neurons': 10, 'optimizer': 'adam', 'verbose': 0}\n",
      "-0.237060 (0.060861) with: {'activation': 'tanh', 'batch_size': 32, 'dropout_rate': 0.4, 'epochs': 2000, 'neurons': 10, 'optimizer': 'adamax', 'verbose': 0}\n",
      "-0.207449 (0.054613) with: {'activation': 'tanh', 'batch_size': 32, 'dropout_rate': 0.4, 'epochs': 2000, 'neurons': 10, 'optimizer': 'rmsprop', 'verbose': 0}\n",
      "-0.248570 (0.061452) with: {'activation': 'tanh', 'batch_size': 32, 'dropout_rate': 0.4, 'epochs': 2000, 'neurons': 10, 'optimizer': 'sgd', 'verbose': 0}\n",
      "-0.210936 (0.054421) with: {'activation': 'tanh', 'batch_size': 32, 'dropout_rate': 0.5, 'epochs': 2000, 'neurons': 10, 'optimizer': 'adam', 'verbose': 0}\n",
      "-0.232606 (0.060338) with: {'activation': 'tanh', 'batch_size': 32, 'dropout_rate': 0.5, 'epochs': 2000, 'neurons': 10, 'optimizer': 'adamax', 'verbose': 0}\n",
      "-0.207671 (0.053328) with: {'activation': 'tanh', 'batch_size': 32, 'dropout_rate': 0.5, 'epochs': 2000, 'neurons': 10, 'optimizer': 'rmsprop', 'verbose': 0}\n",
      "-0.247919 (0.058643) with: {'activation': 'tanh', 'batch_size': 32, 'dropout_rate': 0.5, 'epochs': 2000, 'neurons': 10, 'optimizer': 'sgd', 'verbose': 0}\n",
      "-0.229092 (0.064289) with: {'activation': 'tanh', 'batch_size': 64, 'dropout_rate': 0.1, 'epochs': 2000, 'neurons': 10, 'optimizer': 'adam', 'verbose': 0}\n",
      "-0.225208 (0.054842) with: {'activation': 'tanh', 'batch_size': 64, 'dropout_rate': 0.1, 'epochs': 2000, 'neurons': 10, 'optimizer': 'adamax', 'verbose': 0}\n",
      "-0.223966 (0.062090) with: {'activation': 'tanh', 'batch_size': 64, 'dropout_rate': 0.1, 'epochs': 2000, 'neurons': 10, 'optimizer': 'rmsprop', 'verbose': 0}\n",
      "-0.249704 (0.062453) with: {'activation': 'tanh', 'batch_size': 64, 'dropout_rate': 0.1, 'epochs': 2000, 'neurons': 10, 'optimizer': 'sgd', 'verbose': 0}\n",
      "-0.229620 (0.060198) with: {'activation': 'tanh', 'batch_size': 64, 'dropout_rate': 0.2, 'epochs': 2000, 'neurons': 10, 'optimizer': 'adam', 'verbose': 0}\n",
      "-0.237304 (0.061657) with: {'activation': 'tanh', 'batch_size': 64, 'dropout_rate': 0.2, 'epochs': 2000, 'neurons': 10, 'optimizer': 'adamax', 'verbose': 0}\n",
      "-0.212572 (0.055282) with: {'activation': 'tanh', 'batch_size': 64, 'dropout_rate': 0.2, 'epochs': 2000, 'neurons': 10, 'optimizer': 'rmsprop', 'verbose': 0}\n",
      "-0.251669 (0.061878) with: {'activation': 'tanh', 'batch_size': 64, 'dropout_rate': 0.2, 'epochs': 2000, 'neurons': 10, 'optimizer': 'sgd', 'verbose': 0}\n",
      "-0.230182 (0.062760) with: {'activation': 'tanh', 'batch_size': 64, 'dropout_rate': 0.3, 'epochs': 2000, 'neurons': 10, 'optimizer': 'adam', 'verbose': 0}\n",
      "-0.248745 (0.061943) with: {'activation': 'tanh', 'batch_size': 64, 'dropout_rate': 0.3, 'epochs': 2000, 'neurons': 10, 'optimizer': 'adamax', 'verbose': 0}\n",
      "-0.210673 (0.054306) with: {'activation': 'tanh', 'batch_size': 64, 'dropout_rate': 0.3, 'epochs': 2000, 'neurons': 10, 'optimizer': 'rmsprop', 'verbose': 0}\n",
      "-0.257190 (0.061817) with: {'activation': 'tanh', 'batch_size': 64, 'dropout_rate': 0.3, 'epochs': 2000, 'neurons': 10, 'optimizer': 'sgd', 'verbose': 0}\n",
      "-0.221512 (0.056665) with: {'activation': 'tanh', 'batch_size': 64, 'dropout_rate': 0.4, 'epochs': 2000, 'neurons': 10, 'optimizer': 'adam', 'verbose': 0}\n",
      "-0.251151 (0.061982) with: {'activation': 'tanh', 'batch_size': 64, 'dropout_rate': 0.4, 'epochs': 2000, 'neurons': 10, 'optimizer': 'adamax', 'verbose': 0}\n",
      "-0.211230 (0.056002) with: {'activation': 'tanh', 'batch_size': 64, 'dropout_rate': 0.4, 'epochs': 2000, 'neurons': 10, 'optimizer': 'rmsprop', 'verbose': 0}\n",
      "-0.254113 (0.060782) with: {'activation': 'tanh', 'batch_size': 64, 'dropout_rate': 0.4, 'epochs': 2000, 'neurons': 10, 'optimizer': 'sgd', 'verbose': 0}\n",
      "-0.223246 (0.058059) with: {'activation': 'tanh', 'batch_size': 64, 'dropout_rate': 0.5, 'epochs': 2000, 'neurons': 10, 'optimizer': 'adam', 'verbose': 0}\n",
      "-0.252395 (0.060342) with: {'activation': 'tanh', 'batch_size': 64, 'dropout_rate': 0.5, 'epochs': 2000, 'neurons': 10, 'optimizer': 'adamax', 'verbose': 0}\n",
      "-0.210528 (0.055289) with: {'activation': 'tanh', 'batch_size': 64, 'dropout_rate': 0.5, 'epochs': 2000, 'neurons': 10, 'optimizer': 'rmsprop', 'verbose': 0}\n",
      "-0.257636 (0.063465) with: {'activation': 'tanh', 'batch_size': 64, 'dropout_rate': 0.5, 'epochs': 2000, 'neurons': 10, 'optimizer': 'sgd', 'verbose': 0}\n",
      "-0.267081 (0.056734) with: {'activation': 'relu', 'batch_size': 8, 'dropout_rate': 0.1, 'epochs': 2000, 'neurons': 10, 'optimizer': 'adam', 'verbose': 0}\n",
      "-0.240610 (0.072280) with: {'activation': 'relu', 'batch_size': 8, 'dropout_rate': 0.1, 'epochs': 2000, 'neurons': 10, 'optimizer': 'adamax', 'verbose': 0}\n",
      "-0.228127 (0.076439) with: {'activation': 'relu', 'batch_size': 8, 'dropout_rate': 0.1, 'epochs': 2000, 'neurons': 10, 'optimizer': 'rmsprop', 'verbose': 0}\n",
      "-0.247172 (0.060934) with: {'activation': 'relu', 'batch_size': 8, 'dropout_rate': 0.1, 'epochs': 2000, 'neurons': 10, 'optimizer': 'sgd', 'verbose': 0}\n",
      "-0.299472 (0.114991) with: {'activation': 'relu', 'batch_size': 8, 'dropout_rate': 0.2, 'epochs': 2000, 'neurons': 10, 'optimizer': 'adam', 'verbose': 0}\n",
      "-0.249502 (0.085390) with: {'activation': 'relu', 'batch_size': 8, 'dropout_rate': 0.2, 'epochs': 2000, 'neurons': 10, 'optimizer': 'adamax', 'verbose': 0}\n",
      "-0.237413 (0.089514) with: {'activation': 'relu', 'batch_size': 8, 'dropout_rate': 0.2, 'epochs': 2000, 'neurons': 10, 'optimizer': 'rmsprop', 'verbose': 0}\n",
      "-0.258901 (0.066129) with: {'activation': 'relu', 'batch_size': 8, 'dropout_rate': 0.2, 'epochs': 2000, 'neurons': 10, 'optimizer': 'sgd', 'verbose': 0}\n",
      "-0.244387 (0.088887) with: {'activation': 'relu', 'batch_size': 8, 'dropout_rate': 0.3, 'epochs': 2000, 'neurons': 10, 'optimizer': 'adam', 'verbose': 0}\n",
      "-0.305420 (0.138026) with: {'activation': 'relu', 'batch_size': 8, 'dropout_rate': 0.3, 'epochs': 2000, 'neurons': 10, 'optimizer': 'adamax', 'verbose': 0}\n",
      "-0.240563 (0.086582) with: {'activation': 'relu', 'batch_size': 8, 'dropout_rate': 0.3, 'epochs': 2000, 'neurons': 10, 'optimizer': 'rmsprop', 'verbose': 0}\n",
      "-0.255628 (0.059077) with: {'activation': 'relu', 'batch_size': 8, 'dropout_rate': 0.3, 'epochs': 2000, 'neurons': 10, 'optimizer': 'sgd', 'verbose': 0}\n",
      "-0.331005 (0.176341) with: {'activation': 'relu', 'batch_size': 8, 'dropout_rate': 0.4, 'epochs': 2000, 'neurons': 10, 'optimizer': 'adam', 'verbose': 0}\n",
      "-0.242992 (0.084762) with: {'activation': 'relu', 'batch_size': 8, 'dropout_rate': 0.4, 'epochs': 2000, 'neurons': 10, 'optimizer': 'adamax', 'verbose': 0}\n",
      "-0.242673 (0.087358) with: {'activation': 'relu', 'batch_size': 8, 'dropout_rate': 0.4, 'epochs': 2000, 'neurons': 10, 'optimizer': 'rmsprop', 'verbose': 0}\n",
      "-0.260732 (0.082214) with: {'activation': 'relu', 'batch_size': 8, 'dropout_rate': 0.4, 'epochs': 2000, 'neurons': 10, 'optimizer': 'sgd', 'verbose': 0}\n",
      "-0.242431 (0.085031) with: {'activation': 'relu', 'batch_size': 8, 'dropout_rate': 0.5, 'epochs': 2000, 'neurons': 10, 'optimizer': 'adam', 'verbose': 0}\n",
      "-0.243524 (0.064370) with: {'activation': 'relu', 'batch_size': 8, 'dropout_rate': 0.5, 'epochs': 2000, 'neurons': 10, 'optimizer': 'adamax', 'verbose': 0}\n",
      "-0.252590 (0.057881) with: {'activation': 'relu', 'batch_size': 8, 'dropout_rate': 0.5, 'epochs': 2000, 'neurons': 10, 'optimizer': 'rmsprop', 'verbose': 0}\n",
      "-0.257274 (0.074865) with: {'activation': 'relu', 'batch_size': 8, 'dropout_rate': 0.5, 'epochs': 2000, 'neurons': 10, 'optimizer': 'sgd', 'verbose': 0}\n",
      "-0.662016 (0.500983) with: {'activation': 'relu', 'batch_size': 16, 'dropout_rate': 0.1, 'epochs': 2000, 'neurons': 10, 'optimizer': 'adam', 'verbose': 0}\n",
      "-0.246484 (0.065542) with: {'activation': 'relu', 'batch_size': 16, 'dropout_rate': 0.1, 'epochs': 2000, 'neurons': 10, 'optimizer': 'adamax', 'verbose': 0}\n",
      "-0.235490 (0.075124) with: {'activation': 'relu', 'batch_size': 16, 'dropout_rate': 0.1, 'epochs': 2000, 'neurons': 10, 'optimizer': 'rmsprop', 'verbose': 0}\n",
      "-0.254522 (0.062634) with: {'activation': 'relu', 'batch_size': 16, 'dropout_rate': 0.1, 'epochs': 2000, 'neurons': 10, 'optimizer': 'sgd', 'verbose': 0}\n",
      "-0.298532 (0.110623) with: {'activation': 'relu', 'batch_size': 16, 'dropout_rate': 0.2, 'epochs': 2000, 'neurons': 10, 'optimizer': 'adam', 'verbose': 0}\n",
      "-0.258148 (0.066903) with: {'activation': 'relu', 'batch_size': 16, 'dropout_rate': 0.2, 'epochs': 2000, 'neurons': 10, 'optimizer': 'adamax', 'verbose': 0}\n",
      "-0.234129 (0.082949) with: {'activation': 'relu', 'batch_size': 16, 'dropout_rate': 0.2, 'epochs': 2000, 'neurons': 10, 'optimizer': 'rmsprop', 'verbose': 0}\n",
      "-0.248833 (0.053937) with: {'activation': 'relu', 'batch_size': 16, 'dropout_rate': 0.2, 'epochs': 2000, 'neurons': 10, 'optimizer': 'sgd', 'verbose': 0}\n",
      "-0.239493 (0.086679) with: {'activation': 'relu', 'batch_size': 16, 'dropout_rate': 0.3, 'epochs': 2000, 'neurons': 10, 'optimizer': 'adam', 'verbose': 0}\n",
      "-0.246722 (0.067984) with: {'activation': 'relu', 'batch_size': 16, 'dropout_rate': 0.3, 'epochs': 2000, 'neurons': 10, 'optimizer': 'adamax', 'verbose': 0}\n",
      "-0.240698 (0.085683) with: {'activation': 'relu', 'batch_size': 16, 'dropout_rate': 0.3, 'epochs': 2000, 'neurons': 10, 'optimizer': 'rmsprop', 'verbose': 0}\n",
      "-0.251732 (0.059589) with: {'activation': 'relu', 'batch_size': 16, 'dropout_rate': 0.3, 'epochs': 2000, 'neurons': 10, 'optimizer': 'sgd', 'verbose': 0}\n",
      "-0.249126 (0.093868) with: {'activation': 'relu', 'batch_size': 16, 'dropout_rate': 0.4, 'epochs': 2000, 'neurons': 10, 'optimizer': 'adam', 'verbose': 0}\n",
      "-0.247567 (0.063762) with: {'activation': 'relu', 'batch_size': 16, 'dropout_rate': 0.4, 'epochs': 2000, 'neurons': 10, 'optimizer': 'adamax', 'verbose': 0}\n",
      "-0.247817 (0.079194) with: {'activation': 'relu', 'batch_size': 16, 'dropout_rate': 0.4, 'epochs': 2000, 'neurons': 10, 'optimizer': 'rmsprop', 'verbose': 0}\n",
      "-0.260442 (0.058384) with: {'activation': 'relu', 'batch_size': 16, 'dropout_rate': 0.4, 'epochs': 2000, 'neurons': 10, 'optimizer': 'sgd', 'verbose': 0}\n",
      "-0.241342 (0.080639) with: {'activation': 'relu', 'batch_size': 16, 'dropout_rate': 0.5, 'epochs': 2000, 'neurons': 10, 'optimizer': 'adam', 'verbose': 0}\n",
      "-0.258239 (0.071020) with: {'activation': 'relu', 'batch_size': 16, 'dropout_rate': 0.5, 'epochs': 2000, 'neurons': 10, 'optimizer': 'adamax', 'verbose': 0}\n",
      "-0.266112 (0.065479) with: {'activation': 'relu', 'batch_size': 16, 'dropout_rate': 0.5, 'epochs': 2000, 'neurons': 10, 'optimizer': 'rmsprop', 'verbose': 0}\n",
      "-0.254871 (0.054205) with: {'activation': 'relu', 'batch_size': 16, 'dropout_rate': 0.5, 'epochs': 2000, 'neurons': 10, 'optimizer': 'sgd', 'verbose': 0}\n",
      "-0.336587 (0.171201) with: {'activation': 'relu', 'batch_size': 32, 'dropout_rate': 0.1, 'epochs': 2000, 'neurons': 10, 'optimizer': 'adam', 'verbose': 0}\n",
      "-0.315441 (0.139185) with: {'activation': 'relu', 'batch_size': 32, 'dropout_rate': 0.1, 'epochs': 2000, 'neurons': 10, 'optimizer': 'adamax', 'verbose': 0}\n",
      "-0.314036 (0.154363) with: {'activation': 'relu', 'batch_size': 32, 'dropout_rate': 0.1, 'epochs': 2000, 'neurons': 10, 'optimizer': 'rmsprop', 'verbose': 0}\n",
      "-0.255107 (0.059745) with: {'activation': 'relu', 'batch_size': 32, 'dropout_rate': 0.1, 'epochs': 2000, 'neurons': 10, 'optimizer': 'sgd', 'verbose': 0}\n",
      "-0.273482 (0.081142) with: {'activation': 'relu', 'batch_size': 32, 'dropout_rate': 0.2, 'epochs': 2000, 'neurons': 10, 'optimizer': 'adam', 'verbose': 0}\n",
      "-0.253406 (0.063668) with: {'activation': 'relu', 'batch_size': 32, 'dropout_rate': 0.2, 'epochs': 2000, 'neurons': 10, 'optimizer': 'adamax', 'verbose': 0}\n",
      "-0.262119 (0.095511) with: {'activation': 'relu', 'batch_size': 32, 'dropout_rate': 0.2, 'epochs': 2000, 'neurons': 10, 'optimizer': 'rmsprop', 'verbose': 0}\n",
      "-0.266062 (0.065814) with: {'activation': 'relu', 'batch_size': 32, 'dropout_rate': 0.2, 'epochs': 2000, 'neurons': 10, 'optimizer': 'sgd', 'verbose': 0}\n",
      "-0.255682 (0.091508) with: {'activation': 'relu', 'batch_size': 32, 'dropout_rate': 0.3, 'epochs': 2000, 'neurons': 10, 'optimizer': 'adam', 'verbose': 0}\n",
      "-0.247963 (0.075862) with: {'activation': 'relu', 'batch_size': 32, 'dropout_rate': 0.3, 'epochs': 2000, 'neurons': 10, 'optimizer': 'adamax', 'verbose': 0}\n",
      "-0.247371 (0.078157) with: {'activation': 'relu', 'batch_size': 32, 'dropout_rate': 0.3, 'epochs': 2000, 'neurons': 10, 'optimizer': 'rmsprop', 'verbose': 0}\n",
      "-0.261331 (0.062015) with: {'activation': 'relu', 'batch_size': 32, 'dropout_rate': 0.3, 'epochs': 2000, 'neurons': 10, 'optimizer': 'sgd', 'verbose': 0}\n",
      "-0.337786 (0.175797) with: {'activation': 'relu', 'batch_size': 32, 'dropout_rate': 0.4, 'epochs': 2000, 'neurons': 10, 'optimizer': 'adam', 'verbose': 0}\n",
      "-0.250837 (0.076239) with: {'activation': 'relu', 'batch_size': 32, 'dropout_rate': 0.4, 'epochs': 2000, 'neurons': 10, 'optimizer': 'adamax', 'verbose': 0}\n",
      "-0.241439 (0.067097) with: {'activation': 'relu', 'batch_size': 32, 'dropout_rate': 0.4, 'epochs': 2000, 'neurons': 10, 'optimizer': 'rmsprop', 'verbose': 0}\n",
      "-0.268634 (0.068319) with: {'activation': 'relu', 'batch_size': 32, 'dropout_rate': 0.4, 'epochs': 2000, 'neurons': 10, 'optimizer': 'sgd', 'verbose': 0}\n",
      "-0.257525 (0.094803) with: {'activation': 'relu', 'batch_size': 32, 'dropout_rate': 0.5, 'epochs': 2000, 'neurons': 10, 'optimizer': 'adam', 'verbose': 0}\n",
      "-0.260577 (0.063292) with: {'activation': 'relu', 'batch_size': 32, 'dropout_rate': 0.5, 'epochs': 2000, 'neurons': 10, 'optimizer': 'adamax', 'verbose': 0}\n",
      "-0.249698 (0.069246) with: {'activation': 'relu', 'batch_size': 32, 'dropout_rate': 0.5, 'epochs': 2000, 'neurons': 10, 'optimizer': 'rmsprop', 'verbose': 0}\n",
      "-0.268553 (0.063952) with: {'activation': 'relu', 'batch_size': 32, 'dropout_rate': 0.5, 'epochs': 2000, 'neurons': 10, 'optimizer': 'sgd', 'verbose': 0}\n",
      "-0.240769 (0.073022) with: {'activation': 'relu', 'batch_size': 64, 'dropout_rate': 0.1, 'epochs': 2000, 'neurons': 10, 'optimizer': 'adam', 'verbose': 0}\n",
      "-0.251809 (0.078932) with: {'activation': 'relu', 'batch_size': 64, 'dropout_rate': 0.1, 'epochs': 2000, 'neurons': 10, 'optimizer': 'adamax', 'verbose': 0}\n",
      "-0.241462 (0.071675) with: {'activation': 'relu', 'batch_size': 64, 'dropout_rate': 0.1, 'epochs': 2000, 'neurons': 10, 'optimizer': 'rmsprop', 'verbose': 0}\n",
      "-0.264446 (0.063271) with: {'activation': 'relu', 'batch_size': 64, 'dropout_rate': 0.1, 'epochs': 2000, 'neurons': 10, 'optimizer': 'sgd', 'verbose': 0}\n",
      "-0.244014 (0.075817) with: {'activation': 'relu', 'batch_size': 64, 'dropout_rate': 0.2, 'epochs': 2000, 'neurons': 10, 'optimizer': 'adam', 'verbose': 0}\n",
      "-0.254453 (0.066859) with: {'activation': 'relu', 'batch_size': 64, 'dropout_rate': 0.2, 'epochs': 2000, 'neurons': 10, 'optimizer': 'adamax', 'verbose': 0}\n",
      "-0.254676 (0.065123) with: {'activation': 'relu', 'batch_size': 64, 'dropout_rate': 0.2, 'epochs': 2000, 'neurons': 10, 'optimizer': 'rmsprop', 'verbose': 0}\n",
      "-0.265319 (0.063397) with: {'activation': 'relu', 'batch_size': 64, 'dropout_rate': 0.2, 'epochs': 2000, 'neurons': 10, 'optimizer': 'sgd', 'verbose': 0}\n",
      "-0.259840 (0.066944) with: {'activation': 'relu', 'batch_size': 64, 'dropout_rate': 0.3, 'epochs': 2000, 'neurons': 10, 'optimizer': 'adam', 'verbose': 0}\n",
      "-0.256140 (0.065343) with: {'activation': 'relu', 'batch_size': 64, 'dropout_rate': 0.3, 'epochs': 2000, 'neurons': 10, 'optimizer': 'adamax', 'verbose': 0}\n",
      "-0.295325 (0.134270) with: {'activation': 'relu', 'batch_size': 64, 'dropout_rate': 0.3, 'epochs': 2000, 'neurons': 10, 'optimizer': 'rmsprop', 'verbose': 0}\n",
      "-0.260383 (0.065980) with: {'activation': 'relu', 'batch_size': 64, 'dropout_rate': 0.3, 'epochs': 2000, 'neurons': 10, 'optimizer': 'sgd', 'verbose': 0}\n",
      "-0.263183 (0.063613) with: {'activation': 'relu', 'batch_size': 64, 'dropout_rate': 0.4, 'epochs': 2000, 'neurons': 10, 'optimizer': 'adam', 'verbose': 0}\n",
      "-0.255456 (0.064050) with: {'activation': 'relu', 'batch_size': 64, 'dropout_rate': 0.4, 'epochs': 2000, 'neurons': 10, 'optimizer': 'adamax', 'verbose': 0}\n",
      "-0.236315 (0.075882) with: {'activation': 'relu', 'batch_size': 64, 'dropout_rate': 0.4, 'epochs': 2000, 'neurons': 10, 'optimizer': 'rmsprop', 'verbose': 0}\n",
      "-0.267186 (0.064356) with: {'activation': 'relu', 'batch_size': 64, 'dropout_rate': 0.4, 'epochs': 2000, 'neurons': 10, 'optimizer': 'sgd', 'verbose': 0}\n",
      "-0.267581 (0.089310) with: {'activation': 'relu', 'batch_size': 64, 'dropout_rate': 0.5, 'epochs': 2000, 'neurons': 10, 'optimizer': 'adam', 'verbose': 0}\n",
      "-0.258622 (0.066013) with: {'activation': 'relu', 'batch_size': 64, 'dropout_rate': 0.5, 'epochs': 2000, 'neurons': 10, 'optimizer': 'adamax', 'verbose': 0}\n",
      "-0.254437 (0.075188) with: {'activation': 'relu', 'batch_size': 64, 'dropout_rate': 0.5, 'epochs': 2000, 'neurons': 10, 'optimizer': 'rmsprop', 'verbose': 0}\n",
      "-0.270612 (0.066512) with: {'activation': 'relu', 'batch_size': 64, 'dropout_rate': 0.5, 'epochs': 2000, 'neurons': 10, 'optimizer': 'sgd', 'verbose': 0}\n",
      "-0.209680 (0.064381) with: {'activation': 'selu', 'batch_size': 8, 'dropout_rate': 0.1, 'epochs': 2000, 'neurons': 10, 'optimizer': 'adam', 'verbose': 0}\n",
      "-0.223166 (0.063601) with: {'activation': 'selu', 'batch_size': 8, 'dropout_rate': 0.1, 'epochs': 2000, 'neurons': 10, 'optimizer': 'adamax', 'verbose': 0}\n",
      "-0.214659 (0.066000) with: {'activation': 'selu', 'batch_size': 8, 'dropout_rate': 0.1, 'epochs': 2000, 'neurons': 10, 'optimizer': 'rmsprop', 'verbose': 0}\n",
      "-0.213460 (0.053646) with: {'activation': 'selu', 'batch_size': 8, 'dropout_rate': 0.1, 'epochs': 2000, 'neurons': 10, 'optimizer': 'sgd', 'verbose': 0}\n",
      "-0.226362 (0.073186) with: {'activation': 'selu', 'batch_size': 8, 'dropout_rate': 0.2, 'epochs': 2000, 'neurons': 10, 'optimizer': 'adam', 'verbose': 0}\n",
      "-0.206188 (0.053591) with: {'activation': 'selu', 'batch_size': 8, 'dropout_rate': 0.2, 'epochs': 2000, 'neurons': 10, 'optimizer': 'adamax', 'verbose': 0}\n",
      "-0.220739 (0.072279) with: {'activation': 'selu', 'batch_size': 8, 'dropout_rate': 0.2, 'epochs': 2000, 'neurons': 10, 'optimizer': 'rmsprop', 'verbose': 0}\n",
      "-0.210825 (0.052241) with: {'activation': 'selu', 'batch_size': 8, 'dropout_rate': 0.2, 'epochs': 2000, 'neurons': 10, 'optimizer': 'sgd', 'verbose': 0}\n",
      "-0.306133 (0.159531) with: {'activation': 'selu', 'batch_size': 8, 'dropout_rate': 0.3, 'epochs': 2000, 'neurons': 10, 'optimizer': 'adam', 'verbose': 0}\n",
      "-0.211042 (0.059394) with: {'activation': 'selu', 'batch_size': 8, 'dropout_rate': 0.3, 'epochs': 2000, 'neurons': 10, 'optimizer': 'adamax', 'verbose': 0}\n",
      "-0.245907 (0.095848) with: {'activation': 'selu', 'batch_size': 8, 'dropout_rate': 0.3, 'epochs': 2000, 'neurons': 10, 'optimizer': 'rmsprop', 'verbose': 0}\n",
      "-0.209022 (0.051563) with: {'activation': 'selu', 'batch_size': 8, 'dropout_rate': 0.3, 'epochs': 2000, 'neurons': 10, 'optimizer': 'sgd', 'verbose': 0}\n",
      "-0.251690 (0.104415) with: {'activation': 'selu', 'batch_size': 8, 'dropout_rate': 0.4, 'epochs': 2000, 'neurons': 10, 'optimizer': 'adam', 'verbose': 0}\n",
      "-0.207167 (0.052117) with: {'activation': 'selu', 'batch_size': 8, 'dropout_rate': 0.4, 'epochs': 2000, 'neurons': 10, 'optimizer': 'adamax', 'verbose': 0}\n",
      "-0.232823 (0.083815) with: {'activation': 'selu', 'batch_size': 8, 'dropout_rate': 0.4, 'epochs': 2000, 'neurons': 10, 'optimizer': 'rmsprop', 'verbose': 0}\n",
      "-0.216483 (0.056005) with: {'activation': 'selu', 'batch_size': 8, 'dropout_rate': 0.4, 'epochs': 2000, 'neurons': 10, 'optimizer': 'sgd', 'verbose': 0}\n",
      "-0.333821 (0.182276) with: {'activation': 'selu', 'batch_size': 8, 'dropout_rate': 0.5, 'epochs': 2000, 'neurons': 10, 'optimizer': 'adam', 'verbose': 0}\n",
      "-0.209416 (0.055397) with: {'activation': 'selu', 'batch_size': 8, 'dropout_rate': 0.5, 'epochs': 2000, 'neurons': 10, 'optimizer': 'adamax', 'verbose': 0}\n",
      "-0.219334 (0.067913) with: {'activation': 'selu', 'batch_size': 8, 'dropout_rate': 0.5, 'epochs': 2000, 'neurons': 10, 'optimizer': 'rmsprop', 'verbose': 0}\n",
      "-0.214576 (0.053287) with: {'activation': 'selu', 'batch_size': 8, 'dropout_rate': 0.5, 'epochs': 2000, 'neurons': 10, 'optimizer': 'sgd', 'verbose': 0}\n",
      "-0.205903 (0.054923) with: {'activation': 'selu', 'batch_size': 16, 'dropout_rate': 0.1, 'epochs': 2000, 'neurons': 10, 'optimizer': 'adam', 'verbose': 0}\n",
      "-0.221117 (0.058159) with: {'activation': 'selu', 'batch_size': 16, 'dropout_rate': 0.1, 'epochs': 2000, 'neurons': 10, 'optimizer': 'adamax', 'verbose': 0}\n",
      "-0.233445 (0.081482) with: {'activation': 'selu', 'batch_size': 16, 'dropout_rate': 0.1, 'epochs': 2000, 'neurons': 10, 'optimizer': 'rmsprop', 'verbose': 0}\n",
      "-0.216958 (0.054877) with: {'activation': 'selu', 'batch_size': 16, 'dropout_rate': 0.1, 'epochs': 2000, 'neurons': 10, 'optimizer': 'sgd', 'verbose': 0}\n",
      "-0.203926 (0.057930) with: {'activation': 'selu', 'batch_size': 16, 'dropout_rate': 0.2, 'epochs': 2000, 'neurons': 10, 'optimizer': 'adam', 'verbose': 0}\n",
      "-0.216530 (0.056716) with: {'activation': 'selu', 'batch_size': 16, 'dropout_rate': 0.2, 'epochs': 2000, 'neurons': 10, 'optimizer': 'adamax', 'verbose': 0}\n",
      "-0.215287 (0.066484) with: {'activation': 'selu', 'batch_size': 16, 'dropout_rate': 0.2, 'epochs': 2000, 'neurons': 10, 'optimizer': 'rmsprop', 'verbose': 0}\n",
      "-0.214647 (0.053626) with: {'activation': 'selu', 'batch_size': 16, 'dropout_rate': 0.2, 'epochs': 2000, 'neurons': 10, 'optimizer': 'sgd', 'verbose': 0}\n",
      "-0.206158 (0.059089) with: {'activation': 'selu', 'batch_size': 16, 'dropout_rate': 0.3, 'epochs': 2000, 'neurons': 10, 'optimizer': 'adam', 'verbose': 0}\n",
      "-0.221912 (0.059683) with: {'activation': 'selu', 'batch_size': 16, 'dropout_rate': 0.3, 'epochs': 2000, 'neurons': 10, 'optimizer': 'adamax', 'verbose': 0}\n",
      "-0.217105 (0.068168) with: {'activation': 'selu', 'batch_size': 16, 'dropout_rate': 0.3, 'epochs': 2000, 'neurons': 10, 'optimizer': 'rmsprop', 'verbose': 0}\n",
      "-0.214058 (0.050753) with: {'activation': 'selu', 'batch_size': 16, 'dropout_rate': 0.3, 'epochs': 2000, 'neurons': 10, 'optimizer': 'sgd', 'verbose': 0}\n",
      "-0.213425 (0.061066) with: {'activation': 'selu', 'batch_size': 16, 'dropout_rate': 0.4, 'epochs': 2000, 'neurons': 10, 'optimizer': 'adam', 'verbose': 0}\n",
      "-0.212416 (0.053709) with: {'activation': 'selu', 'batch_size': 16, 'dropout_rate': 0.4, 'epochs': 2000, 'neurons': 10, 'optimizer': 'adamax', 'verbose': 0}\n",
      "-0.282810 (0.133722) with: {'activation': 'selu', 'batch_size': 16, 'dropout_rate': 0.4, 'epochs': 2000, 'neurons': 10, 'optimizer': 'rmsprop', 'verbose': 0}\n",
      "-0.222878 (0.057346) with: {'activation': 'selu', 'batch_size': 16, 'dropout_rate': 0.4, 'epochs': 2000, 'neurons': 10, 'optimizer': 'sgd', 'verbose': 0}\n",
      "-0.209661 (0.057592) with: {'activation': 'selu', 'batch_size': 16, 'dropout_rate': 0.5, 'epochs': 2000, 'neurons': 10, 'optimizer': 'adam', 'verbose': 0}\n",
      "-0.213159 (0.054864) with: {'activation': 'selu', 'batch_size': 16, 'dropout_rate': 0.5, 'epochs': 2000, 'neurons': 10, 'optimizer': 'adamax', 'verbose': 0}\n",
      "-0.216669 (0.063920) with: {'activation': 'selu', 'batch_size': 16, 'dropout_rate': 0.5, 'epochs': 2000, 'neurons': 10, 'optimizer': 'rmsprop', 'verbose': 0}\n",
      "-0.220274 (0.056346) with: {'activation': 'selu', 'batch_size': 16, 'dropout_rate': 0.5, 'epochs': 2000, 'neurons': 10, 'optimizer': 'sgd', 'verbose': 0}\n",
      "-0.211154 (0.053300) with: {'activation': 'selu', 'batch_size': 32, 'dropout_rate': 0.1, 'epochs': 2000, 'neurons': 10, 'optimizer': 'adam', 'verbose': 0}\n",
      "-0.225865 (0.060134) with: {'activation': 'selu', 'batch_size': 32, 'dropout_rate': 0.1, 'epochs': 2000, 'neurons': 10, 'optimizer': 'adamax', 'verbose': 0}\n",
      "-0.218420 (0.060403) with: {'activation': 'selu', 'batch_size': 32, 'dropout_rate': 0.1, 'epochs': 2000, 'neurons': 10, 'optimizer': 'rmsprop', 'verbose': 0}\n",
      "-0.226872 (0.063519) with: {'activation': 'selu', 'batch_size': 32, 'dropout_rate': 0.1, 'epochs': 2000, 'neurons': 10, 'optimizer': 'sgd', 'verbose': 0}\n",
      "-0.215783 (0.059829) with: {'activation': 'selu', 'batch_size': 32, 'dropout_rate': 0.2, 'epochs': 2000, 'neurons': 10, 'optimizer': 'adam', 'verbose': 0}\n",
      "-0.240457 (0.061075) with: {'activation': 'selu', 'batch_size': 32, 'dropout_rate': 0.2, 'epochs': 2000, 'neurons': 10, 'optimizer': 'adamax', 'verbose': 0}\n",
      "-0.207246 (0.052077) with: {'activation': 'selu', 'batch_size': 32, 'dropout_rate': 0.2, 'epochs': 2000, 'neurons': 10, 'optimizer': 'rmsprop', 'verbose': 0}\n",
      "-0.240350 (0.058709) with: {'activation': 'selu', 'batch_size': 32, 'dropout_rate': 0.2, 'epochs': 2000, 'neurons': 10, 'optimizer': 'sgd', 'verbose': 0}\n",
      "-0.209188 (0.054240) with: {'activation': 'selu', 'batch_size': 32, 'dropout_rate': 0.3, 'epochs': 2000, 'neurons': 10, 'optimizer': 'adam', 'verbose': 0}\n",
      "-0.228799 (0.062876) with: {'activation': 'selu', 'batch_size': 32, 'dropout_rate': 0.3, 'epochs': 2000, 'neurons': 10, 'optimizer': 'adamax', 'verbose': 0}\n",
      "-0.209629 (0.057415) with: {'activation': 'selu', 'batch_size': 32, 'dropout_rate': 0.3, 'epochs': 2000, 'neurons': 10, 'optimizer': 'rmsprop', 'verbose': 0}\n",
      "-0.225692 (0.062128) with: {'activation': 'selu', 'batch_size': 32, 'dropout_rate': 0.3, 'epochs': 2000, 'neurons': 10, 'optimizer': 'sgd', 'verbose': 0}\n",
      "-0.206018 (0.054610) with: {'activation': 'selu', 'batch_size': 32, 'dropout_rate': 0.4, 'epochs': 2000, 'neurons': 10, 'optimizer': 'adam', 'verbose': 0}\n",
      "-0.224116 (0.060214) with: {'activation': 'selu', 'batch_size': 32, 'dropout_rate': 0.4, 'epochs': 2000, 'neurons': 10, 'optimizer': 'adamax', 'verbose': 0}\n",
      "-0.207002 (0.055871) with: {'activation': 'selu', 'batch_size': 32, 'dropout_rate': 0.4, 'epochs': 2000, 'neurons': 10, 'optimizer': 'rmsprop', 'verbose': 0}\n",
      "-0.227786 (0.053801) with: {'activation': 'selu', 'batch_size': 32, 'dropout_rate': 0.4, 'epochs': 2000, 'neurons': 10, 'optimizer': 'sgd', 'verbose': 0}\n",
      "-0.208900 (0.056311) with: {'activation': 'selu', 'batch_size': 32, 'dropout_rate': 0.5, 'epochs': 2000, 'neurons': 10, 'optimizer': 'adam', 'verbose': 0}\n",
      "-0.228620 (0.052684) with: {'activation': 'selu', 'batch_size': 32, 'dropout_rate': 0.5, 'epochs': 2000, 'neurons': 10, 'optimizer': 'adamax', 'verbose': 0}\n",
      "-0.207691 (0.055649) with: {'activation': 'selu', 'batch_size': 32, 'dropout_rate': 0.5, 'epochs': 2000, 'neurons': 10, 'optimizer': 'rmsprop', 'verbose': 0}\n",
      "-0.235796 (0.063180) with: {'activation': 'selu', 'batch_size': 32, 'dropout_rate': 0.5, 'epochs': 2000, 'neurons': 10, 'optimizer': 'sgd', 'verbose': 0}\n",
      "-0.225578 (0.063858) with: {'activation': 'selu', 'batch_size': 64, 'dropout_rate': 0.1, 'epochs': 2000, 'neurons': 10, 'optimizer': 'adam', 'verbose': 0}\n",
      "-0.218589 (0.053185) with: {'activation': 'selu', 'batch_size': 64, 'dropout_rate': 0.1, 'epochs': 2000, 'neurons': 10, 'optimizer': 'adamax', 'verbose': 0}\n",
      "-0.218097 (0.057761) with: {'activation': 'selu', 'batch_size': 64, 'dropout_rate': 0.1, 'epochs': 2000, 'neurons': 10, 'optimizer': 'rmsprop', 'verbose': 0}\n",
      "-0.243932 (0.066025) with: {'activation': 'selu', 'batch_size': 64, 'dropout_rate': 0.1, 'epochs': 2000, 'neurons': 10, 'optimizer': 'sgd', 'verbose': 0}\n",
      "-0.221837 (0.062205) with: {'activation': 'selu', 'batch_size': 64, 'dropout_rate': 0.2, 'epochs': 2000, 'neurons': 10, 'optimizer': 'adam', 'verbose': 0}\n",
      "-0.230722 (0.060061) with: {'activation': 'selu', 'batch_size': 64, 'dropout_rate': 0.2, 'epochs': 2000, 'neurons': 10, 'optimizer': 'adamax', 'verbose': 0}\n",
      "-0.211737 (0.059873) with: {'activation': 'selu', 'batch_size': 64, 'dropout_rate': 0.2, 'epochs': 2000, 'neurons': 10, 'optimizer': 'rmsprop', 'verbose': 0}\n",
      "-0.240137 (0.055165) with: {'activation': 'selu', 'batch_size': 64, 'dropout_rate': 0.2, 'epochs': 2000, 'neurons': 10, 'optimizer': 'sgd', 'verbose': 0}\n",
      "-0.219072 (0.054407) with: {'activation': 'selu', 'batch_size': 64, 'dropout_rate': 0.3, 'epochs': 2000, 'neurons': 10, 'optimizer': 'adam', 'verbose': 0}\n",
      "-0.243753 (0.058389) with: {'activation': 'selu', 'batch_size': 64, 'dropout_rate': 0.3, 'epochs': 2000, 'neurons': 10, 'optimizer': 'adamax', 'verbose': 0}\n",
      "-0.208719 (0.054146) with: {'activation': 'selu', 'batch_size': 64, 'dropout_rate': 0.3, 'epochs': 2000, 'neurons': 10, 'optimizer': 'rmsprop', 'verbose': 0}\n",
      "-0.242532 (0.062395) with: {'activation': 'selu', 'batch_size': 64, 'dropout_rate': 0.3, 'epochs': 2000, 'neurons': 10, 'optimizer': 'sgd', 'verbose': 0}\n",
      "-0.215371 (0.058989) with: {'activation': 'selu', 'batch_size': 64, 'dropout_rate': 0.4, 'epochs': 2000, 'neurons': 10, 'optimizer': 'adam', 'verbose': 0}\n",
      "-0.243831 (0.061018) with: {'activation': 'selu', 'batch_size': 64, 'dropout_rate': 0.4, 'epochs': 2000, 'neurons': 10, 'optimizer': 'adamax', 'verbose': 0}\n",
      "-0.210571 (0.056337) with: {'activation': 'selu', 'batch_size': 64, 'dropout_rate': 0.4, 'epochs': 2000, 'neurons': 10, 'optimizer': 'rmsprop', 'verbose': 0}\n",
      "-0.234577 (0.052857) with: {'activation': 'selu', 'batch_size': 64, 'dropout_rate': 0.4, 'epochs': 2000, 'neurons': 10, 'optimizer': 'sgd', 'verbose': 0}\n",
      "-0.213139 (0.050807) with: {'activation': 'selu', 'batch_size': 64, 'dropout_rate': 0.5, 'epochs': 2000, 'neurons': 10, 'optimizer': 'adam', 'verbose': 0}\n",
      "-0.249534 (0.058187) with: {'activation': 'selu', 'batch_size': 64, 'dropout_rate': 0.5, 'epochs': 2000, 'neurons': 10, 'optimizer': 'adamax', 'verbose': 0}\n",
      "-0.209191 (0.055562) with: {'activation': 'selu', 'batch_size': 64, 'dropout_rate': 0.5, 'epochs': 2000, 'neurons': 10, 'optimizer': 'rmsprop', 'verbose': 0}\n",
      "-0.250595 (0.057824) with: {'activation': 'selu', 'batch_size': 64, 'dropout_rate': 0.5, 'epochs': 2000, 'neurons': 10, 'optimizer': 'sgd', 'verbose': 0}\n",
      "-0.223857 (0.077836) with: {'activation': 'elu', 'batch_size': 8, 'dropout_rate': 0.1, 'epochs': 2000, 'neurons': 10, 'optimizer': 'adam', 'verbose': 0}\n",
      "-0.215850 (0.055382) with: {'activation': 'elu', 'batch_size': 8, 'dropout_rate': 0.1, 'epochs': 2000, 'neurons': 10, 'optimizer': 'adamax', 'verbose': 0}\n",
      "-0.215716 (0.067634) with: {'activation': 'elu', 'batch_size': 8, 'dropout_rate': 0.1, 'epochs': 2000, 'neurons': 10, 'optimizer': 'rmsprop', 'verbose': 0}\n",
      "-0.216475 (0.053620) with: {'activation': 'elu', 'batch_size': 8, 'dropout_rate': 0.1, 'epochs': 2000, 'neurons': 10, 'optimizer': 'sgd', 'verbose': 0}\n",
      "-0.260899 (0.114258) with: {'activation': 'elu', 'batch_size': 8, 'dropout_rate': 0.2, 'epochs': 2000, 'neurons': 10, 'optimizer': 'adam', 'verbose': 0}\n",
      "-0.214798 (0.059485) with: {'activation': 'elu', 'batch_size': 8, 'dropout_rate': 0.2, 'epochs': 2000, 'neurons': 10, 'optimizer': 'adamax', 'verbose': 0}\n",
      "-0.291431 (0.144340) with: {'activation': 'elu', 'batch_size': 8, 'dropout_rate': 0.2, 'epochs': 2000, 'neurons': 10, 'optimizer': 'rmsprop', 'verbose': 0}\n",
      "-0.218431 (0.056442) with: {'activation': 'elu', 'batch_size': 8, 'dropout_rate': 0.2, 'epochs': 2000, 'neurons': 10, 'optimizer': 'sgd', 'verbose': 0}\n",
      "-0.252963 (0.105358) with: {'activation': 'elu', 'batch_size': 8, 'dropout_rate': 0.3, 'epochs': 2000, 'neurons': 10, 'optimizer': 'adam', 'verbose': 0}\n",
      "-0.214204 (0.059122) with: {'activation': 'elu', 'batch_size': 8, 'dropout_rate': 0.3, 'epochs': 2000, 'neurons': 10, 'optimizer': 'adamax', 'verbose': 0}\n",
      "-0.219711 (0.070359) with: {'activation': 'elu', 'batch_size': 8, 'dropout_rate': 0.3, 'epochs': 2000, 'neurons': 10, 'optimizer': 'rmsprop', 'verbose': 0}\n",
      "-0.220833 (0.055811) with: {'activation': 'elu', 'batch_size': 8, 'dropout_rate': 0.3, 'epochs': 2000, 'neurons': 10, 'optimizer': 'sgd', 'verbose': 0}\n",
      "-0.229011 (0.080206) with: {'activation': 'elu', 'batch_size': 8, 'dropout_rate': 0.4, 'epochs': 2000, 'neurons': 10, 'optimizer': 'adam', 'verbose': 0}\n",
      "-0.209592 (0.054924) with: {'activation': 'elu', 'batch_size': 8, 'dropout_rate': 0.4, 'epochs': 2000, 'neurons': 10, 'optimizer': 'adamax', 'verbose': 0}\n",
      "-0.269119 (0.118108) with: {'activation': 'elu', 'batch_size': 8, 'dropout_rate': 0.4, 'epochs': 2000, 'neurons': 10, 'optimizer': 'rmsprop', 'verbose': 0}\n",
      "-0.219582 (0.054047) with: {'activation': 'elu', 'batch_size': 8, 'dropout_rate': 0.4, 'epochs': 2000, 'neurons': 10, 'optimizer': 'sgd', 'verbose': 0}\n",
      "-0.226779 (0.076495) with: {'activation': 'elu', 'batch_size': 8, 'dropout_rate': 0.5, 'epochs': 2000, 'neurons': 10, 'optimizer': 'adam', 'verbose': 0}\n",
      "-0.215066 (0.057157) with: {'activation': 'elu', 'batch_size': 8, 'dropout_rate': 0.5, 'epochs': 2000, 'neurons': 10, 'optimizer': 'adamax', 'verbose': 0}\n",
      "-0.222840 (0.072472) with: {'activation': 'elu', 'batch_size': 8, 'dropout_rate': 0.5, 'epochs': 2000, 'neurons': 10, 'optimizer': 'rmsprop', 'verbose': 0}\n",
      "-0.219514 (0.058512) with: {'activation': 'elu', 'batch_size': 8, 'dropout_rate': 0.5, 'epochs': 2000, 'neurons': 10, 'optimizer': 'sgd', 'verbose': 0}\n",
      "-0.205850 (0.056555) with: {'activation': 'elu', 'batch_size': 16, 'dropout_rate': 0.1, 'epochs': 2000, 'neurons': 10, 'optimizer': 'adam', 'verbose': 0}\n",
      "-0.230945 (0.066499) with: {'activation': 'elu', 'batch_size': 16, 'dropout_rate': 0.1, 'epochs': 2000, 'neurons': 10, 'optimizer': 'adamax', 'verbose': 0}\n",
      "-0.217362 (0.068694) with: {'activation': 'elu', 'batch_size': 16, 'dropout_rate': 0.1, 'epochs': 2000, 'neurons': 10, 'optimizer': 'rmsprop', 'verbose': 0}\n",
      "-0.231340 (0.062218) with: {'activation': 'elu', 'batch_size': 16, 'dropout_rate': 0.1, 'epochs': 2000, 'neurons': 10, 'optimizer': 'sgd', 'verbose': 0}\n",
      "-0.212062 (0.062392) with: {'activation': 'elu', 'batch_size': 16, 'dropout_rate': 0.2, 'epochs': 2000, 'neurons': 10, 'optimizer': 'adam', 'verbose': 0}\n",
      "-0.225079 (0.061687) with: {'activation': 'elu', 'batch_size': 16, 'dropout_rate': 0.2, 'epochs': 2000, 'neurons': 10, 'optimizer': 'adamax', 'verbose': 0}\n",
      "-0.221755 (0.072398) with: {'activation': 'elu', 'batch_size': 16, 'dropout_rate': 0.2, 'epochs': 2000, 'neurons': 10, 'optimizer': 'rmsprop', 'verbose': 0}\n",
      "-0.237094 (0.053720) with: {'activation': 'elu', 'batch_size': 16, 'dropout_rate': 0.2, 'epochs': 2000, 'neurons': 10, 'optimizer': 'sgd', 'verbose': 0}\n",
      "-0.206332 (0.058056) with: {'activation': 'elu', 'batch_size': 16, 'dropout_rate': 0.3, 'epochs': 2000, 'neurons': 10, 'optimizer': 'adam', 'verbose': 0}\n",
      "-0.218642 (0.057724) with: {'activation': 'elu', 'batch_size': 16, 'dropout_rate': 0.3, 'epochs': 2000, 'neurons': 10, 'optimizer': 'adamax', 'verbose': 0}\n",
      "-0.215619 (0.067843) with: {'activation': 'elu', 'batch_size': 16, 'dropout_rate': 0.3, 'epochs': 2000, 'neurons': 10, 'optimizer': 'rmsprop', 'verbose': 0}\n",
      "-0.235665 (0.062352) with: {'activation': 'elu', 'batch_size': 16, 'dropout_rate': 0.3, 'epochs': 2000, 'neurons': 10, 'optimizer': 'sgd', 'verbose': 0}\n",
      "-0.211859 (0.062747) with: {'activation': 'elu', 'batch_size': 16, 'dropout_rate': 0.4, 'epochs': 2000, 'neurons': 10, 'optimizer': 'adam', 'verbose': 0}\n",
      "-0.217679 (0.059016) with: {'activation': 'elu', 'batch_size': 16, 'dropout_rate': 0.4, 'epochs': 2000, 'neurons': 10, 'optimizer': 'adamax', 'verbose': 0}\n",
      "-0.208255 (0.057499) with: {'activation': 'elu', 'batch_size': 16, 'dropout_rate': 0.4, 'epochs': 2000, 'neurons': 10, 'optimizer': 'rmsprop', 'verbose': 0}\n",
      "-0.232204 (0.051432) with: {'activation': 'elu', 'batch_size': 16, 'dropout_rate': 0.4, 'epochs': 2000, 'neurons': 10, 'optimizer': 'sgd', 'verbose': 0}\n",
      "-0.210312 (0.059659) with: {'activation': 'elu', 'batch_size': 16, 'dropout_rate': 0.5, 'epochs': 2000, 'neurons': 10, 'optimizer': 'adam', 'verbose': 0}\n",
      "-0.217814 (0.055262) with: {'activation': 'elu', 'batch_size': 16, 'dropout_rate': 0.5, 'epochs': 2000, 'neurons': 10, 'optimizer': 'adamax', 'verbose': 0}\n",
      "-0.211019 (0.060986) with: {'activation': 'elu', 'batch_size': 16, 'dropout_rate': 0.5, 'epochs': 2000, 'neurons': 10, 'optimizer': 'rmsprop', 'verbose': 0}\n",
      "-0.237559 (0.063024) with: {'activation': 'elu', 'batch_size': 16, 'dropout_rate': 0.5, 'epochs': 2000, 'neurons': 10, 'optimizer': 'sgd', 'verbose': 0}\n",
      "-0.222961 (0.061461) with: {'activation': 'elu', 'batch_size': 32, 'dropout_rate': 0.1, 'epochs': 2000, 'neurons': 10, 'optimizer': 'adam', 'verbose': 0}\n",
      "-0.227358 (0.060049) with: {'activation': 'elu', 'batch_size': 32, 'dropout_rate': 0.1, 'epochs': 2000, 'neurons': 10, 'optimizer': 'adamax', 'verbose': 0}\n",
      "-0.210740 (0.054571) with: {'activation': 'elu', 'batch_size': 32, 'dropout_rate': 0.1, 'epochs': 2000, 'neurons': 10, 'optimizer': 'rmsprop', 'verbose': 0}\n",
      "-0.247196 (0.061356) with: {'activation': 'elu', 'batch_size': 32, 'dropout_rate': 0.1, 'epochs': 2000, 'neurons': 10, 'optimizer': 'sgd', 'verbose': 0}\n",
      "-0.217654 (0.057603) with: {'activation': 'elu', 'batch_size': 32, 'dropout_rate': 0.2, 'epochs': 2000, 'neurons': 10, 'optimizer': 'adam', 'verbose': 0}\n",
      "-0.239339 (0.062278) with: {'activation': 'elu', 'batch_size': 32, 'dropout_rate': 0.2, 'epochs': 2000, 'neurons': 10, 'optimizer': 'adamax', 'verbose': 0}\n",
      "-0.206640 (0.054674) with: {'activation': 'elu', 'batch_size': 32, 'dropout_rate': 0.2, 'epochs': 2000, 'neurons': 10, 'optimizer': 'rmsprop', 'verbose': 0}\n",
      "-0.247260 (0.063748) with: {'activation': 'elu', 'batch_size': 32, 'dropout_rate': 0.2, 'epochs': 2000, 'neurons': 10, 'optimizer': 'sgd', 'verbose': 0}\n",
      "-0.212264 (0.057722) with: {'activation': 'elu', 'batch_size': 32, 'dropout_rate': 0.3, 'epochs': 2000, 'neurons': 10, 'optimizer': 'adam', 'verbose': 0}\n",
      "-0.235622 (0.065606) with: {'activation': 'elu', 'batch_size': 32, 'dropout_rate': 0.3, 'epochs': 2000, 'neurons': 10, 'optimizer': 'adamax', 'verbose': 0}\n",
      "-0.212127 (0.061537) with: {'activation': 'elu', 'batch_size': 32, 'dropout_rate': 0.3, 'epochs': 2000, 'neurons': 10, 'optimizer': 'rmsprop', 'verbose': 0}\n",
      "-0.252804 (0.063645) with: {'activation': 'elu', 'batch_size': 32, 'dropout_rate': 0.3, 'epochs': 2000, 'neurons': 10, 'optimizer': 'sgd', 'verbose': 0}\n",
      "-0.211513 (0.056882) with: {'activation': 'elu', 'batch_size': 32, 'dropout_rate': 0.4, 'epochs': 2000, 'neurons': 10, 'optimizer': 'adam', 'verbose': 0}\n",
      "-0.237037 (0.063037) with: {'activation': 'elu', 'batch_size': 32, 'dropout_rate': 0.4, 'epochs': 2000, 'neurons': 10, 'optimizer': 'adamax', 'verbose': 0}\n",
      "-0.215392 (0.063196) with: {'activation': 'elu', 'batch_size': 32, 'dropout_rate': 0.4, 'epochs': 2000, 'neurons': 10, 'optimizer': 'rmsprop', 'verbose': 0}\n",
      "-0.251201 (0.063678) with: {'activation': 'elu', 'batch_size': 32, 'dropout_rate': 0.4, 'epochs': 2000, 'neurons': 10, 'optimizer': 'sgd', 'verbose': 0}\n",
      "-0.213606 (0.057069) with: {'activation': 'elu', 'batch_size': 32, 'dropout_rate': 0.5, 'epochs': 2000, 'neurons': 10, 'optimizer': 'adam', 'verbose': 0}\n",
      "-0.234026 (0.059003) with: {'activation': 'elu', 'batch_size': 32, 'dropout_rate': 0.5, 'epochs': 2000, 'neurons': 10, 'optimizer': 'adamax', 'verbose': 0}\n",
      "-0.217068 (0.061384) with: {'activation': 'elu', 'batch_size': 32, 'dropout_rate': 0.5, 'epochs': 2000, 'neurons': 10, 'optimizer': 'rmsprop', 'verbose': 0}\n",
      "-0.257766 (0.066430) with: {'activation': 'elu', 'batch_size': 32, 'dropout_rate': 0.5, 'epochs': 2000, 'neurons': 10, 'optimizer': 'sgd', 'verbose': 0}\n",
      "-0.225696 (0.054870) with: {'activation': 'elu', 'batch_size': 64, 'dropout_rate': 0.1, 'epochs': 2000, 'neurons': 10, 'optimizer': 'adam', 'verbose': 0}\n",
      "-0.224674 (0.058570) with: {'activation': 'elu', 'batch_size': 64, 'dropout_rate': 0.1, 'epochs': 2000, 'neurons': 10, 'optimizer': 'adamax', 'verbose': 0}\n",
      "-0.226265 (0.064376) with: {'activation': 'elu', 'batch_size': 64, 'dropout_rate': 0.1, 'epochs': 2000, 'neurons': 10, 'optimizer': 'rmsprop', 'verbose': 0}\n",
      "-0.249824 (0.058864) with: {'activation': 'elu', 'batch_size': 64, 'dropout_rate': 0.1, 'epochs': 2000, 'neurons': 10, 'optimizer': 'sgd', 'verbose': 0}\n",
      "-0.236764 (0.066104) with: {'activation': 'elu', 'batch_size': 64, 'dropout_rate': 0.2, 'epochs': 2000, 'neurons': 10, 'optimizer': 'adam', 'verbose': 0}\n",
      "-0.234418 (0.058513) with: {'activation': 'elu', 'batch_size': 64, 'dropout_rate': 0.2, 'epochs': 2000, 'neurons': 10, 'optimizer': 'adamax', 'verbose': 0}\n",
      "-0.212004 (0.057461) with: {'activation': 'elu', 'batch_size': 64, 'dropout_rate': 0.2, 'epochs': 2000, 'neurons': 10, 'optimizer': 'rmsprop', 'verbose': 0}\n",
      "-0.252324 (0.062700) with: {'activation': 'elu', 'batch_size': 64, 'dropout_rate': 0.2, 'epochs': 2000, 'neurons': 10, 'optimizer': 'sgd', 'verbose': 0}\n",
      "-0.223179 (0.055965) with: {'activation': 'elu', 'batch_size': 64, 'dropout_rate': 0.3, 'epochs': 2000, 'neurons': 10, 'optimizer': 'adam', 'verbose': 0}\n",
      "-0.245858 (0.056918) with: {'activation': 'elu', 'batch_size': 64, 'dropout_rate': 0.3, 'epochs': 2000, 'neurons': 10, 'optimizer': 'adamax', 'verbose': 0}\n",
      "-0.208917 (0.053245) with: {'activation': 'elu', 'batch_size': 64, 'dropout_rate': 0.3, 'epochs': 2000, 'neurons': 10, 'optimizer': 'rmsprop', 'verbose': 0}\n",
      "-0.251225 (0.061552) with: {'activation': 'elu', 'batch_size': 64, 'dropout_rate': 0.3, 'epochs': 2000, 'neurons': 10, 'optimizer': 'sgd', 'verbose': 0}\n",
      "-0.222957 (0.053992) with: {'activation': 'elu', 'batch_size': 64, 'dropout_rate': 0.4, 'epochs': 2000, 'neurons': 10, 'optimizer': 'adam', 'verbose': 0}\n",
      "-0.253631 (0.060314) with: {'activation': 'elu', 'batch_size': 64, 'dropout_rate': 0.4, 'epochs': 2000, 'neurons': 10, 'optimizer': 'adamax', 'verbose': 0}\n",
      "-0.211964 (0.056528) with: {'activation': 'elu', 'batch_size': 64, 'dropout_rate': 0.4, 'epochs': 2000, 'neurons': 10, 'optimizer': 'rmsprop', 'verbose': 0}\n",
      "-0.254967 (0.059193) with: {'activation': 'elu', 'batch_size': 64, 'dropout_rate': 0.4, 'epochs': 2000, 'neurons': 10, 'optimizer': 'sgd', 'verbose': 0}\n",
      "-0.228701 (0.062941) with: {'activation': 'elu', 'batch_size': 64, 'dropout_rate': 0.5, 'epochs': 2000, 'neurons': 10, 'optimizer': 'adam', 'verbose': 0}\n",
      "-0.254946 (0.063829) with: {'activation': 'elu', 'batch_size': 64, 'dropout_rate': 0.5, 'epochs': 2000, 'neurons': 10, 'optimizer': 'adamax', 'verbose': 0}\n",
      "-0.212320 (0.053187) with: {'activation': 'elu', 'batch_size': 64, 'dropout_rate': 0.5, 'epochs': 2000, 'neurons': 10, 'optimizer': 'rmsprop', 'verbose': 0}\n",
      "-0.255349 (0.063075) with: {'activation': 'elu', 'batch_size': 64, 'dropout_rate': 0.5, 'epochs': 2000, 'neurons': 10, 'optimizer': 'sgd', 'verbose': 0}\n",
      "-0.222965 (0.054524) with: {'activation': 'softplus', 'batch_size': 8, 'dropout_rate': 0.1, 'epochs': 2000, 'neurons': 10, 'optimizer': 'adam', 'verbose': 0}\n",
      "-0.256520 (0.066585) with: {'activation': 'softplus', 'batch_size': 8, 'dropout_rate': 0.1, 'epochs': 2000, 'neurons': 10, 'optimizer': 'adamax', 'verbose': 0}\n",
      "-0.216306 (0.048295) with: {'activation': 'softplus', 'batch_size': 8, 'dropout_rate': 0.1, 'epochs': 2000, 'neurons': 10, 'optimizer': 'rmsprop', 'verbose': 0}\n",
      "-0.268039 (0.067838) with: {'activation': 'softplus', 'batch_size': 8, 'dropout_rate': 0.1, 'epochs': 2000, 'neurons': 10, 'optimizer': 'sgd', 'verbose': 0}\n",
      "-0.225754 (0.052373) with: {'activation': 'softplus', 'batch_size': 8, 'dropout_rate': 0.2, 'epochs': 2000, 'neurons': 10, 'optimizer': 'adam', 'verbose': 0}\n",
      "-0.254587 (0.062494) with: {'activation': 'softplus', 'batch_size': 8, 'dropout_rate': 0.2, 'epochs': 2000, 'neurons': 10, 'optimizer': 'adamax', 'verbose': 0}\n",
      "-0.225001 (0.050208) with: {'activation': 'softplus', 'batch_size': 8, 'dropout_rate': 0.2, 'epochs': 2000, 'neurons': 10, 'optimizer': 'rmsprop', 'verbose': 0}\n",
      "-0.269543 (0.065310) with: {'activation': 'softplus', 'batch_size': 8, 'dropout_rate': 0.2, 'epochs': 2000, 'neurons': 10, 'optimizer': 'sgd', 'verbose': 0}\n",
      "-0.224767 (0.052866) with: {'activation': 'softplus', 'batch_size': 8, 'dropout_rate': 0.3, 'epochs': 2000, 'neurons': 10, 'optimizer': 'adam', 'verbose': 0}\n",
      "-0.262982 (0.072299) with: {'activation': 'softplus', 'batch_size': 8, 'dropout_rate': 0.3, 'epochs': 2000, 'neurons': 10, 'optimizer': 'adamax', 'verbose': 0}\n",
      "-0.227056 (0.053475) with: {'activation': 'softplus', 'batch_size': 8, 'dropout_rate': 0.3, 'epochs': 2000, 'neurons': 10, 'optimizer': 'rmsprop', 'verbose': 0}\n",
      "-0.269017 (0.061716) with: {'activation': 'softplus', 'batch_size': 8, 'dropout_rate': 0.3, 'epochs': 2000, 'neurons': 10, 'optimizer': 'sgd', 'verbose': 0}\n",
      "-0.231810 (0.056426) with: {'activation': 'softplus', 'batch_size': 8, 'dropout_rate': 0.4, 'epochs': 2000, 'neurons': 10, 'optimizer': 'adam', 'verbose': 0}\n",
      "-0.255401 (0.059456) with: {'activation': 'softplus', 'batch_size': 8, 'dropout_rate': 0.4, 'epochs': 2000, 'neurons': 10, 'optimizer': 'adamax', 'verbose': 0}\n",
      "-0.226264 (0.052584) with: {'activation': 'softplus', 'batch_size': 8, 'dropout_rate': 0.4, 'epochs': 2000, 'neurons': 10, 'optimizer': 'rmsprop', 'verbose': 0}\n",
      "-0.273878 (0.067032) with: {'activation': 'softplus', 'batch_size': 8, 'dropout_rate': 0.4, 'epochs': 2000, 'neurons': 10, 'optimizer': 'sgd', 'verbose': 0}\n",
      "-0.234000 (0.054782) with: {'activation': 'softplus', 'batch_size': 8, 'dropout_rate': 0.5, 'epochs': 2000, 'neurons': 10, 'optimizer': 'adam', 'verbose': 0}\n",
      "-0.253356 (0.056466) with: {'activation': 'softplus', 'batch_size': 8, 'dropout_rate': 0.5, 'epochs': 2000, 'neurons': 10, 'optimizer': 'adamax', 'verbose': 0}\n",
      "-0.228545 (0.051976) with: {'activation': 'softplus', 'batch_size': 8, 'dropout_rate': 0.5, 'epochs': 2000, 'neurons': 10, 'optimizer': 'rmsprop', 'verbose': 0}\n",
      "-0.268773 (0.062308) with: {'activation': 'softplus', 'batch_size': 8, 'dropout_rate': 0.5, 'epochs': 2000, 'neurons': 10, 'optimizer': 'sgd', 'verbose': 0}\n",
      "-0.244988 (0.055127) with: {'activation': 'softplus', 'batch_size': 16, 'dropout_rate': 0.1, 'epochs': 2000, 'neurons': 10, 'optimizer': 'adam', 'verbose': 0}\n",
      "-0.249003 (0.059117) with: {'activation': 'softplus', 'batch_size': 16, 'dropout_rate': 0.1, 'epochs': 2000, 'neurons': 10, 'optimizer': 'adamax', 'verbose': 0}\n",
      "-0.223303 (0.054338) with: {'activation': 'softplus', 'batch_size': 16, 'dropout_rate': 0.1, 'epochs': 2000, 'neurons': 10, 'optimizer': 'rmsprop', 'verbose': 0}\n",
      "-0.269036 (0.062168) with: {'activation': 'softplus', 'batch_size': 16, 'dropout_rate': 0.1, 'epochs': 2000, 'neurons': 10, 'optimizer': 'sgd', 'verbose': 0}\n",
      "-0.249736 (0.068330) with: {'activation': 'softplus', 'batch_size': 16, 'dropout_rate': 0.2, 'epochs': 2000, 'neurons': 10, 'optimizer': 'adam', 'verbose': 0}\n",
      "-0.253074 (0.055189) with: {'activation': 'softplus', 'batch_size': 16, 'dropout_rate': 0.2, 'epochs': 2000, 'neurons': 10, 'optimizer': 'adamax', 'verbose': 0}\n",
      "-0.242955 (0.056032) with: {'activation': 'softplus', 'batch_size': 16, 'dropout_rate': 0.2, 'epochs': 2000, 'neurons': 10, 'optimizer': 'rmsprop', 'verbose': 0}\n",
      "-0.271094 (0.063896) with: {'activation': 'softplus', 'batch_size': 16, 'dropout_rate': 0.2, 'epochs': 2000, 'neurons': 10, 'optimizer': 'sgd', 'verbose': 0}\n",
      "-0.247965 (0.064923) with: {'activation': 'softplus', 'batch_size': 16, 'dropout_rate': 0.3, 'epochs': 2000, 'neurons': 10, 'optimizer': 'adam', 'verbose': 0}\n",
      "-0.265026 (0.067984) with: {'activation': 'softplus', 'batch_size': 16, 'dropout_rate': 0.3, 'epochs': 2000, 'neurons': 10, 'optimizer': 'adamax', 'verbose': 0}\n",
      "-0.229597 (0.054121) with: {'activation': 'softplus', 'batch_size': 16, 'dropout_rate': 0.3, 'epochs': 2000, 'neurons': 10, 'optimizer': 'rmsprop', 'verbose': 0}\n",
      "-0.269765 (0.064612) with: {'activation': 'softplus', 'batch_size': 16, 'dropout_rate': 0.3, 'epochs': 2000, 'neurons': 10, 'optimizer': 'sgd', 'verbose': 0}\n",
      "-0.251178 (0.052186) with: {'activation': 'softplus', 'batch_size': 16, 'dropout_rate': 0.4, 'epochs': 2000, 'neurons': 10, 'optimizer': 'adam', 'verbose': 0}\n",
      "-0.257612 (0.057075) with: {'activation': 'softplus', 'batch_size': 16, 'dropout_rate': 0.4, 'epochs': 2000, 'neurons': 10, 'optimizer': 'adamax', 'verbose': 0}\n",
      "-0.234184 (0.058036) with: {'activation': 'softplus', 'batch_size': 16, 'dropout_rate': 0.4, 'epochs': 2000, 'neurons': 10, 'optimizer': 'rmsprop', 'verbose': 0}\n",
      "-0.272144 (0.064677) with: {'activation': 'softplus', 'batch_size': 16, 'dropout_rate': 0.4, 'epochs': 2000, 'neurons': 10, 'optimizer': 'sgd', 'verbose': 0}\n",
      "-0.252728 (0.056137) with: {'activation': 'softplus', 'batch_size': 16, 'dropout_rate': 0.5, 'epochs': 2000, 'neurons': 10, 'optimizer': 'adam', 'verbose': 0}\n",
      "-0.263735 (0.060155) with: {'activation': 'softplus', 'batch_size': 16, 'dropout_rate': 0.5, 'epochs': 2000, 'neurons': 10, 'optimizer': 'adamax', 'verbose': 0}\n",
      "-0.238864 (0.055158) with: {'activation': 'softplus', 'batch_size': 16, 'dropout_rate': 0.5, 'epochs': 2000, 'neurons': 10, 'optimizer': 'rmsprop', 'verbose': 0}\n",
      "-0.268928 (0.065555) with: {'activation': 'softplus', 'batch_size': 16, 'dropout_rate': 0.5, 'epochs': 2000, 'neurons': 10, 'optimizer': 'sgd', 'verbose': 0}\n",
      "-0.260011 (0.064019) with: {'activation': 'softplus', 'batch_size': 32, 'dropout_rate': 0.1, 'epochs': 2000, 'neurons': 10, 'optimizer': 'adam', 'verbose': 0}\n",
      "-0.248997 (0.063509) with: {'activation': 'softplus', 'batch_size': 32, 'dropout_rate': 0.1, 'epochs': 2000, 'neurons': 10, 'optimizer': 'adamax', 'verbose': 0}\n",
      "-0.242254 (0.060264) with: {'activation': 'softplus', 'batch_size': 32, 'dropout_rate': 0.1, 'epochs': 2000, 'neurons': 10, 'optimizer': 'rmsprop', 'verbose': 0}\n",
      "-0.270822 (0.066747) with: {'activation': 'softplus', 'batch_size': 32, 'dropout_rate': 0.1, 'epochs': 2000, 'neurons': 10, 'optimizer': 'sgd', 'verbose': 0}\n",
      "-0.266166 (0.066634) with: {'activation': 'softplus', 'batch_size': 32, 'dropout_rate': 0.2, 'epochs': 2000, 'neurons': 10, 'optimizer': 'adam', 'verbose': 0}\n",
      "-0.262764 (0.065259) with: {'activation': 'softplus', 'batch_size': 32, 'dropout_rate': 0.2, 'epochs': 2000, 'neurons': 10, 'optimizer': 'adamax', 'verbose': 0}\n",
      "-0.247351 (0.066788) with: {'activation': 'softplus', 'batch_size': 32, 'dropout_rate': 0.2, 'epochs': 2000, 'neurons': 10, 'optimizer': 'rmsprop', 'verbose': 0}\n",
      "-0.272115 (0.063641) with: {'activation': 'softplus', 'batch_size': 32, 'dropout_rate': 0.2, 'epochs': 2000, 'neurons': 10, 'optimizer': 'sgd', 'verbose': 0}\n",
      "-0.267556 (0.064684) with: {'activation': 'softplus', 'batch_size': 32, 'dropout_rate': 0.3, 'epochs': 2000, 'neurons': 10, 'optimizer': 'adam', 'verbose': 0}\n",
      "-0.268473 (0.066104) with: {'activation': 'softplus', 'batch_size': 32, 'dropout_rate': 0.3, 'epochs': 2000, 'neurons': 10, 'optimizer': 'adamax', 'verbose': 0}\n",
      "-0.249482 (0.063118) with: {'activation': 'softplus', 'batch_size': 32, 'dropout_rate': 0.3, 'epochs': 2000, 'neurons': 10, 'optimizer': 'rmsprop', 'verbose': 0}\n",
      "-0.270264 (0.063819) with: {'activation': 'softplus', 'batch_size': 32, 'dropout_rate': 0.3, 'epochs': 2000, 'neurons': 10, 'optimizer': 'sgd', 'verbose': 0}\n",
      "-0.267942 (0.063779) with: {'activation': 'softplus', 'batch_size': 32, 'dropout_rate': 0.4, 'epochs': 2000, 'neurons': 10, 'optimizer': 'adam', 'verbose': 0}\n",
      "-0.267685 (0.064139) with: {'activation': 'softplus', 'batch_size': 32, 'dropout_rate': 0.4, 'epochs': 2000, 'neurons': 10, 'optimizer': 'adamax', 'verbose': 0}\n",
      "-0.247911 (0.052819) with: {'activation': 'softplus', 'batch_size': 32, 'dropout_rate': 0.4, 'epochs': 2000, 'neurons': 10, 'optimizer': 'rmsprop', 'verbose': 0}\n",
      "-0.272232 (0.062879) with: {'activation': 'softplus', 'batch_size': 32, 'dropout_rate': 0.4, 'epochs': 2000, 'neurons': 10, 'optimizer': 'sgd', 'verbose': 0}\n",
      "-0.270455 (0.065022) with: {'activation': 'softplus', 'batch_size': 32, 'dropout_rate': 0.5, 'epochs': 2000, 'neurons': 10, 'optimizer': 'adam', 'verbose': 0}\n",
      "-0.271101 (0.065245) with: {'activation': 'softplus', 'batch_size': 32, 'dropout_rate': 0.5, 'epochs': 2000, 'neurons': 10, 'optimizer': 'adamax', 'verbose': 0}\n",
      "-0.245314 (0.055224) with: {'activation': 'softplus', 'batch_size': 32, 'dropout_rate': 0.5, 'epochs': 2000, 'neurons': 10, 'optimizer': 'rmsprop', 'verbose': 0}\n",
      "-0.273221 (0.064103) with: {'activation': 'softplus', 'batch_size': 32, 'dropout_rate': 0.5, 'epochs': 2000, 'neurons': 10, 'optimizer': 'sgd', 'verbose': 0}\n",
      "-0.256160 (0.064959) with: {'activation': 'softplus', 'batch_size': 64, 'dropout_rate': 0.1, 'epochs': 2000, 'neurons': 10, 'optimizer': 'adam', 'verbose': 0}\n",
      "-0.248259 (0.061724) with: {'activation': 'softplus', 'batch_size': 64, 'dropout_rate': 0.1, 'epochs': 2000, 'neurons': 10, 'optimizer': 'adamax', 'verbose': 0}\n",
      "-0.250033 (0.058481) with: {'activation': 'softplus', 'batch_size': 64, 'dropout_rate': 0.1, 'epochs': 2000, 'neurons': 10, 'optimizer': 'rmsprop', 'verbose': 0}\n",
      "-0.267843 (0.065966) with: {'activation': 'softplus', 'batch_size': 64, 'dropout_rate': 0.1, 'epochs': 2000, 'neurons': 10, 'optimizer': 'sgd', 'verbose': 0}\n",
      "-0.267430 (0.067290) with: {'activation': 'softplus', 'batch_size': 64, 'dropout_rate': 0.2, 'epochs': 2000, 'neurons': 10, 'optimizer': 'adam', 'verbose': 0}\n",
      "-0.260412 (0.067545) with: {'activation': 'softplus', 'batch_size': 64, 'dropout_rate': 0.2, 'epochs': 2000, 'neurons': 10, 'optimizer': 'adamax', 'verbose': 0}\n",
      "-0.257698 (0.059966) with: {'activation': 'softplus', 'batch_size': 64, 'dropout_rate': 0.2, 'epochs': 2000, 'neurons': 10, 'optimizer': 'rmsprop', 'verbose': 0}\n",
      "-0.271568 (0.062317) with: {'activation': 'softplus', 'batch_size': 64, 'dropout_rate': 0.2, 'epochs': 2000, 'neurons': 10, 'optimizer': 'sgd', 'verbose': 0}\n",
      "-0.270819 (0.066015) with: {'activation': 'softplus', 'batch_size': 64, 'dropout_rate': 0.3, 'epochs': 2000, 'neurons': 10, 'optimizer': 'adam', 'verbose': 0}\n",
      "-0.263186 (0.064914) with: {'activation': 'softplus', 'batch_size': 64, 'dropout_rate': 0.3, 'epochs': 2000, 'neurons': 10, 'optimizer': 'adamax', 'verbose': 0}\n",
      "-0.257254 (0.060310) with: {'activation': 'softplus', 'batch_size': 64, 'dropout_rate': 0.3, 'epochs': 2000, 'neurons': 10, 'optimizer': 'rmsprop', 'verbose': 0}\n",
      "-0.271759 (0.062744) with: {'activation': 'softplus', 'batch_size': 64, 'dropout_rate': 0.3, 'epochs': 2000, 'neurons': 10, 'optimizer': 'sgd', 'verbose': 0}\n",
      "-0.271414 (0.064484) with: {'activation': 'softplus', 'batch_size': 64, 'dropout_rate': 0.4, 'epochs': 2000, 'neurons': 10, 'optimizer': 'adam', 'verbose': 0}\n",
      "-0.269301 (0.066256) with: {'activation': 'softplus', 'batch_size': 64, 'dropout_rate': 0.4, 'epochs': 2000, 'neurons': 10, 'optimizer': 'adamax', 'verbose': 0}\n",
      "-0.255833 (0.058920) with: {'activation': 'softplus', 'batch_size': 64, 'dropout_rate': 0.4, 'epochs': 2000, 'neurons': 10, 'optimizer': 'rmsprop', 'verbose': 0}\n",
      "-0.272949 (0.064327) with: {'activation': 'softplus', 'batch_size': 64, 'dropout_rate': 0.4, 'epochs': 2000, 'neurons': 10, 'optimizer': 'sgd', 'verbose': 0}\n",
      "-0.271007 (0.066268) with: {'activation': 'softplus', 'batch_size': 64, 'dropout_rate': 0.5, 'epochs': 2000, 'neurons': 10, 'optimizer': 'adam', 'verbose': 0}\n",
      "-0.271109 (0.064232) with: {'activation': 'softplus', 'batch_size': 64, 'dropout_rate': 0.5, 'epochs': 2000, 'neurons': 10, 'optimizer': 'adamax', 'verbose': 0}\n",
      "-0.250216 (0.053764) with: {'activation': 'softplus', 'batch_size': 64, 'dropout_rate': 0.5, 'epochs': 2000, 'neurons': 10, 'optimizer': 'rmsprop', 'verbose': 0}\n",
      "-0.272094 (0.063582) with: {'activation': 'softplus', 'batch_size': 64, 'dropout_rate': 0.5, 'epochs': 2000, 'neurons': 10, 'optimizer': 'sgd', 'verbose': 0}\n"
     ]
    }
   ],
   "source": [
    "# summarize results\n",
    "print(\"Best parameters: %f using %s\\n\" % (grid_search.best_score_, grid_search.best_params_))\n",
    "\n",
    "means = grid_search.cv_results_['mean_test_score']\n",
    "stds = grid_search.cv_results_['std_test_score']\n",
    "params = grid_search.cv_results_['params']\n",
    "for mean, stdev, param in zip(means, stds, params):\n",
    "    print(\"%f (%f) with: %r\" % (mean, stdev, param))"
   ]
  },
  {
   "cell_type": "code",
   "execution_count": 31,
   "metadata": {},
   "outputs": [],
   "source": [
    "result = pd.concat([pd.DataFrame(grid_search.cv_results_[\"params\"]),pd.DataFrame(grid_search.cv_results_[\"mean_test_score\"], columns=[\"score\"])],axis=1)"
   ]
  },
  {
   "cell_type": "code",
   "execution_count": 32,
   "metadata": {},
   "outputs": [
    {
     "data": {
      "text/html": [
       "<div>\n",
       "<style scoped>\n",
       "    .dataframe tbody tr th:only-of-type {\n",
       "        vertical-align: middle;\n",
       "    }\n",
       "\n",
       "    .dataframe tbody tr th {\n",
       "        vertical-align: top;\n",
       "    }\n",
       "\n",
       "    .dataframe thead th {\n",
       "        text-align: right;\n",
       "    }\n",
       "</style>\n",
       "<table border=\"1\" class=\"dataframe\">\n",
       "  <thead>\n",
       "    <tr style=\"text-align: right;\">\n",
       "      <th></th>\n",
       "      <th>activation</th>\n",
       "      <th>batch_size</th>\n",
       "      <th>dropout_rate</th>\n",
       "      <th>epochs</th>\n",
       "      <th>neurons</th>\n",
       "      <th>optimizer</th>\n",
       "      <th>verbose</th>\n",
       "      <th>score</th>\n",
       "    </tr>\n",
       "  </thead>\n",
       "  <tbody>\n",
       "    <tr>\n",
       "      <th>100</th>\n",
       "      <td>tanh</td>\n",
       "      <td>16</td>\n",
       "      <td>0.1</td>\n",
       "      <td>2000</td>\n",
       "      <td>10</td>\n",
       "      <td>adam</td>\n",
       "      <td>0</td>\n",
       "      <td>-0.203195</td>\n",
       "    </tr>\n",
       "    <tr>\n",
       "      <th>264</th>\n",
       "      <td>selu</td>\n",
       "      <td>16</td>\n",
       "      <td>0.2</td>\n",
       "      <td>2000</td>\n",
       "      <td>10</td>\n",
       "      <td>adam</td>\n",
       "      <td>0</td>\n",
       "      <td>-0.203926</td>\n",
       "    </tr>\n",
       "    <tr>\n",
       "      <th>340</th>\n",
       "      <td>elu</td>\n",
       "      <td>16</td>\n",
       "      <td>0.1</td>\n",
       "      <td>2000</td>\n",
       "      <td>10</td>\n",
       "      <td>adam</td>\n",
       "      <td>0</td>\n",
       "      <td>-0.205850</td>\n",
       "    </tr>\n",
       "    <tr>\n",
       "      <th>260</th>\n",
       "      <td>selu</td>\n",
       "      <td>16</td>\n",
       "      <td>0.1</td>\n",
       "      <td>2000</td>\n",
       "      <td>10</td>\n",
       "      <td>adam</td>\n",
       "      <td>0</td>\n",
       "      <td>-0.205903</td>\n",
       "    </tr>\n",
       "    <tr>\n",
       "      <th>292</th>\n",
       "      <td>selu</td>\n",
       "      <td>32</td>\n",
       "      <td>0.4</td>\n",
       "      <td>2000</td>\n",
       "      <td>10</td>\n",
       "      <td>adam</td>\n",
       "      <td>0</td>\n",
       "      <td>-0.206018</td>\n",
       "    </tr>\n",
       "    <tr>\n",
       "      <th>...</th>\n",
       "      <td>...</td>\n",
       "      <td>...</td>\n",
       "      <td>...</td>\n",
       "      <td>...</td>\n",
       "      <td>...</td>\n",
       "      <td>...</td>\n",
       "      <td>...</td>\n",
       "      <td>...</td>\n",
       "    </tr>\n",
       "    <tr>\n",
       "      <th>172</th>\n",
       "      <td>relu</td>\n",
       "      <td>8</td>\n",
       "      <td>0.4</td>\n",
       "      <td>2000</td>\n",
       "      <td>10</td>\n",
       "      <td>adam</td>\n",
       "      <td>0</td>\n",
       "      <td>-0.331005</td>\n",
       "    </tr>\n",
       "    <tr>\n",
       "      <th>256</th>\n",
       "      <td>selu</td>\n",
       "      <td>8</td>\n",
       "      <td>0.5</td>\n",
       "      <td>2000</td>\n",
       "      <td>10</td>\n",
       "      <td>adam</td>\n",
       "      <td>0</td>\n",
       "      <td>-0.333821</td>\n",
       "    </tr>\n",
       "    <tr>\n",
       "      <th>200</th>\n",
       "      <td>relu</td>\n",
       "      <td>32</td>\n",
       "      <td>0.1</td>\n",
       "      <td>2000</td>\n",
       "      <td>10</td>\n",
       "      <td>adam</td>\n",
       "      <td>0</td>\n",
       "      <td>-0.336587</td>\n",
       "    </tr>\n",
       "    <tr>\n",
       "      <th>212</th>\n",
       "      <td>relu</td>\n",
       "      <td>32</td>\n",
       "      <td>0.4</td>\n",
       "      <td>2000</td>\n",
       "      <td>10</td>\n",
       "      <td>adam</td>\n",
       "      <td>0</td>\n",
       "      <td>-0.337786</td>\n",
       "    </tr>\n",
       "    <tr>\n",
       "      <th>180</th>\n",
       "      <td>relu</td>\n",
       "      <td>16</td>\n",
       "      <td>0.1</td>\n",
       "      <td>2000</td>\n",
       "      <td>10</td>\n",
       "      <td>adam</td>\n",
       "      <td>0</td>\n",
       "      <td>-0.662016</td>\n",
       "    </tr>\n",
       "  </tbody>\n",
       "</table>\n",
       "<p>480 rows × 8 columns</p>\n",
       "</div>"
      ],
      "text/plain": [
       "    activation  batch_size  dropout_rate  epochs  neurons optimizer  verbose  \\\n",
       "100       tanh          16           0.1    2000       10      adam        0   \n",
       "264       selu          16           0.2    2000       10      adam        0   \n",
       "340        elu          16           0.1    2000       10      adam        0   \n",
       "260       selu          16           0.1    2000       10      adam        0   \n",
       "292       selu          32           0.4    2000       10      adam        0   \n",
       "..         ...         ...           ...     ...      ...       ...      ...   \n",
       "172       relu           8           0.4    2000       10      adam        0   \n",
       "256       selu           8           0.5    2000       10      adam        0   \n",
       "200       relu          32           0.1    2000       10      adam        0   \n",
       "212       relu          32           0.4    2000       10      adam        0   \n",
       "180       relu          16           0.1    2000       10      adam        0   \n",
       "\n",
       "        score  \n",
       "100 -0.203195  \n",
       "264 -0.203926  \n",
       "340 -0.205850  \n",
       "260 -0.205903  \n",
       "292 -0.206018  \n",
       "..        ...  \n",
       "172 -0.331005  \n",
       "256 -0.333821  \n",
       "200 -0.336587  \n",
       "212 -0.337786  \n",
       "180 -0.662016  \n",
       "\n",
       "[480 rows x 8 columns]"
      ]
     },
     "execution_count": 32,
     "metadata": {},
     "output_type": "execute_result"
    }
   ],
   "source": [
    "result.sort_values(by=\"score\", ascending=False)"
   ]
  },
  {
   "cell_type": "code",
   "execution_count": 33,
   "metadata": {},
   "outputs": [],
   "source": [
    "# result.sort_values(by=\"score\", ascending=False).to_csv('multivariate_gridsearch_lstm.csv',index=False)"
   ]
  },
  {
   "cell_type": "markdown",
   "metadata": {},
   "source": [
    "### Evaluasi Model LSTM-RNN"
   ]
  },
  {
   "cell_type": "code",
   "execution_count": 34,
   "metadata": {},
   "outputs": [],
   "source": [
    "# Set akhir waktu komputasi \n",
    "end = time.time()"
   ]
  },
  {
   "cell_type": "code",
   "execution_count": 35,
   "metadata": {},
   "outputs": [],
   "source": [
    "# Proses menghitung waktu komputasi\n",
    "hours, rem = divmod(end-start, 3600)\n",
    "minutes, seconds = divmod(rem, 60)"
   ]
  },
  {
   "cell_type": "code",
   "execution_count": 36,
   "metadata": {},
   "outputs": [
    {
     "name": "stdout",
     "output_type": "stream",
     "text": [
      "00:34:06.86\n"
     ]
    }
   ],
   "source": [
    "# Hasil waktu komputasi\n",
    "print(\"{:0>2}:{:0>2}:{:05.2f}\".format(int(hours),int(minutes),seconds))"
   ]
  },
  {
   "cell_type": "code",
   "execution_count": null,
   "metadata": {},
   "outputs": [],
   "source": []
  }
 ],
 "metadata": {
  "accelerator": "GPU",
  "colab": {
   "collapsed_sections": [],
   "name": "lstm-rnn-2.ipynb",
   "provenance": []
  },
  "kernelspec": {
   "display_name": "Python 3",
   "language": "python",
   "name": "python3"
  },
  "language_info": {
   "codemirror_mode": {
    "name": "ipython",
    "version": 3
   },
   "file_extension": ".py",
   "mimetype": "text/x-python",
   "name": "python",
   "nbconvert_exporter": "python",
   "pygments_lexer": "ipython3",
   "version": "3.8.5"
  }
 },
 "nbformat": 4,
 "nbformat_minor": 4
}
