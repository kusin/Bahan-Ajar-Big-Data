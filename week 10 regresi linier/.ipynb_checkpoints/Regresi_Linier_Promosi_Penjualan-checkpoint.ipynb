{
 "cells": [
  {
   "cell_type": "markdown",
   "metadata": {},
   "source": [
    "## Studi Kasus Regresi Linier\n",
    "- Prediksi penjualan benih yg dipengaruhi oleh promosi / iklan"
   ]
  },
  {
   "cell_type": "code",
   "execution_count": 1,
   "metadata": {},
   "outputs": [],
   "source": [
    "# Deklarasi pustaka\n",
    "import numpy as np # proses perhitungan numerik\n",
    "import pandas as pd # proses manipulasi dataset\n",
    "import matplotlib.pyplot as plt # visualisasi dataset"
   ]
  },
  {
   "cell_type": "markdown",
   "metadata": {},
   "source": [
    "### Akuisisi Data"
   ]
  },
  {
   "cell_type": "code",
   "execution_count": 2,
   "metadata": {},
   "outputs": [],
   "source": [
    "# membaca dataset\n",
    "df = pd.read_csv(\"D:/Bahan Ajar Big Data/dataset/dataset_promosi_penjualan.csv\", delimiter=\";\")"
   ]
  },
  {
   "cell_type": "code",
   "execution_count": 3,
   "metadata": {},
   "outputs": [
    {
     "data": {
      "text/html": [
       "<div>\n",
       "<style scoped>\n",
       "    .dataframe tbody tr th:only-of-type {\n",
       "        vertical-align: middle;\n",
       "    }\n",
       "\n",
       "    .dataframe tbody tr th {\n",
       "        vertical-align: top;\n",
       "    }\n",
       "\n",
       "    .dataframe thead th {\n",
       "        text-align: right;\n",
       "    }\n",
       "</style>\n",
       "<table border=\"1\" class=\"dataframe\">\n",
       "  <thead>\n",
       "    <tr style=\"text-align: right;\">\n",
       "      <th></th>\n",
       "      <th>promosi</th>\n",
       "      <th>penjualan</th>\n",
       "      <th>tahun</th>\n",
       "    </tr>\n",
       "  </thead>\n",
       "  <tbody>\n",
       "    <tr>\n",
       "      <th>0</th>\n",
       "      <td>25</td>\n",
       "      <td>100</td>\n",
       "      <td>2001</td>\n",
       "    </tr>\n",
       "    <tr>\n",
       "      <th>1</th>\n",
       "      <td>27</td>\n",
       "      <td>105</td>\n",
       "      <td>2002</td>\n",
       "    </tr>\n",
       "    <tr>\n",
       "      <th>2</th>\n",
       "      <td>29</td>\n",
       "      <td>108</td>\n",
       "      <td>2003</td>\n",
       "    </tr>\n",
       "    <tr>\n",
       "      <th>3</th>\n",
       "      <td>30</td>\n",
       "      <td>109</td>\n",
       "      <td>2004</td>\n",
       "    </tr>\n",
       "    <tr>\n",
       "      <th>4</th>\n",
       "      <td>35</td>\n",
       "      <td>120</td>\n",
       "      <td>2005</td>\n",
       "    </tr>\n",
       "    <tr>\n",
       "      <th>5</th>\n",
       "      <td>50</td>\n",
       "      <td>145</td>\n",
       "      <td>2006</td>\n",
       "    </tr>\n",
       "    <tr>\n",
       "      <th>6</th>\n",
       "      <td>55</td>\n",
       "      <td>143</td>\n",
       "      <td>2007</td>\n",
       "    </tr>\n",
       "    <tr>\n",
       "      <th>7</th>\n",
       "      <td>60</td>\n",
       "      <td>150</td>\n",
       "      <td>2008</td>\n",
       "    </tr>\n",
       "    <tr>\n",
       "      <th>8</th>\n",
       "      <td>63</td>\n",
       "      <td>154</td>\n",
       "      <td>2009</td>\n",
       "    </tr>\n",
       "    <tr>\n",
       "      <th>9</th>\n",
       "      <td>65</td>\n",
       "      <td>157</td>\n",
       "      <td>2010</td>\n",
       "    </tr>\n",
       "    <tr>\n",
       "      <th>10</th>\n",
       "      <td>70</td>\n",
       "      <td>161</td>\n",
       "      <td>2011</td>\n",
       "    </tr>\n",
       "    <tr>\n",
       "      <th>11</th>\n",
       "      <td>71</td>\n",
       "      <td>170</td>\n",
       "      <td>2012</td>\n",
       "    </tr>\n",
       "    <tr>\n",
       "      <th>12</th>\n",
       "      <td>73</td>\n",
       "      <td>174</td>\n",
       "      <td>2013</td>\n",
       "    </tr>\n",
       "    <tr>\n",
       "      <th>13</th>\n",
       "      <td>75</td>\n",
       "      <td>176</td>\n",
       "      <td>2014</td>\n",
       "    </tr>\n",
       "    <tr>\n",
       "      <th>14</th>\n",
       "      <td>80</td>\n",
       "      <td>180</td>\n",
       "      <td>2015</td>\n",
       "    </tr>\n",
       "  </tbody>\n",
       "</table>\n",
       "</div>"
      ],
      "text/plain": [
       "    promosi  penjualan  tahun\n",
       "0        25        100   2001\n",
       "1        27        105   2002\n",
       "2        29        108   2003\n",
       "3        30        109   2004\n",
       "4        35        120   2005\n",
       "5        50        145   2006\n",
       "6        55        143   2007\n",
       "7        60        150   2008\n",
       "8        63        154   2009\n",
       "9        65        157   2010\n",
       "10       70        161   2011\n",
       "11       71        170   2012\n",
       "12       73        174   2013\n",
       "13       75        176   2014\n",
       "14       80        180   2015"
      ]
     },
     "execution_count": 3,
     "metadata": {},
     "output_type": "execute_result"
    }
   ],
   "source": [
    "# menampilkan isi dataset\n",
    "df"
   ]
  },
  {
   "cell_type": "markdown",
   "metadata": {},
   "source": [
    "### Praproses Data"
   ]
  },
  {
   "cell_type": "code",
   "execution_count": 4,
   "metadata": {},
   "outputs": [],
   "source": [
    "# Mengambil nilai X dan Y menjadi array (1 Dimensi)\n",
    "X = df['promosi'].values\n",
    "Y = df['penjualan'].values"
   ]
  },
  {
   "cell_type": "code",
   "execution_count": 5,
   "metadata": {},
   "outputs": [
    {
     "name": "stdout",
     "output_type": "stream",
     "text": [
      "X = [25 27 29 30 35 50 55 60 63 65 70 71 73 75 80]\n",
      "Y = [100 105 108 109 120 145 143 150 154 157 161 170 174 176 180]\n"
     ]
    }
   ],
   "source": [
    "print('X = '+str(X))\n",
    "print('Y = '+str(Y))"
   ]
  },
  {
   "cell_type": "code",
   "execution_count": 6,
   "metadata": {},
   "outputs": [
    {
     "data": {
      "image/png": "[encoded data removed]",
      "text/plain": [
       "<Figure size 576x360 with 1 Axes>"
      ]
     },
     "metadata": {
      "needs_background": "light"
     },
     "output_type": "display_data"
    }
   ],
   "source": [
    "# Visualisasi data untuk melihat pola umum dataset\n",
    "\n",
    "# menentukan lebar frame\n",
    "fig, ax = plt.subplots(figsize = (8,5))\n",
    "\n",
    "# plot scatter\n",
    "ax.scatter(X, Y, label=\"dataset\")\n",
    "\n",
    "# memberikan keterangan pada sumbu x dan y\n",
    "plt.xlabel('Promosi')\n",
    "plt.ylabel('Penjualan')\n",
    "\n",
    "# memberikan legenda\n",
    "plt.legend()\n",
    "\n",
    "# menampilkan plot\n",
    "plt.show()"
   ]
  },
  {
   "cell_type": "markdown",
   "metadata": {},
   "source": [
    "### Model Prediksi Regresi Linier"
   ]
  },
  {
   "cell_type": "markdown",
   "metadata": {},
   "source": [
    "- rumus regresi Y = a + bX\n",
    "- Y = hasil prediksi (variabel terikat)\n",
    "- a = intercept\n",
    "- b = slope\n",
    "- X = koefisien regresi"
   ]
  },
  {
   "cell_type": "code",
   "execution_count": 7,
   "metadata": {},
   "outputs": [
    {
     "name": "stdout",
     "output_type": "stream",
     "text": [
      "Mean promosi = 53.86666666666667\n",
      "Mean penjualan = 143.46666666666667\n",
      "66.99479949720258 1.4196509994331206\n"
     ]
    }
   ],
   "source": [
    "# menentukan nilai a (intercept) dan b(slope)\n",
    "mean_x = np.mean(X.copy())\n",
    "mean_y = np.mean(Y.copy())\n",
    "\n",
    "n = len(X)\n",
    "\n",
    "num = 0\n",
    "den = 0\n",
    "\n",
    "for i in range(n):\n",
    "    num += (X[i] - mean_x) * (Y[i] - mean_y)\n",
    "    den += (X[i] - mean_x) ** 2\n",
    "\n",
    "b1 = float(num) / float(den)\n",
    "b0 = mean_y - (b1 * mean_x)\n",
    "\n",
    "print('Mean promosi = '+str(mean_x))\n",
    "print('Mean penjualan = '+str(mean_y))\n",
    "print(b0, b1)"
   ]
  },
  {
   "cell_type": "code",
   "execution_count": 8,
   "metadata": {},
   "outputs": [],
   "source": [
    "# proses regresi linier\n",
    "max_x = np.max(X) + 10\n",
    "min_x = np.min(X) - 10\n",
    "\n",
    "x = np.linspace(min_x, max_x, 100)\n",
    "y = b0 + b1 * x"
   ]
  },
  {
   "cell_type": "markdown",
   "metadata": {},
   "source": [
    "### Visualisasi Data untuk melihat garis regresi linier"
   ]
  },
  {
   "cell_type": "code",
   "execution_count": 9,
   "metadata": {},
   "outputs": [
    {
     "data": {
      "image/png": "[encoded data removed]",
      "text/plain": [
       "<Figure size 576x360 with 1 Axes>"
      ]
     },
     "metadata": {
      "needs_background": "light"
     },
     "output_type": "display_data"
    }
   ],
   "source": [
    "fig, ax = plt.subplots(figsize = (8,5))\n",
    "ax.plot(x, y, label=\"Linier Regression\") \n",
    "ax.scatter(X, Y, label=\"Scatter Plot\")\n",
    "\n",
    "plt.xlabel('Promosi')\n",
    "plt.ylabel('Penjualan')\n",
    " \n",
    "plt.legend()\n",
    "plt.show()"
   ]
  },
  {
   "cell_type": "markdown",
   "metadata": {},
   "source": [
    "### Evalusasi Regresi Linier"
   ]
  },
  {
   "cell_type": "markdown",
   "metadata": {},
   "source": [
    "- persamaan regresi linier"
   ]
  },
  {
   "cell_type": "code",
   "execution_count": 10,
   "metadata": {},
   "outputs": [
    {
     "data": {
      "text/html": [
       "<div>\n",
       "<style scoped>\n",
       "    .dataframe tbody tr th:only-of-type {\n",
       "        vertical-align: middle;\n",
       "    }\n",
       "\n",
       "    .dataframe tbody tr th {\n",
       "        vertical-align: top;\n",
       "    }\n",
       "\n",
       "    .dataframe thead th {\n",
       "        text-align: right;\n",
       "    }\n",
       "</style>\n",
       "<table border=\"1\" class=\"dataframe\">\n",
       "  <thead>\n",
       "    <tr style=\"text-align: right;\">\n",
       "      <th></th>\n",
       "      <th>promosi</th>\n",
       "      <th>penjualan</th>\n",
       "      <th>tahun</th>\n",
       "    </tr>\n",
       "  </thead>\n",
       "  <tbody>\n",
       "    <tr>\n",
       "      <th>0</th>\n",
       "      <td>25</td>\n",
       "      <td>100</td>\n",
       "      <td>2001</td>\n",
       "    </tr>\n",
       "    <tr>\n",
       "      <th>1</th>\n",
       "      <td>27</td>\n",
       "      <td>105</td>\n",
       "      <td>2002</td>\n",
       "    </tr>\n",
       "    <tr>\n",
       "      <th>2</th>\n",
       "      <td>29</td>\n",
       "      <td>108</td>\n",
       "      <td>2003</td>\n",
       "    </tr>\n",
       "    <tr>\n",
       "      <th>3</th>\n",
       "      <td>30</td>\n",
       "      <td>109</td>\n",
       "      <td>2004</td>\n",
       "    </tr>\n",
       "    <tr>\n",
       "      <th>4</th>\n",
       "      <td>35</td>\n",
       "      <td>120</td>\n",
       "      <td>2005</td>\n",
       "    </tr>\n",
       "  </tbody>\n",
       "</table>\n",
       "</div>"
      ],
      "text/plain": [
       "   promosi  penjualan  tahun\n",
       "0       25        100   2001\n",
       "1       27        105   2002\n",
       "2       29        108   2003\n",
       "3       30        109   2004\n",
       "4       35        120   2005"
      ]
     },
     "execution_count": 10,
     "metadata": {},
     "output_type": "execute_result"
    }
   ],
   "source": [
    "df.head()"
   ]
  },
  {
   "cell_type": "code",
   "execution_count": 11,
   "metadata": {},
   "outputs": [],
   "source": [
    "# berapa nilai penjualan, apabila promosi nya 25, 27, 29, 30, 35\n",
    "promosi = [25, 27, 29, 30, 35]"
   ]
  },
  {
   "cell_type": "code",
   "execution_count": 12,
   "metadata": {},
   "outputs": [
    {
     "name": "stdout",
     "output_type": "stream",
     "text": [
      "Jika nilai promosi 25 maka nilai penjualan 102.49\n",
      "Jika nilai promosi 27 maka nilai penjualan 105.33\n",
      "Jika nilai promosi 29 maka nilai penjualan 108.16\n",
      "Jika nilai promosi 30 maka nilai penjualan 109.58\n",
      "Jika nilai promosi 35 maka nilai penjualan 116.68\n"
     ]
    }
   ],
   "source": [
    "for i in range(len(promosi)):\n",
    "    y = b0 + b1 * promosi[i]\n",
    "    print(\"Jika nilai promosi \" + str(promosi[i]) + \" maka nilai penjualan {:.2f}\".format(y))"
   ]
  },
  {
   "cell_type": "markdown",
   "metadata": {},
   "source": [
    "- nilai rmse"
   ]
  },
  {
   "cell_type": "code",
   "execution_count": 13,
   "metadata": {},
   "outputs": [
    {
     "name": "stdout",
     "output_type": "stream",
     "text": [
      "RMSE = 3.0431\n"
     ]
    }
   ],
   "source": [
    "# set nilai awal rmse\n",
    "rmse = 0\n",
    "\n",
    "# for loop untuk melihat berapa perbedaan antara hasil prediksi dengan data aktual\n",
    "for i in range(n):\n",
    "    y_pred = b0 + b1 * X[i]\n",
    "    rmse += (Y[i] - y_pred) ** 2\n",
    "\n",
    "# proses hitung nilai rmse    \n",
    "rmse = np.sqrt(rmse/n)\n",
    "\n",
    "# menampilkan nilai rmse\n",
    "# semakin mendekati nilai 0, maka model prediksi semakin baik\n",
    "print(\"RMSE = {:.4f}\".format(rmse))"
   ]
  },
  {
   "cell_type": "code",
   "execution_count": null,
   "metadata": {},
   "outputs": [],
   "source": []
  }
 ],
 "metadata": {
  "kernelspec": {
   "display_name": "Python 3",
   "language": "python",
   "name": "python3"
  },
  "language_info": {
   "codemirror_mode": {
    "name": "ipython",
    "version": 3
   },
   "file_extension": ".py",
   "mimetype": "text/x-python",
   "name": "python",
   "nbconvert_exporter": "python",
   "pygments_lexer": "ipython3",
   "version": "3.8.5"
  }
 },
 "nbformat": 4,
 "nbformat_minor": 4
}
