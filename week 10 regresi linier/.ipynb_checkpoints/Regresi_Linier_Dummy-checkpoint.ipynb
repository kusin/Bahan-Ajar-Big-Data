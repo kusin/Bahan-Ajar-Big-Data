{
 "cells": [
  {
   "cell_type": "markdown",
   "metadata": {},
   "source": [
    "## Statistik Komputasi Regresi Linier"
   ]
  },
  {
   "cell_type": "markdown",
   "metadata": {},
   "source": [
    "- Sumber Belajar \n",
    "- https://www.w3schools.com/python/python_ml_multiple_regression.asp\n",
    "- https://datatofish.com/multiple-linear-regression-python/\n",
    "- https://www.pluralsight.com/guides/interpreting-data-using-statistical-models-python\n",
    "- https://www.statsmodels.org/stable/index.html#index\n",
    "- https://statmat.id/regresi-linier-berganda/"
   ]
  },
  {
   "cell_type": "markdown",
   "metadata": {},
   "source": [
    "### Langkah 1 Deklarasi Pustaka"
   ]
  },
  {
   "cell_type": "code",
   "execution_count": 1,
   "metadata": {},
   "outputs": [],
   "source": [
    "# Deklarasi Pustaka\r\n",
    "import datetime # => format custom tanggalan\r\n",
    "import numpy as np # => menghitung numerik\r\n",
    "import pandas as pd # => membuat dataset menjadi data frame\r\n",
    "import matplotlib.pyplot as plt # => viisualisasi datanya\r\n",
    "\r\n",
    "# => proses analisa statistik\r\n",
    "import statsmodels.api as sm\r\n",
    "import statsmodels.formula.api as smf\r\n",
    "import scipy.stats\r\n",
    "\r\n",
    "# => proses model prediksi secara Ai\r\n",
    "from sklearn.linear_model import LinearRegression"
   ]
  },
  {
   "cell_type": "markdown",
   "metadata": {},
   "source": [
    "### Langkah 2 Masukan Data"
   ]
  },
  {
   "cell_type": "code",
   "execution_count": 2,
   "metadata": {},
   "outputs": [],
   "source": [
    "# Input Data\r\n",
    "df = pd.read_csv(\"D:/Bahan Ajar Big Data/dataset/dataset_dummy_regresi.csv\")"
   ]
  },
  {
   "cell_type": "code",
   "execution_count": 3,
   "metadata": {},
   "outputs": [
    {
     "name": "stdout",
     "output_type": "stream",
     "text": [
      "<class 'pandas.core.frame.DataFrame'>\n",
      "RangeIndex: 24 entries, 0 to 23\n",
      "Data columns (total 4 columns):\n",
      " #   Column  Non-Null Count  Dtype  \n",
      "---  ------  --------------  -----  \n",
      " 0   tahun   24 non-null     object \n",
      " 1   x1      24 non-null     float64\n",
      " 2   x2      24 non-null     float64\n",
      " 3   y       24 non-null     int64  \n",
      "dtypes: float64(2), int64(1), object(1)\n",
      "memory usage: 896.0+ bytes\n"
     ]
    }
   ],
   "source": [
    "# Melihat karakteristik dataset\r\n",
    "df.info()"
   ]
  },
  {
   "cell_type": "code",
   "execution_count": 4,
   "metadata": {},
   "outputs": [
    {
     "data": {
      "text/html": [
       "<div>\n",
       "<style scoped>\n",
       "    .dataframe tbody tr th:only-of-type {\n",
       "        vertical-align: middle;\n",
       "    }\n",
       "\n",
       "    .dataframe tbody tr th {\n",
       "        vertical-align: top;\n",
       "    }\n",
       "\n",
       "    .dataframe thead th {\n",
       "        text-align: right;\n",
       "    }\n",
       "</style>\n",
       "<table border=\"1\" class=\"dataframe\">\n",
       "  <thead>\n",
       "    <tr style=\"text-align: right;\">\n",
       "      <th></th>\n",
       "      <th>tahun</th>\n",
       "      <th>x1</th>\n",
       "      <th>x2</th>\n",
       "      <th>y</th>\n",
       "    </tr>\n",
       "  </thead>\n",
       "  <tbody>\n",
       "    <tr>\n",
       "      <th>19</th>\n",
       "      <td>2016-5-1</td>\n",
       "      <td>1.75</td>\n",
       "      <td>6.1</td>\n",
       "      <td>866</td>\n",
       "    </tr>\n",
       "    <tr>\n",
       "      <th>20</th>\n",
       "      <td>2016-4-1</td>\n",
       "      <td>1.75</td>\n",
       "      <td>5.9</td>\n",
       "      <td>876</td>\n",
       "    </tr>\n",
       "    <tr>\n",
       "      <th>21</th>\n",
       "      <td>2016-3-1</td>\n",
       "      <td>1.75</td>\n",
       "      <td>6.2</td>\n",
       "      <td>822</td>\n",
       "    </tr>\n",
       "    <tr>\n",
       "      <th>22</th>\n",
       "      <td>2016-2-1</td>\n",
       "      <td>1.75</td>\n",
       "      <td>6.2</td>\n",
       "      <td>704</td>\n",
       "    </tr>\n",
       "    <tr>\n",
       "      <th>23</th>\n",
       "      <td>2016-1-1</td>\n",
       "      <td>1.75</td>\n",
       "      <td>6.1</td>\n",
       "      <td>719</td>\n",
       "    </tr>\n",
       "  </tbody>\n",
       "</table>\n",
       "</div>"
      ],
      "text/plain": [
       "       tahun    x1   x2    y\n",
       "19  2016-5-1  1.75  6.1  866\n",
       "20  2016-4-1  1.75  5.9  876\n",
       "21  2016-3-1  1.75  6.2  822\n",
       "22  2016-2-1  1.75  6.2  704\n",
       "23  2016-1-1  1.75  6.1  719"
      ]
     },
     "execution_count": 4,
     "metadata": {},
     "output_type": "execute_result"
    }
   ],
   "source": [
    "# Melihat isi dataset\n",
    "df.tail()"
   ]
  },
  {
   "cell_type": "markdown",
   "metadata": {},
   "source": [
    "### Langkah 3 Kenali Bentuk Data"
   ]
  },
  {
   "cell_type": "code",
   "execution_count": 5,
   "metadata": {},
   "outputs": [
    {
     "name": "stdout",
     "output_type": "stream",
     "text": [
      "<class 'pandas.core.frame.DataFrame'>\n",
      "RangeIndex: 24 entries, 0 to 23\n",
      "Data columns (total 4 columns):\n",
      " #   Column  Non-Null Count  Dtype         \n",
      "---  ------  --------------  -----         \n",
      " 0   tahun   24 non-null     datetime64[ns]\n",
      " 1   x1      24 non-null     float64       \n",
      " 2   x2      24 non-null     float64       \n",
      " 3   y       24 non-null     int64         \n",
      "dtypes: datetime64[ns](1), float64(2), int64(1)\n",
      "memory usage: 896.0 bytes\n"
     ]
    }
   ],
   "source": [
    "# Berdasarkan dataset tersebut, diketahui bahwa kolom tahun masih berupa objek\r\n",
    "# oleh karena itu, kita convert menjadi tanggal untuk memudahkan analisa time series\r\n",
    "\r\n",
    "# Proses merubah bentuk data objek ke datetime\r\n",
    "df['tahun']= pd.to_datetime(df['tahun'])\r\n",
    " \r\n",
    "# Melihat karakteristik dataset\r\n",
    "df.info()"
   ]
  },
  {
   "cell_type": "code",
   "execution_count": 6,
   "metadata": {},
   "outputs": [
    {
     "data": {
      "text/html": [
       "<div>\n",
       "<style scoped>\n",
       "    .dataframe tbody tr th:only-of-type {\n",
       "        vertical-align: middle;\n",
       "    }\n",
       "\n",
       "    .dataframe tbody tr th {\n",
       "        vertical-align: top;\n",
       "    }\n",
       "\n",
       "    .dataframe thead th {\n",
       "        text-align: right;\n",
       "    }\n",
       "</style>\n",
       "<table border=\"1\" class=\"dataframe\">\n",
       "  <thead>\n",
       "    <tr style=\"text-align: right;\">\n",
       "      <th></th>\n",
       "      <th>tahun</th>\n",
       "      <th>x1</th>\n",
       "      <th>x2</th>\n",
       "      <th>y</th>\n",
       "    </tr>\n",
       "  </thead>\n",
       "  <tbody>\n",
       "    <tr>\n",
       "      <th>19</th>\n",
       "      <td>2016-05-01</td>\n",
       "      <td>1.75</td>\n",
       "      <td>6.1</td>\n",
       "      <td>866</td>\n",
       "    </tr>\n",
       "    <tr>\n",
       "      <th>20</th>\n",
       "      <td>2016-04-01</td>\n",
       "      <td>1.75</td>\n",
       "      <td>5.9</td>\n",
       "      <td>876</td>\n",
       "    </tr>\n",
       "    <tr>\n",
       "      <th>21</th>\n",
       "      <td>2016-03-01</td>\n",
       "      <td>1.75</td>\n",
       "      <td>6.2</td>\n",
       "      <td>822</td>\n",
       "    </tr>\n",
       "    <tr>\n",
       "      <th>22</th>\n",
       "      <td>2016-02-01</td>\n",
       "      <td>1.75</td>\n",
       "      <td>6.2</td>\n",
       "      <td>704</td>\n",
       "    </tr>\n",
       "    <tr>\n",
       "      <th>23</th>\n",
       "      <td>2016-01-01</td>\n",
       "      <td>1.75</td>\n",
       "      <td>6.1</td>\n",
       "      <td>719</td>\n",
       "    </tr>\n",
       "  </tbody>\n",
       "</table>\n",
       "</div>"
      ],
      "text/plain": [
       "        tahun    x1   x2    y\n",
       "19 2016-05-01  1.75  6.1  866\n",
       "20 2016-04-01  1.75  5.9  876\n",
       "21 2016-03-01  1.75  6.2  822\n",
       "22 2016-02-01  1.75  6.2  704\n",
       "23 2016-01-01  1.75  6.1  719"
      ]
     },
     "execution_count": 6,
     "metadata": {},
     "output_type": "execute_result"
    }
   ],
   "source": [
    "# Melihat isi dataset\n",
    "df.tail()"
   ]
  },
  {
   "cell_type": "code",
   "execution_count": 7,
   "metadata": {},
   "outputs": [
    {
     "data": {
      "text/html": [
       "<div>\n",
       "<style scoped>\n",
       "    .dataframe tbody tr th:only-of-type {\n",
       "        vertical-align: middle;\n",
       "    }\n",
       "\n",
       "    .dataframe tbody tr th {\n",
       "        vertical-align: top;\n",
       "    }\n",
       "\n",
       "    .dataframe thead th {\n",
       "        text-align: right;\n",
       "    }\n",
       "</style>\n",
       "<table border=\"1\" class=\"dataframe\">\n",
       "  <thead>\n",
       "    <tr style=\"text-align: right;\">\n",
       "      <th></th>\n",
       "      <th>x1</th>\n",
       "      <th>x2</th>\n",
       "      <th>y</th>\n",
       "    </tr>\n",
       "    <tr>\n",
       "      <th>tahun</th>\n",
       "      <th></th>\n",
       "      <th></th>\n",
       "      <th></th>\n",
       "    </tr>\n",
       "  </thead>\n",
       "  <tbody>\n",
       "    <tr>\n",
       "      <th>2016-04-30</th>\n",
       "      <td>7.00</td>\n",
       "      <td>24.4</td>\n",
       "      <td>3121</td>\n",
       "    </tr>\n",
       "    <tr>\n",
       "      <th>2016-08-31</th>\n",
       "      <td>7.00</td>\n",
       "      <td>24.5</td>\n",
       "      <td>3670</td>\n",
       "    </tr>\n",
       "    <tr>\n",
       "      <th>2016-12-31</th>\n",
       "      <td>7.25</td>\n",
       "      <td>23.8</td>\n",
       "      <td>3913</td>\n",
       "    </tr>\n",
       "    <tr>\n",
       "      <th>2017-04-30</th>\n",
       "      <td>8.50</td>\n",
       "      <td>22.7</td>\n",
       "      <td>4531</td>\n",
       "    </tr>\n",
       "    <tr>\n",
       "      <th>2017-08-31</th>\n",
       "      <td>9.75</td>\n",
       "      <td>22.0</td>\n",
       "      <td>4939</td>\n",
       "    </tr>\n",
       "    <tr>\n",
       "      <th>2017-12-31</th>\n",
       "      <td>10.25</td>\n",
       "      <td>21.2</td>\n",
       "      <td>5508</td>\n",
       "    </tr>\n",
       "  </tbody>\n",
       "</table>\n",
       "</div>"
      ],
      "text/plain": [
       "               x1    x2     y\n",
       "tahun                        \n",
       "2016-04-30   7.00  24.4  3121\n",
       "2016-08-31   7.00  24.5  3670\n",
       "2016-12-31   7.25  23.8  3913\n",
       "2017-04-30   8.50  22.7  4531\n",
       "2017-08-31   9.75  22.0  4939\n",
       "2017-12-31  10.25  21.2  5508"
      ]
     },
     "execution_count": 7,
     "metadata": {},
     "output_type": "execute_result"
    }
   ],
   "source": [
    "## Agar mempermudah dalam melakukan analisa time series.\r\n",
    "## Maka kita agregasikan data bulanan menjadi data quater\r\n",
    "\r\n",
    "# Langkah 1 agregasi data (index data berdasarkan bulan)\r\n",
    "df_copy = df.copy()\r\n",
    "\r\n",
    "df_copy = df_copy.set_index(\"tahun\")\r\n",
    "\r\n",
    "# Langkah 2 kelompokan data per-4 bulan sekali\r\n",
    "df_copy = df_copy.resample('4M', closed='left').sum()\r\n",
    "df_copy"
   ]
  },
  {
   "cell_type": "markdown",
   "metadata": {},
   "source": [
    "### Langkah 3.1 Kenali bentuk data per-variabel secara time series"
   ]
  },
  {
   "cell_type": "code",
   "execution_count": 8,
   "metadata": {},
   "outputs": [
    {
     "data": {
      "image/png": "[encoded data removed]",
      "text/plain": [
       "<Figure size 1440x432 with 1 Axes>"
      ]
     },
     "metadata": {
      "needs_background": "light"
     },
     "output_type": "display_data"
    },
    {
     "data": {
      "image/png": "[encoded data removed]",
      "text/plain": [
       "<Figure size 1440x432 with 2 Axes>"
      ]
     },
     "metadata": {
      "needs_background": "light"
     },
     "output_type": "display_data"
    }
   ],
   "source": [
    "# Melihat pergerakan variabel terikat secara time series\r\n",
    "fig, ax = plt.subplots(figsize = (20,6))\r\n",
    "\r\n",
    "# Membuat plot 1\r\n",
    "ax.plot(df_copy.index.values, df_copy[\"y\"], color='tab:blue', marker='o', label='Variabel Terikat Y', linewidth=2.5)\r\n",
    "\r\n",
    "# membuat label-label plot 2\r\n",
    "ax.set_title('Visualisasi Time Series Variabel Terikat Y', fontsize=14)\r\n",
    "ax.set_xlabel('Tahun', fontsize=12)\r\n",
    "ax.set_ylabel('Jumlah Data', fontsize=12)\r\n",
    "ax.legend(loc='upper left')\r\n",
    "ax.grid(True)\r\n",
    "\r\n",
    "##------------------------------------------------------------------------------------------------------------\r\n",
    "# Melihat pergerakan variabel bebas secara time series\r\n",
    "fig, (ax1, ax2) = plt.subplots(1, 2, figsize = (20,6))\r\n",
    "\r\n",
    "# Mengelompokan kordinat x dalam bentuk tanggal\r\n",
    "#fig.autofmt_xdate()\r\n",
    "\r\n",
    "# Membuat plot 2\r\n",
    "ax1.plot(df_copy.index.values, df_copy[\"x1\"], color='tab:blue', marker='o', label='Variabel Bebas x1', linewidth=2.5)\r\n",
    "\r\n",
    "# membuat label-label plot 2\r\n",
    "ax1.set_title('Visualisasi Time Series Variabel Bebas X1', fontsize=14)\r\n",
    "ax1.set_xlabel('Tahun', fontsize=12)\r\n",
    "ax1.set_ylabel('Jumlah Data', fontsize=12)\r\n",
    "ax1.legend(loc='upper left')\r\n",
    "ax1.grid(True)\r\n",
    "\r\n",
    "# Membuat plot 3\r\n",
    "ax2.plot(df_copy.index.values, df_copy[\"x2\"], color='tab:blue', marker='o', label='Variabel Bebas x2', linewidth=2.5)\r\n",
    "\r\n",
    "# membuat label-label plot 3\r\n",
    "ax2.set_title('Visualisasi Time Series Variabel Bebas X2', fontsize=14)\r\n",
    "ax2.set_xlabel('Tahun', fontsize=12)\r\n",
    "ax2.set_ylabel('Jumlah Data', fontsize=12)\r\n",
    "ax2.legend(loc='upper right')\r\n",
    "ax2.grid(True)\r\n",
    "\r\n",
    "# rotasi label x menjadi 45 derajat\r\n",
    "plt.setp(ax1.xaxis.get_majorticklabels(), rotation=45)\r\n",
    "plt.setp(ax2.xaxis.get_majorticklabels(), rotation=45)\r\n",
    "\r\n",
    "# Menampilkan Hasil Visualisasi\r\n",
    "plt.show()"
   ]
  },
  {
   "cell_type": "markdown",
   "metadata": {},
   "source": [
    "### Langlah 3.2 Bentuk Data secara analisis linieritas (variabel bebas dengan variabel terikat)"
   ]
  },
  {
   "cell_type": "code",
   "execution_count": 9,
   "metadata": {},
   "outputs": [
    {
     "data": {
      "image/png": "[encoded data removed]",
      "text/plain": [
       "<Figure size 1440x432 with 2 Axes>"
      ]
     },
     "metadata": {
      "needs_background": "light"
     },
     "output_type": "display_data"
    }
   ],
   "source": [
    "##------------------------------------------------------------------------------------------------------------\r\n",
    "# Melihat pergerakan variabel bebas dengan variabel terikat\r\n",
    "fig, (ax1, ax2) = plt.subplots(1, 2, figsize = (20,6))\r\n",
    "\r\n",
    "# Membuat plot 2\r\n",
    "ax1.scatter(df[\"x1\"], df[\"y\"], color='tab:blue', label='Variabel Bebas x1', linewidth=2.5)\r\n",
    "\r\n",
    "# membuat label-label plot 2\r\n",
    "ax1.set_title('Analisis Linieritas Variabel Bebas X1', fontsize=14)\r\n",
    "ax1.set_xlabel('Jumlah Data X1', fontsize=12)\r\n",
    "ax1.set_ylabel('Jumlah Data Y', fontsize=12)\r\n",
    "ax1.legend(loc='upper left')\r\n",
    "ax1.grid(True)\r\n",
    "\r\n",
    "# Membuat plot 3\r\n",
    "ax2.scatter(df[\"x2\"], df[\"y\"], color='tab:blue', label='Variabel Bebas x2', linewidth=2.5)\r\n",
    "\r\n",
    "# membuat label-label plot 3\r\n",
    "ax2.set_title('Analisis Linieritas Variabel Bebas X2', fontsize=14)\r\n",
    "ax2.set_xlabel('Jumlah Data X2', fontsize=12)\r\n",
    "ax2.set_ylabel('Jumlah Data Y', fontsize=12)\r\n",
    "ax2.legend(loc='upper right')\r\n",
    "ax2.grid(True)\r\n",
    "\r\n",
    "# rotasi label x menjadi 45 derajat\r\n",
    "plt.setp(ax1.xaxis.get_majorticklabels(), rotation=45)\r\n",
    "plt.setp(ax2.xaxis.get_majorticklabels(), rotation=45)\r\n",
    "\r\n",
    "# Menampilkan Hasil Visualisasi\r\n",
    "plt.show()"
   ]
  },
  {
   "cell_type": "markdown",
   "metadata": {},
   "source": [
    "### Langkah 3.3 Bentuk Data secara analisis korelasi dengan Pearson"
   ]
  },
  {
   "cell_type": "code",
   "execution_count": 10,
   "metadata": {},
   "outputs": [
    {
     "data": {
      "text/html": [
       "<div>\n",
       "<style scoped>\n",
       "    .dataframe tbody tr th:only-of-type {\n",
       "        vertical-align: middle;\n",
       "    }\n",
       "\n",
       "    .dataframe tbody tr th {\n",
       "        vertical-align: top;\n",
       "    }\n",
       "\n",
       "    .dataframe thead th {\n",
       "        text-align: right;\n",
       "    }\n",
       "</style>\n",
       "<table border=\"1\" class=\"dataframe\">\n",
       "  <thead>\n",
       "    <tr style=\"text-align: right;\">\n",
       "      <th></th>\n",
       "      <th>x1</th>\n",
       "      <th>x2</th>\n",
       "      <th>y</th>\n",
       "    </tr>\n",
       "  </thead>\n",
       "  <tbody>\n",
       "    <tr>\n",
       "      <th>x1</th>\n",
       "      <td>1.000000</td>\n",
       "      <td>-0.925814</td>\n",
       "      <td>0.935793</td>\n",
       "    </tr>\n",
       "    <tr>\n",
       "      <th>x2</th>\n",
       "      <td>-0.925814</td>\n",
       "      <td>1.000000</td>\n",
       "      <td>-0.922338</td>\n",
       "    </tr>\n",
       "    <tr>\n",
       "      <th>y</th>\n",
       "      <td>0.935793</td>\n",
       "      <td>-0.922338</td>\n",
       "      <td>1.000000</td>\n",
       "    </tr>\n",
       "  </tbody>\n",
       "</table>\n",
       "</div>"
      ],
      "text/plain": [
       "          x1        x2         y\n",
       "x1  1.000000 -0.925814  0.935793\n",
       "x2 -0.925814  1.000000 -0.922338\n",
       "y   0.935793 -0.922338  1.000000"
      ]
     },
     "execution_count": 10,
     "metadata": {},
     "output_type": "execute_result"
    }
   ],
   "source": [
    "# Membuat korelasi pearson menggunakan lib pandas\r\n",
    "corr = df.corr()\r\n",
    "corr"
   ]
  },
  {
   "cell_type": "code",
   "execution_count": 11,
   "metadata": {},
   "outputs": [
    {
     "data": {
      "text/plain": [
       "(0.9357932222393665, 1.9539745441900804e-11)"
      ]
     },
     "execution_count": 11,
     "metadata": {},
     "output_type": "execute_result"
    }
   ],
   "source": [
    "# Membuat korelasi pearson menggunakan lib scipy\r\n",
    "scipy.stats.pearsonr(df[\"x1\"], df[\"y\"])"
   ]
  },
  {
   "cell_type": "code",
   "execution_count": 12,
   "metadata": {},
   "outputs": [
    {
     "data": {
      "text/plain": [
       "(-0.9223375779383672, 1.4867135372874978e-10)"
      ]
     },
     "execution_count": 12,
     "metadata": {},
     "output_type": "execute_result"
    }
   ],
   "source": [
    "scipy.stats.pearsonr(df[\"x2\"], df[\"y\"])"
   ]
  },
  {
   "cell_type": "markdown",
   "metadata": {},
   "source": [
    "### Hipotesa Awal\n",
    "- Nilai Variabel bebas dan terikiat berbentuk data treen\n",
    "- Korelasi antara variabel bebas dan terikat memiliki hubungan yg sangat kuat\n",
    "- Antara sesama variabel bebas memiliki korelasi yag kuat.\n",
    "- Sehingga metode prediksi dapat dilakukan dengan metode regresi"
   ]
  },
  {
   "cell_type": "markdown",
   "metadata": {},
   "source": [
    "### Regresi Linier via Statsmodel + OLS"
   ]
  },
  {
   "cell_type": "markdown",
   "metadata": {},
   "source": [
    "- Nilai Y dipengaruhi oleh X1"
   ]
  },
  {
   "cell_type": "code",
   "execution_count": 13,
   "metadata": {},
   "outputs": [
    {
     "name": "stdout",
     "output_type": "stream",
     "text": [
      "                            OLS Regression Results                            \n",
      "==============================================================================\n",
      "Dep. Variable:                      y   R-squared:                       0.876\n",
      "Model:                            OLS   Adj. R-squared:                  0.870\n",
      "Method:                 Least Squares   F-statistic:                     155.0\n",
      "Date:                Wed, 27 Oct 2021   Prob (F-statistic):           1.95e-11\n",
      "Time:                        18:20:01   Log-Likelihood:                -136.94\n",
      "No. Observations:                  24   AIC:                             277.9\n",
      "Df Residuals:                      22   BIC:                             280.2\n",
      "Df Model:                           1                                         \n",
      "Covariance Type:            nonrobust                                         \n",
      "==============================================================================\n",
      "                 coef    std err          t      P>|t|      [0.025      0.975]\n",
      "------------------------------------------------------------------------------\n",
      "Intercept    -99.4643     95.210     -1.045      0.308    -296.918      97.990\n",
      "x1           564.2039     45.317     12.450      0.000     470.221     658.186\n",
      "==============================================================================\n",
      "Omnibus:                        5.361   Durbin-Watson:                   0.514\n",
      "Prob(Omnibus):                  0.069   Jarque-Bera (JB):                3.647\n",
      "Skew:                          -0.927   Prob(JB):                        0.161\n",
      "Kurtosis:                       3.459   Cond. No.                         15.8\n",
      "==============================================================================\n",
      "\n",
      "Notes:\n",
      "[1] Standard Errors assume that the covariance matrix of the errors is correctly specified.\n"
     ]
    }
   ],
   "source": [
    "# Membuat model regresi linier sederhana\n",
    "model_lin = sm.OLS.from_formula(\"y ~ x1\", data=df)\n",
    "result_lin = model_lin.fit()\n",
    "\n",
    "# Menampilkan hasil regresi\n",
    "print(result_lin.summary())"
   ]
  },
  {
   "cell_type": "markdown",
   "metadata": {},
   "source": [
    "- Nilai Y dipengaruhi oleh X2"
   ]
  },
  {
   "cell_type": "code",
   "execution_count": 14,
   "metadata": {},
   "outputs": [
    {
     "name": "stdout",
     "output_type": "stream",
     "text": [
      "                            OLS Regression Results                            \n",
      "==============================================================================\n",
      "Dep. Variable:                      y   R-squared:                       0.851\n",
      "Model:                            OLS   Adj. R-squared:                  0.844\n",
      "Method:                 Least Squares   F-statistic:                     125.4\n",
      "Date:                Wed, 27 Oct 2021   Prob (F-statistic):           1.49e-10\n",
      "Time:                        18:20:01   Log-Likelihood:                -139.14\n",
      "No. Observations:                  24   AIC:                             282.3\n",
      "Df Residuals:                      22   BIC:                             284.6\n",
      "Df Model:                           1                                         \n",
      "Covariance Type:            nonrobust                                         \n",
      "==============================================================================\n",
      "                 coef    std err          t      P>|t|      [0.025      0.975]\n",
      "------------------------------------------------------------------------------\n",
      "Intercept   4471.3393    304.254     14.696      0.000    3840.354    5102.324\n",
      "x2          -588.9621     52.602    -11.196      0.000    -698.053    -479.871\n",
      "==============================================================================\n",
      "Omnibus:                        0.397   Durbin-Watson:                   1.083\n",
      "Prob(Omnibus):                  0.820   Jarque-Bera (JB):                0.535\n",
      "Skew:                          -0.105   Prob(JB):                        0.765\n",
      "Kurtosis:                       2.299   Cond. No.                         107.\n",
      "==============================================================================\n",
      "\n",
      "Notes:\n",
      "[1] Standard Errors assume that the covariance matrix of the errors is correctly specified.\n"
     ]
    }
   ],
   "source": [
    "# Membuat model regresi linier sederhana\r\n",
    "model_lin = sm.OLS.from_formula(\"y ~ x2\", data=df)\r\n",
    "result_lin = model_lin.fit()\r\n",
    "\r\n",
    "# Menampilkan hasil regresi\r\n",
    "print(result_lin.summary())"
   ]
  },
  {
   "cell_type": "markdown",
   "metadata": {},
   "source": [
    "- Nilai Y dipengaruhi oleh X1 dan X2"
   ]
  },
  {
   "cell_type": "code",
   "execution_count": 15,
   "metadata": {},
   "outputs": [
    {
     "name": "stdout",
     "output_type": "stream",
     "text": [
      "                            OLS Regression Results                            \n",
      "==============================================================================\n",
      "Dep. Variable:                      y   R-squared:                       0.898\n",
      "Model:                            OLS   Adj. R-squared:                  0.888\n",
      "Method:                 Least Squares   F-statistic:                     92.07\n",
      "Date:                Wed, 27 Oct 2021   Prob (F-statistic):           4.04e-11\n",
      "Time:                        18:20:01   Log-Likelihood:                -134.61\n",
      "No. Observations:                  24   AIC:                             275.2\n",
      "Df Residuals:                      21   BIC:                             278.8\n",
      "Df Model:                           2                                         \n",
      "Covariance Type:            nonrobust                                         \n",
      "==============================================================================\n",
      "                 coef    std err          t      P>|t|      [0.025      0.975]\n",
      "------------------------------------------------------------------------------\n",
      "Intercept   1798.4040    899.248      2.000      0.059     -71.685    3668.493\n",
      "x1           345.5401    111.367      3.103      0.005     113.940     577.140\n",
      "x2          -250.1466    117.950     -2.121      0.046    -495.437      -4.856\n",
      "==============================================================================\n",
      "Omnibus:                        2.691   Durbin-Watson:                   0.530\n",
      "Prob(Omnibus):                  0.260   Jarque-Bera (JB):                1.551\n",
      "Skew:                          -0.612   Prob(JB):                        0.461\n",
      "Kurtosis:                       3.226   Cond. No.                         394.\n",
      "==============================================================================\n",
      "\n",
      "Notes:\n",
      "[1] Standard Errors assume that the covariance matrix of the errors is correctly specified.\n"
     ]
    }
   ],
   "source": [
    "# Membuat model regresi linier sederhana\n",
    "model_lin = sm.OLS.from_formula(\"y ~ x1 + x2\", data=df)\n",
    "result_lin = model_lin.fit()\n",
    "\n",
    "# Menampilkan hasil regresi\n",
    "print(result_lin.summary())"
   ]
  },
  {
   "cell_type": "markdown",
   "metadata": {},
   "source": [
    "### Regresi Linier via Scikit-Learn + OLS"
   ]
  },
  {
   "cell_type": "markdown",
   "metadata": {},
   "source": [
    "- Memisahkan variabel-variabel nya"
   ]
  },
  {
   "cell_type": "code",
   "execution_count": 16,
   "metadata": {},
   "outputs": [],
   "source": [
    "y = df[\"y\"]"
   ]
  },
  {
   "cell_type": "code",
   "execution_count": 17,
   "metadata": {},
   "outputs": [
    {
     "data": {
      "text/plain": [
       "19    866\n",
       "20    876\n",
       "21    822\n",
       "22    704\n",
       "23    719\n",
       "Name: y, dtype: int64"
      ]
     },
     "execution_count": 17,
     "metadata": {},
     "output_type": "execute_result"
    }
   ],
   "source": [
    "y.tail()"
   ]
  },
  {
   "cell_type": "code",
   "execution_count": 18,
   "metadata": {},
   "outputs": [],
   "source": [
    "x1 = df[\"x1\"]"
   ]
  },
  {
   "cell_type": "code",
   "execution_count": 19,
   "metadata": {},
   "outputs": [
    {
     "data": {
      "text/plain": [
       "19    1.75\n",
       "20    1.75\n",
       "21    1.75\n",
       "22    1.75\n",
       "23    1.75\n",
       "Name: x1, dtype: float64"
      ]
     },
     "execution_count": 19,
     "metadata": {},
     "output_type": "execute_result"
    }
   ],
   "source": [
    "x1.tail()"
   ]
  },
  {
   "cell_type": "code",
   "execution_count": 20,
   "metadata": {},
   "outputs": [],
   "source": [
    "x2 = df[\"x2\"]"
   ]
  },
  {
   "cell_type": "code",
   "execution_count": 21,
   "metadata": {},
   "outputs": [
    {
     "data": {
      "text/plain": [
       "19    6.1\n",
       "20    5.9\n",
       "21    6.2\n",
       "22    6.2\n",
       "23    6.1\n",
       "Name: x2, dtype: float64"
      ]
     },
     "execution_count": 21,
     "metadata": {},
     "output_type": "execute_result"
    }
   ],
   "source": [
    "x2.tail()"
   ]
  },
  {
   "cell_type": "markdown",
   "metadata": {},
   "source": [
    "- transformasi bentuk data menjadi 2 Dimensi"
   ]
  },
  {
   "cell_type": "code",
   "execution_count": 22,
   "metadata": {},
   "outputs": [
    {
     "data": {
      "text/plain": [
       "array([[2.75],\n",
       "       [2.5 ],\n",
       "       [2.5 ],\n",
       "       [2.5 ],\n",
       "       [2.5 ],\n",
       "       [2.5 ],\n",
       "       [2.5 ],\n",
       "       [2.25],\n",
       "       [2.25],\n",
       "       [2.25],\n",
       "       [2.  ],\n",
       "       [2.  ],\n",
       "       [2.  ],\n",
       "       [1.75],\n",
       "       [1.75],\n",
       "       [1.75],\n",
       "       [1.75],\n",
       "       [1.75],\n",
       "       [1.75],\n",
       "       [1.75],\n",
       "       [1.75],\n",
       "       [1.75],\n",
       "       [1.75],\n",
       "       [1.75]])"
      ]
     },
     "execution_count": 22,
     "metadata": {},
     "output_type": "execute_result"
    }
   ],
   "source": [
    "# transformasi data x1\r\n",
    "x1_matrix = x1.values.reshape(-1,1)\r\n",
    "x1_matrix"
   ]
  },
  {
   "cell_type": "code",
   "execution_count": 23,
   "metadata": {},
   "outputs": [
    {
     "data": {
      "text/plain": [
       "array([[5.3],\n",
       "       [5.3],\n",
       "       [5.3],\n",
       "       [5.3],\n",
       "       [5.4],\n",
       "       [5.6],\n",
       "       [5.5],\n",
       "       [5.5],\n",
       "       [5.5],\n",
       "       [5.6],\n",
       "       [5.7],\n",
       "       [5.9],\n",
       "       [6. ],\n",
       "       [5.9],\n",
       "       [5.8],\n",
       "       [6.1],\n",
       "       [6.2],\n",
       "       [6.1],\n",
       "       [6.1],\n",
       "       [6.1],\n",
       "       [5.9],\n",
       "       [6.2],\n",
       "       [6.2],\n",
       "       [6.1]])"
      ]
     },
     "execution_count": 23,
     "metadata": {},
     "output_type": "execute_result"
    }
   ],
   "source": [
    "# transformasi data x2\n",
    "x2_matrix = x2.values.reshape(-1,1)\n",
    "x2_matrix"
   ]
  },
  {
   "cell_type": "markdown",
   "metadata": {},
   "source": [
    "- Nilai Y dipengaruhi oleh X1"
   ]
  },
  {
   "cell_type": "code",
   "execution_count": 24,
   "metadata": {},
   "outputs": [
    {
     "data": {
      "text/plain": [
       "LinearRegression()"
      ]
     },
     "execution_count": 24,
     "metadata": {},
     "output_type": "execute_result"
    }
   ],
   "source": [
    "# membuat model regresi\n",
    "reg1 = LinearRegression()\n",
    "reg1.fit(x1_matrix,y)"
   ]
  },
  {
   "cell_type": "code",
   "execution_count": 25,
   "metadata": {},
   "outputs": [
    {
     "data": {
      "text/plain": [
       "-99.46431881371655"
      ]
     },
     "execution_count": 25,
     "metadata": {},
     "output_type": "execute_result"
    }
   ],
   "source": [
    "# Menghitung intercept (bias x1)\n",
    "reg1.intercept_"
   ]
  },
  {
   "cell_type": "code",
   "execution_count": 26,
   "metadata": {},
   "outputs": [
    {
     "data": {
      "text/plain": [
       "0.8757089547891359"
      ]
     },
     "execution_count": 26,
     "metadata": {},
     "output_type": "execute_result"
    }
   ],
   "source": [
    "# Menghitung slope. Jika y dipengaruhi oleh x1\n",
    "reg1.score(x1_matrix,y)"
   ]
  },
  {
   "cell_type": "code",
   "execution_count": 27,
   "metadata": {},
   "outputs": [
    {
     "data": {
      "text/plain": [
       "array([564.20389249])"
      ]
     },
     "execution_count": 27,
     "metadata": {},
     "output_type": "execute_result"
    }
   ],
   "source": [
    "# Menghitung koefisien x1\n",
    "reg1.coef_"
   ]
  },
  {
   "cell_type": "markdown",
   "metadata": {},
   "source": [
    "Note.....\n",
    "- rumus regresi Y = a + bX\n",
    "- Y = hasil prediksi (variabel terikat)\n",
    "- a = intercept\n",
    "- b = slope\n",
    "- X = koefisien regresi"
   ]
  },
  {
   "cell_type": "markdown",
   "metadata": {},
   "source": [
    "- Nilai Y dipengaruhi oleh X2"
   ]
  },
  {
   "cell_type": "code",
   "execution_count": 28,
   "metadata": {},
   "outputs": [
    {
     "data": {
      "text/plain": [
       "LinearRegression()"
      ]
     },
     "execution_count": 28,
     "metadata": {},
     "output_type": "execute_result"
    }
   ],
   "source": [
    "# membuat model regresi\n",
    "reg2 = LinearRegression()\n",
    "reg2.fit(x2_matrix,y)"
   ]
  },
  {
   "cell_type": "code",
   "execution_count": 29,
   "metadata": {},
   "outputs": [
    {
     "data": {
      "text/plain": [
       "4471.339321357287"
      ]
     },
     "execution_count": 29,
     "metadata": {},
     "output_type": "execute_result"
    }
   ],
   "source": [
    "# Menghitung intercept (bias x2)\n",
    "reg2.intercept_"
   ]
  },
  {
   "cell_type": "code",
   "execution_count": 30,
   "metadata": {},
   "outputs": [
    {
     "data": {
      "text/plain": [
       "0.850706607677214"
      ]
     },
     "execution_count": 30,
     "metadata": {},
     "output_type": "execute_result"
    }
   ],
   "source": [
    "# Menghitung slope. Jika y dipengaruhi oleh x2\n",
    "reg2.score(x2_matrix,y)"
   ]
  },
  {
   "cell_type": "code",
   "execution_count": 31,
   "metadata": {},
   "outputs": [
    {
     "data": {
      "text/plain": [
       "array([-588.96207585])"
      ]
     },
     "execution_count": 31,
     "metadata": {},
     "output_type": "execute_result"
    }
   ],
   "source": [
    "# Menghitung koefisien x2\n",
    "reg2.coef_"
   ]
  },
  {
   "cell_type": "markdown",
   "metadata": {},
   "source": [
    "Note.....\n",
    "- rumus regresi Y = a + bX\n",
    "- Y = hasil prediksi (variabel terikat)\n",
    "- a = intercept\n",
    "- b = slope\n",
    "- X = koefisien regresi"
   ]
  },
  {
   "cell_type": "markdown",
   "metadata": {},
   "source": [
    "### Hasil Prediksi Regresi Linier"
   ]
  },
  {
   "cell_type": "code",
   "execution_count": 32,
   "metadata": {},
   "outputs": [],
   "source": [
    "# Membuat prediksi regresi dengan inputan x1 dan x2\n",
    "# cara 1. menggunakan persamaan y = a + bX\n",
    "# y1_hat = reg1.coef_*x1_matrix+reg1.intercept_\n",
    "# y2_hat = reg2.coef_*x2_matrix+reg2.intercept_\n",
    "\n",
    "# cara 2. menggunakan fungsi predict\n",
    "y1_hat = reg1.predict(x1_matrix)\n",
    "y2_hat = reg2.predict(x2_matrix)"
   ]
  },
  {
   "cell_type": "code",
   "execution_count": 33,
   "metadata": {},
   "outputs": [
    {
     "data": {
      "text/plain": [
       "array([1452.09638554, 1311.04541242, 1311.04541242, 1311.04541242,\n",
       "       1311.04541242, 1311.04541242, 1311.04541242, 1169.9944393 ,\n",
       "       1169.9944393 , 1169.9944393 , 1028.94346617, 1028.94346617,\n",
       "       1028.94346617,  887.89249305,  887.89249305,  887.89249305,\n",
       "        887.89249305,  887.89249305,  887.89249305,  887.89249305,\n",
       "        887.89249305,  887.89249305,  887.89249305,  887.89249305])"
      ]
     },
     "execution_count": 33,
     "metadata": {},
     "output_type": "execute_result"
    }
   ],
   "source": [
    "# Hasil prediksi y dengan variabel bebas x1\r\n",
    "y1_hat"
   ]
  },
  {
   "cell_type": "code",
   "execution_count": 34,
   "metadata": {},
   "outputs": [
    {
     "data": {
      "text/plain": [
       "array([887.89249305])"
      ]
     },
     "execution_count": 34,
     "metadata": {},
     "output_type": "execute_result"
    }
   ],
   "source": [
    "# membuktikan model regresi y ~ x1 \n",
    "reg1.predict([[1.75]])"
   ]
  },
  {
   "cell_type": "code",
   "execution_count": 35,
   "metadata": {},
   "outputs": [
    {
     "data": {
      "text/plain": [
       "array([1349.84031936, 1349.84031936, 1349.84031936, 1349.84031936,\n",
       "       1290.94411178, 1173.15169661, 1232.04790419, 1232.04790419,\n",
       "       1232.04790419, 1173.15169661, 1114.25548902,  996.46307385,\n",
       "        937.56686627,  996.46307385, 1055.35928144,  878.67065868,\n",
       "        819.7744511 ,  878.67065868,  878.67065868,  878.67065868,\n",
       "        996.46307385,  819.7744511 ,  819.7744511 ,  878.67065868])"
      ]
     },
     "execution_count": 35,
     "metadata": {},
     "output_type": "execute_result"
    }
   ],
   "source": [
    "# Hasil prediksi y dengan variabel bebas x2\r\n",
    "y2_hat"
   ]
  },
  {
   "cell_type": "code",
   "execution_count": 36,
   "metadata": {},
   "outputs": [
    {
     "data": {
      "text/plain": [
       "array([878.67065868])"
      ]
     },
     "execution_count": 36,
     "metadata": {},
     "output_type": "execute_result"
    }
   ],
   "source": [
    "# membuktikan model regresi y ~ x2\n",
    "reg2.predict([[6.1]])"
   ]
  },
  {
   "cell_type": "markdown",
   "metadata": {},
   "source": [
    "- memasukan hasil prediksi ke dataset"
   ]
  },
  {
   "cell_type": "code",
   "execution_count": 37,
   "metadata": {},
   "outputs": [],
   "source": [
    "df[\"y_x1\"] = pd.DataFrame(y1_hat)"
   ]
  },
  {
   "cell_type": "code",
   "execution_count": 38,
   "metadata": {},
   "outputs": [],
   "source": [
    "df[\"y_x2\"] = pd.DataFrame(y2_hat)"
   ]
  },
  {
   "cell_type": "code",
   "execution_count": 39,
   "metadata": {},
   "outputs": [
    {
     "data": {
      "text/html": [
       "<div>\n",
       "<style scoped>\n",
       "    .dataframe tbody tr th:only-of-type {\n",
       "        vertical-align: middle;\n",
       "    }\n",
       "\n",
       "    .dataframe tbody tr th {\n",
       "        vertical-align: top;\n",
       "    }\n",
       "\n",
       "    .dataframe thead th {\n",
       "        text-align: right;\n",
       "    }\n",
       "</style>\n",
       "<table border=\"1\" class=\"dataframe\">\n",
       "  <thead>\n",
       "    <tr style=\"text-align: right;\">\n",
       "      <th></th>\n",
       "      <th>tahun</th>\n",
       "      <th>x1</th>\n",
       "      <th>x2</th>\n",
       "      <th>y</th>\n",
       "      <th>y_x1</th>\n",
       "      <th>y_x2</th>\n",
       "    </tr>\n",
       "  </thead>\n",
       "  <tbody>\n",
       "    <tr>\n",
       "      <th>19</th>\n",
       "      <td>2016-05-01</td>\n",
       "      <td>1.75</td>\n",
       "      <td>6.1</td>\n",
       "      <td>866</td>\n",
       "      <td>887.892493</td>\n",
       "      <td>878.670659</td>\n",
       "    </tr>\n",
       "    <tr>\n",
       "      <th>20</th>\n",
       "      <td>2016-04-01</td>\n",
       "      <td>1.75</td>\n",
       "      <td>5.9</td>\n",
       "      <td>876</td>\n",
       "      <td>887.892493</td>\n",
       "      <td>996.463074</td>\n",
       "    </tr>\n",
       "    <tr>\n",
       "      <th>21</th>\n",
       "      <td>2016-03-01</td>\n",
       "      <td>1.75</td>\n",
       "      <td>6.2</td>\n",
       "      <td>822</td>\n",
       "      <td>887.892493</td>\n",
       "      <td>819.774451</td>\n",
       "    </tr>\n",
       "    <tr>\n",
       "      <th>22</th>\n",
       "      <td>2016-02-01</td>\n",
       "      <td>1.75</td>\n",
       "      <td>6.2</td>\n",
       "      <td>704</td>\n",
       "      <td>887.892493</td>\n",
       "      <td>819.774451</td>\n",
       "    </tr>\n",
       "    <tr>\n",
       "      <th>23</th>\n",
       "      <td>2016-01-01</td>\n",
       "      <td>1.75</td>\n",
       "      <td>6.1</td>\n",
       "      <td>719</td>\n",
       "      <td>887.892493</td>\n",
       "      <td>878.670659</td>\n",
       "    </tr>\n",
       "  </tbody>\n",
       "</table>\n",
       "</div>"
      ],
      "text/plain": [
       "        tahun    x1   x2    y        y_x1        y_x2\n",
       "19 2016-05-01  1.75  6.1  866  887.892493  878.670659\n",
       "20 2016-04-01  1.75  5.9  876  887.892493  996.463074\n",
       "21 2016-03-01  1.75  6.2  822  887.892493  819.774451\n",
       "22 2016-02-01  1.75  6.2  704  887.892493  819.774451\n",
       "23 2016-01-01  1.75  6.1  719  887.892493  878.670659"
      ]
     },
     "execution_count": 39,
     "metadata": {},
     "output_type": "execute_result"
    }
   ],
   "source": [
    "df.tail()"
   ]
  },
  {
   "cell_type": "markdown",
   "metadata": {},
   "source": [
    "### Visualsi Data Regresi linier"
   ]
  },
  {
   "cell_type": "code",
   "execution_count": 40,
   "metadata": {},
   "outputs": [
    {
     "data": {
      "image/png": "[encoded data removed]",
      "text/plain": [
       "<Figure size 1440x432 with 2 Axes>"
      ]
     },
     "metadata": {
      "needs_background": "light"
     },
     "output_type": "display_data"
    }
   ],
   "source": [
    "##------------------------------------------------------------------------------------------------------------\n",
    "# Melihat pergerakan variabel bebas dengan variabel terikat\n",
    "fig, (ax1, ax2) = plt.subplots(1, 2, figsize = (20,6))\n",
    "\n",
    "# Membuat plot 1\n",
    "ax1.scatter(x1,y) # membuat garis regresi\n",
    "ax1.plot(x1, y1_hat, color='orange', label='Regression Line x1 dengan Y', lw=4)\n",
    "\n",
    "# membuat label-label plot 1\n",
    "ax1.set_title('Visualisasi Regresi Linier X1 dengan Y', fontsize=14)\n",
    "ax1.set_xlabel('Jumlah Data X1', fontsize=12)\n",
    "ax1.set_ylabel('Jumlah Data Y', fontsize=12)\n",
    "ax1.legend(loc='upper left')\n",
    "ax1.grid(True)\n",
    "\n",
    "# Membuat plot 2\n",
    "ax2.scatter(x2,y) # membuat garis regresi\n",
    "ax2.plot(x2, y2_hat, color='orange', label='Regression Line x2 dengan Y', lw=4)\n",
    "\n",
    "# membuat label-label plot 2\n",
    "ax2.set_title('Visualisasi Regresi Linier X2 dengan Y', fontsize=14)\n",
    "ax2.set_xlabel('Jumlah Data X2', fontsize=12)\n",
    "ax2.set_ylabel('Jumlah Data Y', fontsize=12)\n",
    "ax2.legend(loc='upper right')\n",
    "ax2.grid(True)\n",
    "\n",
    "# Menampilkan Hasil Visualisasi\n",
    "plt.show()"
   ]
  },
  {
   "cell_type": "code",
   "execution_count": 41,
   "metadata": {},
   "outputs": [
    {
     "data": {
      "image/png": "[encoded data removed]",
      "text/plain": [
       "<Figure size 1440x432 with 2 Axes>"
      ]
     },
     "metadata": {
      "needs_background": "light"
     },
     "output_type": "display_data"
    }
   ],
   "source": [
    "##------------------------------------------------------------------------------------------------------------\r\n",
    "# Melihat pergerakan variabel bebas dengan variabel terikat\r\n",
    "fig, (ax1, ax2) = plt.subplots(1, 2, figsize = (20,6))\r\n",
    "\r\n",
    "# Membuat plot 1\r\n",
    "ax1.scatter(df[\"x1\"], df[\"y\"], color='tab:blue', label='Data Aktual', linewidth=7, alpha=0.5)\r\n",
    "ax1.scatter(df[\"x1\"], df[\"y_x1\"], color='tab:red', label='Data Prediksi', linewidth=7)\r\n",
    "\r\n",
    "# membuat label-label plot 1\r\n",
    "ax1.set_title('Komparasi Data Aktual dengan Data Prediksi \\n Variabel Bebas nya X1', fontsize=14)\r\n",
    "ax1.set_xlabel('Jumlah Data X1', fontsize=12)\r\n",
    "ax1.set_ylabel('Jumlah Data Y', fontsize=12)\r\n",
    "ax1.legend(loc='upper left')\r\n",
    "ax1.grid(True)\r\n",
    "\r\n",
    "#ax2.plot(df_copy.index.values, df_copy[\"x2\"], color='tab:blue', marker='o', label='Variabel Bebas x2', linewidth=2.5)\r\n",
    "\r\n",
    "# Membuat plot 2\r\n",
    "ax2.scatter(df[\"x2\"], df[\"y\"], color='tab:blue', label='Data Aktual', linewidth=7, alpha=0.5)\r\n",
    "ax2.scatter(df[\"x2\"], df[\"y_x2\"], color='tab:red', label='Data Prediksi', linewidth=7)\r\n",
    "\r\n",
    "# membuat label-label plot 2\r\n",
    "ax2.set_title('Komparasi Data Aktual dengan Data Prediksi \\n Variabel Bebas nya X2', fontsize=14)\r\n",
    "ax2.set_xlabel('Jumlah Data X2', fontsize=12)\r\n",
    "ax2.set_ylabel('Jumlah Data Y', fontsize=12)\r\n",
    "ax2.legend(loc='upper right')\r\n",
    "ax2.grid(True)\r\n",
    "\r\n",
    "# Menampilkan Hasil Visualisasi\r\n",
    "plt.show()"
   ]
  },
  {
   "cell_type": "code",
   "execution_count": null,
   "metadata": {},
   "outputs": [],
   "source": []
  }
 ],
 "metadata": {
  "interpreter": {
   "hash": "af8c20166cad848477e998d1598fb9b9ed106df038381b17b4e27391b8c3c5c3"
  },
  "kernelspec": {
   "display_name": "Python 3",
   "language": "python",
   "name": "python3"
  },
  "language_info": {
   "codemirror_mode": {
    "name": "ipython",
    "version": 3
   },
   "file_extension": ".py",
   "mimetype": "text/x-python",
   "name": "python",
   "nbconvert_exporter": "python",
   "pygments_lexer": "ipython3",
   "version": "3.8.5"
  }
 },
 "nbformat": 4,
 "nbformat_minor": 4
}
