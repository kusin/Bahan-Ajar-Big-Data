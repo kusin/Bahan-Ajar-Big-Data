{
 "cells": [
  {
   "cell_type": "markdown",
   "metadata": {},
   "source": [
    "## Praproses Data Curah Hujan. Sumber CRU Climate TS 4.05"
   ]
  },
  {
   "cell_type": "markdown",
   "metadata": {},
   "source": [
    "- https://data.ceda.ac.uk/badc/cru/data/cru_ts/cru_ts_4.05"
   ]
  },
  {
   "cell_type": "code",
   "execution_count": 1,
   "metadata": {},
   "outputs": [],
   "source": [
    "# Pustaka untuk manipulasi data tabular\n",
    "import numpy as np\n",
    "import pandas as pd\n",
    "\n",
    "# Pustaka untuk membaca format nc\n",
    "import xarray as xr\n",
    "from netCDF4 import Dataset\n",
    "\n",
    "# Pustaka untuk visualisasi data\n",
    "import matplotlib.pyplot as plt\n",
    "%matplotlib inline"
   ]
  },
  {
   "cell_type": "markdown",
   "metadata": {},
   "source": [
    "#### 1. Akusisi Data"
   ]
  },
  {
   "cell_type": "code",
   "execution_count": 2,
   "metadata": {},
   "outputs": [],
   "source": [
    "# mebaca dataset 2001 - 2010\n",
    "df1 = xr.open_dataset(\"D:/Belajar Python/tesis/dataset/cru_ts4.05.2001.2010.pre.dat.nc\")"
   ]
  },
  {
   "cell_type": "code",
   "execution_count": 3,
   "metadata": {},
   "outputs": [],
   "source": [
    "# mebaca dataset 2011 - 2020\n",
    "df2 = xr.open_dataset(\"D:/Belajar Python/tesis/dataset/cru_ts4.05.2011.2020.pre.dat.nc\")"
   ]
  },
  {
   "cell_type": "markdown",
   "metadata": {},
   "source": [
    "#### 2. Praproses data tahun 2001 - 2010"
   ]
  },
  {
   "cell_type": "code",
   "execution_count": 4,
   "metadata": {},
   "outputs": [],
   "source": [
    "# menentukan lokasi sumatera selatan\n",
    "df1 = df1.sel(lon=103.914399,lat=-3.3194374,method='nearest')"
   ]
  },
  {
   "cell_type": "code",
   "execution_count": 5,
   "metadata": {},
   "outputs": [],
   "source": [
    "# merubah format spasial temporal menjadi tabular\n",
    "x = df1.to_dataframe()"
   ]
  },
  {
   "cell_type": "code",
   "execution_count": 6,
   "metadata": {},
   "outputs": [],
   "source": [
    "# reset index berdasarkan tanggal\n",
    "x = x.reset_index()"
   ]
  },
  {
   "cell_type": "code",
   "execution_count": 7,
   "metadata": {},
   "outputs": [
    {
     "data": {
      "text/html": [
       "<div>\n",
       "<style scoped>\n",
       "    .dataframe tbody tr th:only-of-type {\n",
       "        vertical-align: middle;\n",
       "    }\n",
       "\n",
       "    .dataframe tbody tr th {\n",
       "        vertical-align: top;\n",
       "    }\n",
       "\n",
       "    .dataframe thead th {\n",
       "        text-align: right;\n",
       "    }\n",
       "</style>\n",
       "<table border=\"1\" class=\"dataframe\">\n",
       "  <thead>\n",
       "    <tr style=\"text-align: right;\">\n",
       "      <th></th>\n",
       "      <th>time</th>\n",
       "      <th>lon</th>\n",
       "      <th>lat</th>\n",
       "      <th>pre</th>\n",
       "      <th>stn</th>\n",
       "    </tr>\n",
       "  </thead>\n",
       "  <tbody>\n",
       "    <tr>\n",
       "      <th>0</th>\n",
       "      <td>2001-01-16</td>\n",
       "      <td>103.75</td>\n",
       "      <td>-3.25</td>\n",
       "      <td>418.600006</td>\n",
       "      <td>3.0</td>\n",
       "    </tr>\n",
       "    <tr>\n",
       "      <th>1</th>\n",
       "      <td>2001-02-15</td>\n",
       "      <td>103.75</td>\n",
       "      <td>-3.25</td>\n",
       "      <td>295.399994</td>\n",
       "      <td>3.0</td>\n",
       "    </tr>\n",
       "    <tr>\n",
       "      <th>2</th>\n",
       "      <td>2001-03-16</td>\n",
       "      <td>103.75</td>\n",
       "      <td>-3.25</td>\n",
       "      <td>360.600006</td>\n",
       "      <td>3.0</td>\n",
       "    </tr>\n",
       "    <tr>\n",
       "      <th>3</th>\n",
       "      <td>2001-04-16</td>\n",
       "      <td>103.75</td>\n",
       "      <td>-3.25</td>\n",
       "      <td>403.700012</td>\n",
       "      <td>3.0</td>\n",
       "    </tr>\n",
       "    <tr>\n",
       "      <th>4</th>\n",
       "      <td>2001-05-16</td>\n",
       "      <td>103.75</td>\n",
       "      <td>-3.25</td>\n",
       "      <td>116.900002</td>\n",
       "      <td>3.0</td>\n",
       "    </tr>\n",
       "  </tbody>\n",
       "</table>\n",
       "</div>"
      ],
      "text/plain": [
       "        time     lon   lat         pre  stn\n",
       "0 2001-01-16  103.75 -3.25  418.600006  3.0\n",
       "1 2001-02-15  103.75 -3.25  295.399994  3.0\n",
       "2 2001-03-16  103.75 -3.25  360.600006  3.0\n",
       "3 2001-04-16  103.75 -3.25  403.700012  3.0\n",
       "4 2001-05-16  103.75 -3.25  116.900002  3.0"
      ]
     },
     "execution_count": 7,
     "metadata": {},
     "output_type": "execute_result"
    }
   ],
   "source": [
    "# menampilkan isi data\n",
    "x.head()"
   ]
  },
  {
   "cell_type": "markdown",
   "metadata": {},
   "source": [
    "#### 3. Praproses data tahun 2010 - 2020"
   ]
  },
  {
   "cell_type": "code",
   "execution_count": 8,
   "metadata": {},
   "outputs": [],
   "source": [
    "# menentukan lokasi sumatera selatan\n",
    "df2 = df2.sel(lon=103.914399,lat=-3.3194374,method='nearest')"
   ]
  },
  {
   "cell_type": "code",
   "execution_count": 9,
   "metadata": {},
   "outputs": [],
   "source": [
    "# merubah format spasial temporal menjadi tabular\n",
    "y = df2.to_dataframe()"
   ]
  },
  {
   "cell_type": "code",
   "execution_count": 10,
   "metadata": {},
   "outputs": [],
   "source": [
    "# reset index berdasarkan tanggal\n",
    "y = y.reset_index()"
   ]
  },
  {
   "cell_type": "code",
   "execution_count": 11,
   "metadata": {},
   "outputs": [
    {
     "data": {
      "text/html": [
       "<div>\n",
       "<style scoped>\n",
       "    .dataframe tbody tr th:only-of-type {\n",
       "        vertical-align: middle;\n",
       "    }\n",
       "\n",
       "    .dataframe tbody tr th {\n",
       "        vertical-align: top;\n",
       "    }\n",
       "\n",
       "    .dataframe thead th {\n",
       "        text-align: right;\n",
       "    }\n",
       "</style>\n",
       "<table border=\"1\" class=\"dataframe\">\n",
       "  <thead>\n",
       "    <tr style=\"text-align: right;\">\n",
       "      <th></th>\n",
       "      <th>time</th>\n",
       "      <th>lon</th>\n",
       "      <th>lat</th>\n",
       "      <th>pre</th>\n",
       "      <th>stn</th>\n",
       "    </tr>\n",
       "  </thead>\n",
       "  <tbody>\n",
       "    <tr>\n",
       "      <th>0</th>\n",
       "      <td>2011-01-16</td>\n",
       "      <td>103.75</td>\n",
       "      <td>-3.25</td>\n",
       "      <td>389.899994</td>\n",
       "      <td>5.0</td>\n",
       "    </tr>\n",
       "    <tr>\n",
       "      <th>1</th>\n",
       "      <td>2011-02-15</td>\n",
       "      <td>103.75</td>\n",
       "      <td>-3.25</td>\n",
       "      <td>308.200012</td>\n",
       "      <td>6.0</td>\n",
       "    </tr>\n",
       "    <tr>\n",
       "      <th>2</th>\n",
       "      <td>2011-03-16</td>\n",
       "      <td>103.75</td>\n",
       "      <td>-3.25</td>\n",
       "      <td>360.899994</td>\n",
       "      <td>6.0</td>\n",
       "    </tr>\n",
       "    <tr>\n",
       "      <th>3</th>\n",
       "      <td>2011-04-16</td>\n",
       "      <td>103.75</td>\n",
       "      <td>-3.25</td>\n",
       "      <td>422.300018</td>\n",
       "      <td>5.0</td>\n",
       "    </tr>\n",
       "    <tr>\n",
       "      <th>4</th>\n",
       "      <td>2011-05-16</td>\n",
       "      <td>103.75</td>\n",
       "      <td>-3.25</td>\n",
       "      <td>147.199997</td>\n",
       "      <td>3.0</td>\n",
       "    </tr>\n",
       "  </tbody>\n",
       "</table>\n",
       "</div>"
      ],
      "text/plain": [
       "        time     lon   lat         pre  stn\n",
       "0 2011-01-16  103.75 -3.25  389.899994  5.0\n",
       "1 2011-02-15  103.75 -3.25  308.200012  6.0\n",
       "2 2011-03-16  103.75 -3.25  360.899994  6.0\n",
       "3 2011-04-16  103.75 -3.25  422.300018  5.0\n",
       "4 2011-05-16  103.75 -3.25  147.199997  3.0"
      ]
     },
     "execution_count": 11,
     "metadata": {},
     "output_type": "execute_result"
    }
   ],
   "source": [
    "# menampilkan isi data\n",
    "y.head()"
   ]
  },
  {
   "cell_type": "markdown",
   "metadata": {},
   "source": [
    "#### 4. Penggabungan Data 2001 - 2020"
   ]
  },
  {
   "cell_type": "code",
   "execution_count": 12,
   "metadata": {},
   "outputs": [],
   "source": [
    "# Proses penggabungan data\n",
    "result = pd.concat([x, y])"
   ]
  },
  {
   "cell_type": "code",
   "execution_count": 25,
   "metadata": {},
   "outputs": [
    {
     "data": {
      "text/html": [
       "<div>\n",
       "<style scoped>\n",
       "    .dataframe tbody tr th:only-of-type {\n",
       "        vertical-align: middle;\n",
       "    }\n",
       "\n",
       "    .dataframe tbody tr th {\n",
       "        vertical-align: top;\n",
       "    }\n",
       "\n",
       "    .dataframe thead th {\n",
       "        text-align: right;\n",
       "    }\n",
       "</style>\n",
       "<table border=\"1\" class=\"dataframe\">\n",
       "  <thead>\n",
       "    <tr style=\"text-align: right;\">\n",
       "      <th></th>\n",
       "      <th>time</th>\n",
       "      <th>lon</th>\n",
       "      <th>lat</th>\n",
       "      <th>pre</th>\n",
       "      <th>stn</th>\n",
       "    </tr>\n",
       "  </thead>\n",
       "  <tbody>\n",
       "    <tr>\n",
       "      <th>0</th>\n",
       "      <td>2001-01-16</td>\n",
       "      <td>103.75</td>\n",
       "      <td>-3.25</td>\n",
       "      <td>418.600006</td>\n",
       "      <td>3.0</td>\n",
       "    </tr>\n",
       "    <tr>\n",
       "      <th>1</th>\n",
       "      <td>2001-02-15</td>\n",
       "      <td>103.75</td>\n",
       "      <td>-3.25</td>\n",
       "      <td>295.399994</td>\n",
       "      <td>3.0</td>\n",
       "    </tr>\n",
       "    <tr>\n",
       "      <th>2</th>\n",
       "      <td>2001-03-16</td>\n",
       "      <td>103.75</td>\n",
       "      <td>-3.25</td>\n",
       "      <td>360.600006</td>\n",
       "      <td>3.0</td>\n",
       "    </tr>\n",
       "    <tr>\n",
       "      <th>3</th>\n",
       "      <td>2001-04-16</td>\n",
       "      <td>103.75</td>\n",
       "      <td>-3.25</td>\n",
       "      <td>403.700012</td>\n",
       "      <td>3.0</td>\n",
       "    </tr>\n",
       "    <tr>\n",
       "      <th>4</th>\n",
       "      <td>2001-05-16</td>\n",
       "      <td>103.75</td>\n",
       "      <td>-3.25</td>\n",
       "      <td>116.900002</td>\n",
       "      <td>3.0</td>\n",
       "    </tr>\n",
       "    <tr>\n",
       "      <th>...</th>\n",
       "      <td>...</td>\n",
       "      <td>...</td>\n",
       "      <td>...</td>\n",
       "      <td>...</td>\n",
       "      <td>...</td>\n",
       "    </tr>\n",
       "    <tr>\n",
       "      <th>115</th>\n",
       "      <td>2020-08-16</td>\n",
       "      <td>103.75</td>\n",
       "      <td>-3.25</td>\n",
       "      <td>82.700005</td>\n",
       "      <td>6.0</td>\n",
       "    </tr>\n",
       "    <tr>\n",
       "      <th>116</th>\n",
       "      <td>2020-09-16</td>\n",
       "      <td>103.75</td>\n",
       "      <td>-3.25</td>\n",
       "      <td>211.800003</td>\n",
       "      <td>6.0</td>\n",
       "    </tr>\n",
       "    <tr>\n",
       "      <th>117</th>\n",
       "      <td>2020-10-16</td>\n",
       "      <td>103.75</td>\n",
       "      <td>-3.25</td>\n",
       "      <td>437.300018</td>\n",
       "      <td>4.0</td>\n",
       "    </tr>\n",
       "    <tr>\n",
       "      <th>118</th>\n",
       "      <td>2020-11-16</td>\n",
       "      <td>103.75</td>\n",
       "      <td>-3.25</td>\n",
       "      <td>237.400009</td>\n",
       "      <td>5.0</td>\n",
       "    </tr>\n",
       "    <tr>\n",
       "      <th>119</th>\n",
       "      <td>2020-12-16</td>\n",
       "      <td>103.75</td>\n",
       "      <td>-3.25</td>\n",
       "      <td>405.800018</td>\n",
       "      <td>4.0</td>\n",
       "    </tr>\n",
       "  </tbody>\n",
       "</table>\n",
       "<p>240 rows × 5 columns</p>\n",
       "</div>"
      ],
      "text/plain": [
       "          time     lon   lat         pre  stn\n",
       "0   2001-01-16  103.75 -3.25  418.600006  3.0\n",
       "1   2001-02-15  103.75 -3.25  295.399994  3.0\n",
       "2   2001-03-16  103.75 -3.25  360.600006  3.0\n",
       "3   2001-04-16  103.75 -3.25  403.700012  3.0\n",
       "4   2001-05-16  103.75 -3.25  116.900002  3.0\n",
       "..         ...     ...   ...         ...  ...\n",
       "115 2020-08-16  103.75 -3.25   82.700005  6.0\n",
       "116 2020-09-16  103.75 -3.25  211.800003  6.0\n",
       "117 2020-10-16  103.75 -3.25  437.300018  4.0\n",
       "118 2020-11-16  103.75 -3.25  237.400009  5.0\n",
       "119 2020-12-16  103.75 -3.25  405.800018  4.0\n",
       "\n",
       "[240 rows x 5 columns]"
      ]
     },
     "execution_count": 25,
     "metadata": {},
     "output_type": "execute_result"
    }
   ],
   "source": [
    "result"
   ]
  },
  {
   "cell_type": "markdown",
   "metadata": {},
   "source": [
    "#### 5. Export pandas to excel"
   ]
  },
  {
   "cell_type": "code",
   "execution_count": 26,
   "metadata": {},
   "outputs": [],
   "source": [
    "# result.to_excel(\"output.xlsx\",index = False)"
   ]
  },
  {
   "cell_type": "markdown",
   "metadata": {},
   "source": [
    "#### Visualisasi Data Timne Series"
   ]
  },
  {
   "cell_type": "code",
   "execution_count": 19,
   "metadata": {},
   "outputs": [
    {
     "data": {
      "image/png": "[encoded data removed]",
      "text/plain": [
       "<Figure size 720x360 with 1 Axes>"
      ]
     },
     "metadata": {
      "needs_background": "light"
     },
     "output_type": "display_data"
    }
   ],
   "source": [
    "# membuat frame\n",
    "fig, ax = plt.subplots(figsize = (10,5))\n",
    "\n",
    "# membuat time series plot\n",
    "ax.plot(result[\"time\"], result[\"pre\"], color=\"tab:blue\", label=\"curah hujan\", linewidth=2.5)\n",
    "\n",
    "# membuat label-label\n",
    "ax.set_title(\"Curah Hujan Sumatera Sekatan 2001 - 2020\", fontsize=14)\n",
    "ax.set_xlabel(\"Tanggal\", fontsize=12)\n",
    "ax.set_ylabel(\"Intensitas curah hujan\", fontsize=12)\n",
    "ax.legend(loc='upper right')\n",
    "ax.grid(True)\n",
    "\n",
    "# menampilkan plot\n",
    "plt.show()"
   ]
  },
  {
   "cell_type": "code",
   "execution_count": null,
   "metadata": {},
   "outputs": [],
   "source": []
  }
 ],
 "metadata": {
  "kernelspec": {
   "display_name": "Python 3",
   "language": "python",
   "name": "python3"
  },
  "language_info": {
   "codemirror_mode": {
    "name": "ipython",
    "version": 3
   },
   "file_extension": ".py",
   "mimetype": "text/x-python",
   "name": "python",
   "nbconvert_exporter": "python",
   "pygments_lexer": "ipython3",
   "version": "3.8.5"
  }
 },
 "nbformat": 4,
 "nbformat_minor": 4
}
